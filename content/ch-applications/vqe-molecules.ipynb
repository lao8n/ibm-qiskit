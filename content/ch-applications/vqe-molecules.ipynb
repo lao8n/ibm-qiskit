{
 "cells": [
  {
   "cell_type": "markdown",
   "metadata": {
    "tags": [
     "remove_cell"
    ]
   },
   "source": [
    "# Simulating Molecules using VQE"
   ]
  },
  {
   "cell_type": "markdown",
   "metadata": {},
   "source": [
    "In this tutorial, we introduce the Variational Quantum Eigensolver (VQE), motivate its use, explain the necessary theory, and demonstrate its implementation in finding the ground state energy of molecules.\n",
    "\n",
    "## Contents\n",
    "1. [Introduction](#introduction)\n",
    "2. [The Variational Method of Quantum Mechanics](#varmethod)\n",
    "    1. [Mathematical Background](#backgroundmath)\n",
    "    2. [Bounding the Ground State](#groundstate)\n",
    "3. [The Variational Quantum Eigensolver](#vqe)\n",
    "    1. [Variational Forms](#varforms)\n",
    "    2. [Simple Variational Forms](#simplevarform)\n",
    "    3. [Parameter Optimization](#optimization)\n",
    "    4. [Example with a Single Qubit Variational Form](#example)\n",
    "    5. [Structure of Common Variational Forms](#commonvarforms)\n",
    "4. [VQE Implementation in Qiskit](#implementation)\n",
    "    1. [Running VQE on a Statevector Simulator](#implementationstatevec)\n",
    "    2. [Running VQE on a Noisy Simulator](#implementationnoisy)\n",
    "5. [Problems](#problems)\n",
    "6. [References](#references)"
   ]
  },
  {
   "cell_type": "markdown",
   "metadata": {},
   "source": [
    "## Introduction<a id='introduction'></a>\n",
    "In many applications it is important to find the minimum eigenvalue of a matrix. For example, in chemistry, the minimum eigenvalue of a Hermitian matrix characterizing the molecule is the ground state energy of that system. In the future, the quantum phase estimation algorithm may be used to find the minimum eigenvalue. However, its implementation on useful problems requires circuit depths exceeding the limits of hardware available in the NISQ era. Thus, in 2014, Peruzzo *et al.* proposed VQE to estimate the ground state energy of a molecule using much shallower circuits [1]. \n",
    "\n",
    "Formally stated, given a Hermitian matrix $H$ with an unknown minimum eigenvalue $\\lambda_{min}$, associated with the eigenstate $|\\psi_{min}\\rangle$, VQE provides an estimate $\\lambda_{\\theta}$ bounding $\\lambda_{min}$:\n",
    "\n",
    "\\begin{align*}\n",
    "    \\lambda_{min} \\le \\lambda_{\\theta} \\equiv \\langle \\psi(\\theta) |H|\\psi(\\theta) \\rangle\n",
    "\\end{align*}  \n",
    "\n",
    "where $|\\psi(\\theta)\\rangle$ is the eigenstate associated with $\\lambda_{\\theta}$. By applying a parameterized circuit, represented by $U(\\theta)$, to some arbitrary starting state $|\\psi\\rangle$, the algorithm obtains an estimate $U(\\theta)|\\psi\\rangle \\equiv |\\psi(\\theta)\\rangle$ on $|\\psi_{min}\\rangle$. The estimate is iteratively optimized by a classical controller changing the parameter $\\theta$ minimizing the expectation value of $\\langle \\psi(\\theta) |H|\\psi(\\theta) \\rangle$.\n",
    "\n"
   ]
  },
  {
   "cell_type": "markdown",
   "metadata": {},
   "source": [
    "## The Variational Method of Quantum Mechanics<a id='varmethod'></a>\n",
    "### Mathematical Background<a id='backgroundmath'></a>\n",
    "\n",
    "VQE is an application of the variational method of quantum mechanics. To better understand the variational method, some preliminary mathematical background is provided. An eigenvector, $|\\psi_i\\rangle$, of a matrix $A$ is invariant under transformation by $A$ up to a scalar multiplicative constant (the eigenvalue $\\lambda_i$). That is,\n",
    "\n",
    "\\begin{align*}\n",
    "    A |\\psi_i\\rangle = \\lambda_i |\\psi_i\\rangle\n",
    "\\end{align*}\n",
    "\n",
    "Furthermore, a matrix $H$ is Hermitian when it is equal to its own conjugate transpose.\n",
    "\n",
    "\\begin{align*}\n",
    "    H = H^{\\dagger}\n",
    "\\end{align*}\n",
    "\n",
    "The spectral theorem states that the eigenvalues of a Hermitian matrix must be real. Thus, any eigenvalue of $H$ has the property that $\\lambda_i = \\lambda_i^*$. As any measurable quantity must be real, Hermitian matrices are suitable for describing the Hamiltonians of quantum systems. Moreover, $H$ may be expressed as\n",
    "\n",
    "\\begin{align*}\n",
    "    H = \\sum_{i = 1}^{N} \\lambda_i |\\psi_i\\rangle \\langle \\psi_i |\n",
    "\\end{align*}\n",
    "\n",
    "where each $\\lambda_i$ is the eigenvalue corresponding to the eigenvector $|\\psi_i\\rangle$. Furthermore, the expectation value of the observable $H$ on an arbitrary quantum state $|\\psi\\rangle$ is given by \n",
    "\n",
    "\\begin{align}\n",
    "    \\langle H \\rangle_{\\psi} &\\equiv \\langle \\psi | H | \\psi \\rangle\n",
    "\\end{align}\n",
    "\n",
    "Substituting $H$ with its representation as a weighted sum of its eigenvectors,\n",
    "\n",
    "\\begin{align}\n",
    "    \\langle H \\rangle_{\\psi} = \\langle \\psi | H | \\psi \\rangle &= \\langle \\psi | \\left(\\sum_{i = 1}^{N} \\lambda_i |\\psi_i\\rangle \\langle \\psi_i |\\right) |\\psi\\rangle\\\\\n",
    "    &= \\sum_{i = 1}^{N} \\lambda_i \\langle \\psi | \\psi_i\\rangle \\langle \\psi_i | \\psi\\rangle \\\\\n",
    "    &= \\sum_{i = 1}^{N} \\lambda_i | \\langle \\psi_i | \\psi\\rangle |^2\n",
    "\\end{align}\n",
    "\n",
    "\n",
    "The last equation demonstrates that the expectation value of an observable on any state can be expressed as a linear combination using the eigenvalues associated with $H$ as the weights. Moreover, each of the weights in the linear combination is greater than or equal to 0, as $| \\langle \\psi_i | \\psi\\rangle |^2 \\ge 0$ and so it is clear that\n",
    "\n",
    "\\begin{align}\n",
    "    \\lambda_{min} \\le \\langle H \\rangle_{\\psi} = \\langle \\psi | H | \\psi \\rangle = \\sum_{i = 1}^{N} \\lambda_i | \\langle \\psi_i | \\psi\\rangle |^2\n",
    "\\end{align}\n",
    "\n",
    "The above equation is known as the **variational method** (in some texts it is also known as the variational principle) [2]. It is important to note that this implies that the expectation value of any wave function will always be at least the minimum eigenvalue associated with $H$. Moreover, the expectation value of the eigenstate $|\\psi_{min}\\rangle$ is given by $\\langle \\psi_{min}|H|\\psi_{min}\\rangle = \\langle \\psi_{min}|\\lambda_{min}|\\psi_{min}\\rangle = \\lambda_{min}$. Thus, as expected, $\\langle H \\rangle_{\\psi_{min}}=\\lambda_{min}$.\n",
    "\n",
    "### Bounding the Ground State<a id='groundstate'></a>\n",
    "When the Hamiltonian of a system is described by the Hermitian matrix $H$ the ground state energy of that system, $E_{gs}$, is the smallest eigenvalue associated with $H$. By arbitrarily selecting a wave function $|\\psi \\rangle$ (called an *ansatz*) as an initial guess approximating $|\\psi_{min}\\rangle$, calculating its expectation value, $\\langle H \\rangle_{\\psi}$, and iteratively updating the wave function, arbitrarily tight bounds on the ground state energy of a Hamiltonian may be obtained. \n",
    "\n",
    "\n"
   ]
  },
  {
   "cell_type": "markdown",
   "metadata": {},
   "source": [
    "## The Variational Quantum Eigensolver<a id='vqe'></a>\n",
    "### Variational Forms<a id='varforms'></a>\n",
    "A systematic approach to varying the ansatz is required to implement the variational method on a quantum computer. VQE does so through the use of a parameterized circuit with a fixed form. Such a circuit is often called a *variational form*, and its action may be represented by the linear transformation $U(\\theta)$. A variational form is applied to a starting state $|\\psi\\rangle$ (such as the vacuum state $|0\\rangle$, or the Hartree Fock state) and generates an output state $U(\\theta)|\\psi\\rangle\\equiv |\\psi(\\theta)\\rangle$. Iterative optimization over $|\\psi(\\theta)\\rangle$ aims to yield an expectation value $\\langle \\psi(\\theta)|H|\\psi(\\theta)\\rangle \\approx E_{gs} \\equiv \\lambda_{min}$. Ideally, $|\\psi(\\theta)\\rangle$ will be close to $|\\psi_{min}\\rangle$ (where 'closeness' is characterized by either state fidelity, or Manhattan distance) although in practice, useful bounds on $E_{gs}$ can be obtained even if this is not the case.\n",
    "\n",
    "Moreover, a fixed variational form with a polynomial number of parameters can only generate transformations to a polynomially sized subspace of all the states in an exponentially sized Hilbert space. Consequently, various variational forms exist. Some, such as Ry and RyRz are heuristically designed, without consideration of the target domain. Others, such as UCCSD, utilize domain specific knowledge to generate close approximations based on the problem's structure. The structure of common variational forms is discussed in greater depth later in this document. \n",
    "\n",
    "### Simple Variational Forms<a id='simplevarform'></a>\n",
    "When constructing a variational form we must balance two opposing goals. Ideally, our $n$ qubit variational form would be able to generate any possible state $|\\psi\\rangle$ where $|\\psi\\rangle \\in \\mathbb{C}^N$ and $N=2^n$. However, we would like the variational form to use as few parameters as possible. Here, we aim to give intuition for the construction of variational forms satisfying our first goal, while disregarding the second goal for the sake of simplicity. \n",
    "\n",
    "Consider the case where $n=1$. The U3 gate takes three parameters, $\\theta, \\phi$ and $\\lambda$, and represents the following transformation:\n",
    "\n",
    "$$\n",
    "\\begin{align}\n",
    "    U3(\\theta, \\phi, \\lambda) = \\begin{pmatrix}\\cos(\\frac{\\theta}{2}) & -e^{i\\lambda}\\sin(\\frac{\\theta}{2}) \\\\ e^{i\\phi}\\sin(\\frac{\\theta}{2}) & e^{i\\lambda + i\\phi}\\cos(\\frac{\\theta}{2}) \\end{pmatrix}\n",
    "\\end{align}\n",
    "$$\n",
    "\n",
    "Up to a global phase, any possible single qubit transformation may be implemented by appropriately setting these parameters. Consequently, for the single qubit case, a variational form capable of generating any possible state is given by the circuit:\n",
    "\n",
    "![image1](./images/U3_var_form.png)\n",
    "\n",
    "\n",
    "Moreover, this universal 'variational form' only has 3 parameters and thus can be efficiently optimized. It is worth emphasizing that the ability to generate an arbitrary state ensures that during the optimization process, the variational form does not limit the set of attainable states over which the expectation value of $H$ can be taken. Ideally, this ensures that the minimum expectation value is limited only by the capabilities of the classical optimizer. \n",
    "\n",
    "A less trivial universal variational form may be derived for the 2 qubit case, where two body interactions, and thus entanglement, must be considered to achieve universality. Based on the work presented by *Shende et al.* [3] the following is an example of a universal parameterized 2 qubit circuit:\n",
    "\n",
    "![image2](./images/two_qubit_var_form.png)\n",
    "     \n",
    "Allow the transformation performed by the above circuit to be represented by $U(\\theta)$. When optimized variationally, the expectation value of $H$ is minimized when $U(\\theta)|\\psi\\rangle \\equiv |\\psi(\\theta)\\rangle \\approx |\\psi_{min}\\rangle$. By formulation, $U(\\theta)$ may produce a transformation to any possible state, and so this variational form may obtain an arbitrarily tight bound on two qubit ground state energies, only limited by the capabilities of the classical optimizer.\n",
    "\n",
    "### Parameter Optimization<a id='optimization'></a>\n",
    "Once an efficiently parameterized variational form has been selected, in accordance with the variational method, its parameters must be optimized to minimize the expectation value of the target Hamiltonian. The parameter optimization process has various challenges. For example, quantum hardware has various types of noise and so objective function evaluation (energy calculation) may not necessarily reflect the true objective function. Additionally, some optimizers perform a number of objective function evaluations dependent on cardinality of the parameter set. An appropriate optimizer should be selected by considering the requirements of an application.\n",
    "\n",
    "A popular optimization strategy is gradient descent where each parameter is updated in the direction yielding the largest local change in energy. Consequently, the number of evaluations performed depends on the number of optimization parameters present. This allows the algorithm to quickly find a local optimum in the search space. However, this optimization strategy often gets stuck at poor local optima, and is relatively expensive in terms of the number of circuit evaluations performed. While an intuitive optimization strategy, it is not recommended for use in VQE.\n",
    "\n",
    "An appropriate optimizer for optimizing a noisy objective function is the *Simultaneous Perturbation Stochastic Approximation* optimizer (SPSA). SPSA approximates the gradient of the objective function with only two measurements. It does so by concurrently perturbing all of the parameters in a random fashion, in contrast to gradient descent where each parameter is perturbed independently. When utilizing VQE in either a noisy simulator or on real hardware, SPSA is recommended as the classical optimizer.\n",
    "\n",
    "When noise is not present in the cost function evaluation (such as when using VQE with a statevector simulator), a wide variety of classical optimizers may be useful. Two such optimizers supported by Qiskit Aqua are the *Sequential Least Squares Programming* optimizer (SLSQP) and the *Constrained Optimization by Linear Approximation* optimizer (COBYLA). It is worth noting that COBYLA only performs one objective function evaluation per optimization iteration (and thus the number of evaluations is independent of the parameter set's cardinality). Therefore, if the objective function is noise-free and minimizing the number of performed evaluations is desirable, it is recommended to try COBYLA. \n",
    "\n",
    "### Example with a Single Qubit Variational Form<a id='example'></a>\n",
    "\n",
    "We will now use the simple single qubit variational form to solve a problem similar to ground state energy estimation. Specifically, we are given a random probability vector $\\vec{x}$ and wish to determine a possible parameterization for our single qubit variational form such that it outputs a probability distribution that is close to $\\vec{x}$ (where closeness is defined in terms of the Manhattan distance between the two probability vectors).\n",
    "\n",
    "We first create the random probability vector in python:"
   ]
  },
  {
   "cell_type": "code",
   "execution_count": 1,
   "metadata": {},
   "outputs": [],
   "source": [
    "import numpy as np\n",
    "np.random.seed(999999)\n",
    "target_distr = np.random.rand(2)\n",
    "# We now convert the random vector into a valid probability vector\n",
    "target_distr /= sum(target_distr)"
   ]
  },
  {
   "cell_type": "markdown",
   "metadata": {},
   "source": [
    "We subsequently create a function that takes the parameters of our single U3 variational form as arguments and returns the corresponding quantum circuit:"
   ]
  },
  {
   "cell_type": "code",
   "execution_count": 2,
   "metadata": {},
   "outputs": [],
   "source": [
    "from qiskit import QuantumCircuit, ClassicalRegister, QuantumRegister\n",
    "def get_var_form(params):\n",
    "    qr = QuantumRegister(1, name=\"q\")\n",
    "    cr = ClassicalRegister(1, name='c')\n",
    "    qc = QuantumCircuit(qr, cr)\n",
    "    qc.u3(params[0], params[1], params[2], qr[0])\n",
    "    qc.measure(qr, cr[0])\n",
    "    return qc"
   ]
  },
  {
   "cell_type": "markdown",
   "metadata": {},
   "source": [
    "Now we specify the objective function which takes as input a list of the variational form's parameters, and returns the cost associated with those parameters:"
   ]
  },
  {
   "cell_type": "code",
   "execution_count": 3,
   "metadata": {},
   "outputs": [],
   "source": [
    "from qiskit import Aer, transpile, assemble\n",
    "backend = Aer.get_backend(\"qasm_simulator\")\n",
    "NUM_SHOTS = 10000\n",
    "\n",
    "def get_probability_distribution(counts):\n",
    "    output_distr = [v / NUM_SHOTS for v in counts.values()]\n",
    "    if len(output_distr) == 1:\n",
    "        output_distr.append(1 - output_distr[0])\n",
    "    return output_distr\n",
    "\n",
    "def objective_function(params):\n",
    "    # Obtain a quantum circuit instance from the paramters\n",
    "    qc = get_var_form(params)\n",
    "    # Execute the quantum circuit to obtain the probability distribution associated with the current parameters\n",
    "    t_qc = transpile(qc, backend)\n",
    "    qobj = assemble(t_qc, shots=NUM_SHOTS)\n",
    "    result = backend.run(qobj).result()\n",
    "    # Obtain the counts for each measured state, and convert those counts into a probability vector\n",
    "    output_distr = get_probability_distribution(result.get_counts(qc))\n",
    "    # Calculate the cost as the distance between the output distribution and the target distribution\n",
    "    cost = sum([np.abs(output_distr[i] - target_distr[i]) for i in range(2)])\n",
    "    return cost"
   ]
  },
  {
   "cell_type": "markdown",
   "metadata": {},
   "source": [
    "Finally, we create an instance of the COBYLA optimizer, and run the algorithm. Note that the output varies from run to run. Moreover, while close, the obtained distribution might not be exactly the same as the target distribution, however, increasing the number of shots taken will increase the accuracy of the output."
   ]
  },
  {
   "cell_type": "code",
   "execution_count": 4,
   "metadata": {},
   "outputs": [
    {
     "name": "stderr",
     "output_type": "stream",
     "text": [
      "C:\\Users\\lao8n\\AppData\\Local\\Temp\\ipykernel_16152\\2737664276.py:6: DeprecationWarning: The QuantumCircuit.u3 method is deprecated as of 0.16.0. It will be removed no earlier than 3 months after the release date. You should use QuantumCircuit.u instead, which acts identically. Alternatively, you can decompose u3 in terms of QuantumCircuit.p and QuantumCircuit.sx: u3(ϴ,φ,λ) = p(φ+π) sx p(ϴ+π) sx p(λ) (2 pulses on hardware).\n",
      "  qc.u3(params[0], params[1], params[2], qr[0])\n",
      "C:\\Users\\lao8n\\AppData\\Local\\Temp\\ipykernel_16152\\2737664276.py:6: DeprecationWarning: The QuantumCircuit.u3 method is deprecated as of 0.16.0. It will be removed no earlier than 3 months after the release date. You should use QuantumCircuit.u instead, which acts identically. Alternatively, you can decompose u3 in terms of QuantumCircuit.p and QuantumCircuit.sx: u3(ϴ,φ,λ) = p(φ+π) sx p(ϴ+π) sx p(λ) (2 pulses on hardware).\n",
      "  qc.u3(params[0], params[1], params[2], qr[0])\n"
     ]
    },
    {
     "name": "stdout",
     "output_type": "stream",
     "text": [
      "Target Distribution: [0.51357006 0.48642994]\n",
      "Obtained Distribution: [0.5303, 0.4697]\n",
      "Output Error (Manhattan Distance): 0.008859881261160885\n",
      "Parameters Found: [1.52931144 0.69338981 0.61526659]\n"
     ]
    }
   ],
   "source": [
    "from qiskit.aqua.components.optimizers import COBYLA\n",
    "\n",
    "# Initialize the COBYLA optimizer\n",
    "optimizer = COBYLA(maxiter=500, tol=0.0001)\n",
    "\n",
    "# Create the initial parameters (noting that our single qubit variational form has 3 parameters)\n",
    "params = np.random.rand(3)\n",
    "ret = optimizer.optimize(num_vars=3, objective_function=objective_function, initial_point=params)\n",
    "\n",
    "# Obtain the output distribution using the final parameters\n",
    "qc = get_var_form(ret[0])\n",
    "t_qc = transpile(qc, backend)\n",
    "qobj = assemble(t_qc, shots=NUM_SHOTS)\n",
    "counts = backend.run(qobj).result().get_counts(qc)\n",
    "output_distr = get_probability_distribution(counts)\n",
    "\n",
    "print(\"Target Distribution:\", target_distr)\n",
    "print(\"Obtained Distribution:\", output_distr)\n",
    "print(\"Output Error (Manhattan Distance):\", ret[1])\n",
    "print(\"Parameters Found:\", ret[0])\n"
   ]
  },
  {
   "cell_type": "markdown",
   "metadata": {},
   "source": [
    "### Structure of Common Variational Forms<a id='commonvarforms'></a>\n",
    "As already discussed, it is not possible for a polynomially parameterized variational form to generate a transformation to any state. Variational forms can be grouped into two categories, depending on how they deal with this limitation. The first category of variational forms use domain or application specific knowledge to limit the set of possible output states. The second approach uses a heuristic circuit without prior domain or application specific knowledge. \n",
    "\n",
    "The first category of variational forms exploit characteristics of the problem domain to restrict the set of transformations that may be required. For example, when calculating the ground state energy of a molecule, the number of particles in the system is known *a priori*. Therefore, if a starting state with the correct number of particles is used, by limiting the variational form to only producing particle preserving transformations, the number of parameters required to span the new transformation subspace can be greatly reduced. Indeed, by utilizing similar information from Coupled-Cluster theory, the variational form UCCSD can obtain very accurate results for molecular ground state energy estimation when starting from the Hartree Fock state. Another example illustrating the exploitation of domain-specific knowledge follows from considering the set of circuits realizable on real quantum hardware. Extant quantum computers, such as those based on super conducting qubits, have limited qubit connectivity. That is, it is not possible to implement 2-qubit gates on arbitrary qubit pairs (without inserting swap gates). Thus, variational forms have been constructed for specific quantum computer architectures where the circuits are specifically tuned to maximally exploit the natively available connectivity and gates of a given quantum device. Such a variational form was used in 2017 to successfully implement VQE for the estimation of the ground state energies of molecules as large as BeH$_2$ on an IBM quantum computer [4].\n",
    "\n",
    "In the second approach, gates are layered such that good approximations on a wide range of states may be obtained. Qiskit Aqua supports three such variational forms: RyRz, Ry and SwapRz (we will only discuss the first two). All of these variational forms accept multiple user-specified configurations. Three essential configurations are the number of qubits in the system, the depth setting, and the entanglement setting. A single layer of a variational form specifies a certain pattern of single qubit rotations and CX gates. The depth setting says how many times the variational form should repeat this pattern. By increasing the depth setting, at the cost of increasing the number of parameters that must be optimized, the set of states the variational form can generate increases. Finally, the entanglement setting selects the configuration, and implicitly the number, of CX gates. For example, when the entanglement setting is linear, CX gates are applied to adjacent qubit pairs in order (and thus $n-1$ CX gates are added per layer). When the entanglement setting is full, a CX gate is applied to each qubit pair in each layer. The circuits for RyRz corresponding to `entanglement=\"full\"` and `entanglement=\"linear\"` can be seen by executing the following code snippet:"
   ]
  },
  {
   "cell_type": "code",
   "execution_count": 5,
   "metadata": {},
   "outputs": [
    {
     "name": "stdout",
     "output_type": "stream",
     "text": [
      "=============Linear Entanglement:=============\n"
     ]
    },
    {
     "data": {
      "text/html": [
       "<pre style=\"word-wrap: normal;white-space: pre;background: #fff0;line-height: 1.1;font-family: &quot;Courier New&quot;,Courier,monospace\">     »\n",
       "q_0: »\n",
       "     »\n",
       "q_1: »\n",
       "     »\n",
       "q_2: »\n",
       "     »\n",
       "q_3: »\n",
       "     »\n",
       "«     ┌──────────────────────────────────────────────────────────────────────────────────────────────────────────────────────────────────────────────────────────────────────────────────────────────────────┐\n",
       "«q_0: ┤0                                                                                                                                                                                                     ├\n",
       "«     │                                                                                                                                                                                                      │\n",
       "«q_1: ┤1                                                                                                                                                                                                     ├\n",
       "«     │  EfficientSU2(θ[0],θ[1],θ[2],θ[3],θ[4],θ[5],θ[6],θ[7],θ[8],θ[9],θ[10],θ[11],θ[12],θ[13],θ[14],θ[15],θ[16],θ[17],θ[18],θ[19],θ[20],θ[21],θ[22],θ[23],θ[24],θ[25],θ[26],θ[27],θ[28],θ[29],θ[30],θ[31]) │\n",
       "«q_2: ┤2                                                                                                                                                                                                     ├\n",
       "«     │                                                                                                                                                                                                      │\n",
       "«q_3: ┤3                                                                                                                                                                                                     ├\n",
       "«     └──────────────────────────────────────────────────────────────────────────────────────────────────────────────────────────────────────────────────────────────────────────────────────────────────────┘</pre>"
      ],
      "text/plain": [
       "     »\n",
       "q_0: »\n",
       "     »\n",
       "q_1: »\n",
       "     »\n",
       "q_2: »\n",
       "     »\n",
       "q_3: »\n",
       "     »\n",
       "«     ┌──────────────────────────────────────────────────────────────────────────────────────────────────────────────────────────────────────────────────────────────────────────────────────────────────────┐\n",
       "«q_0: ┤0                                                                                                                                                                                                     ├\n",
       "«     │                                                                                                                                                                                                      │\n",
       "«q_1: ┤1                                                                                                                                                                                                     ├\n",
       "«     │  EfficientSU2(θ[0],θ[1],θ[2],θ[3],θ[4],θ[5],θ[6],θ[7],θ[8],θ[9],θ[10],θ[11],θ[12],θ[13],θ[14],θ[15],θ[16],θ[17],θ[18],θ[19],θ[20],θ[21],θ[22],θ[23],θ[24],θ[25],θ[26],θ[27],θ[28],θ[29],θ[30],θ[31]) │\n",
       "«q_2: ┤2                                                                                                                                                                                                     ├\n",
       "«     │                                                                                                                                                                                                      │\n",
       "«q_3: ┤3                                                                                                                                                                                                     ├\n",
       "«     └──────────────────────────────────────────────────────────────────────────────────────────────────────────────────────────────────────────────────────────────────────────────────────────────────────┘"
      ]
     },
     "metadata": {},
     "output_type": "display_data"
    },
    {
     "name": "stdout",
     "output_type": "stream",
     "text": [
      "\n",
      "=============Full Entanglement:=============\n"
     ]
    },
    {
     "data": {
      "text/html": [
       "<pre style=\"word-wrap: normal;white-space: pre;background: #fff0;line-height: 1.1;font-family: &quot;Courier New&quot;,Courier,monospace\">     »\n",
       "q_0: »\n",
       "     »\n",
       "q_1: »\n",
       "     »\n",
       "q_2: »\n",
       "     »\n",
       "q_3: »\n",
       "     »\n",
       "«     ┌──────────────────────────────────────────────────────────────────────────────────────────────────────────────────────────────────────────────────────────────────────────────────────────────────────┐\n",
       "«q_0: ┤0                                                                                                                                                                                                     ├\n",
       "«     │                                                                                                                                                                                                      │\n",
       "«q_1: ┤1                                                                                                                                                                                                     ├\n",
       "«     │  EfficientSU2(θ[0],θ[1],θ[2],θ[3],θ[4],θ[5],θ[6],θ[7],θ[8],θ[9],θ[10],θ[11],θ[12],θ[13],θ[14],θ[15],θ[16],θ[17],θ[18],θ[19],θ[20],θ[21],θ[22],θ[23],θ[24],θ[25],θ[26],θ[27],θ[28],θ[29],θ[30],θ[31]) │\n",
       "«q_2: ┤2                                                                                                                                                                                                     ├\n",
       "«     │                                                                                                                                                                                                      │\n",
       "«q_3: ┤3                                                                                                                                                                                                     ├\n",
       "«     └──────────────────────────────────────────────────────────────────────────────────────────────────────────────────────────────────────────────────────────────────────────────────────────────────────┘</pre>"
      ],
      "text/plain": [
       "     »\n",
       "q_0: »\n",
       "     »\n",
       "q_1: »\n",
       "     »\n",
       "q_2: »\n",
       "     »\n",
       "q_3: »\n",
       "     »\n",
       "«     ┌──────────────────────────────────────────────────────────────────────────────────────────────────────────────────────────────────────────────────────────────────────────────────────────────────────┐\n",
       "«q_0: ┤0                                                                                                                                                                                                     ├\n",
       "«     │                                                                                                                                                                                                      │\n",
       "«q_1: ┤1                                                                                                                                                                                                     ├\n",
       "«     │  EfficientSU2(θ[0],θ[1],θ[2],θ[3],θ[4],θ[5],θ[6],θ[7],θ[8],θ[9],θ[10],θ[11],θ[12],θ[13],θ[14],θ[15],θ[16],θ[17],θ[18],θ[19],θ[20],θ[21],θ[22],θ[23],θ[24],θ[25],θ[26],θ[27],θ[28],θ[29],θ[30],θ[31]) │\n",
       "«q_2: ┤2                                                                                                                                                                                                     ├\n",
       "«     │                                                                                                                                                                                                      │\n",
       "«q_3: ┤3                                                                                                                                                                                                     ├\n",
       "«     └──────────────────────────────────────────────────────────────────────────────────────────────────────────────────────────────────────────────────────────────────────────────────────────────────────┘"
      ]
     },
     "metadata": {},
     "output_type": "display_data"
    },
    {
     "name": "stdout",
     "output_type": "stream",
     "text": [
      "\n"
     ]
    }
   ],
   "source": [
    "from qiskit.circuit.library import EfficientSU2\n",
    "entanglements = [\"linear\", \"full\"]\n",
    "for entanglement in entanglements:\n",
    "    form = EfficientSU2(num_qubits=4, entanglement=entanglement)\n",
    "    if entanglement == \"linear\":\n",
    "        print(\"=============Linear Entanglement:=============\")\n",
    "    else:\n",
    "        print(\"=============Full Entanglement:=============\")\n",
    "    # We initialize all parameters to 0 for this demonstration\n",
    "    display(form.draw(fold=100))\n",
    "    print()"
   ]
  },
  {
   "cell_type": "markdown",
   "metadata": {},
   "source": [
    "Assume the depth setting is set to $d$. Then, RyRz has $2n\\times (d+1)$ parameters and Ry (not shown) has $n\\times (d+1)$ parameters."
   ]
  },
  {
   "cell_type": "markdown",
   "metadata": {},
   "source": [
    "## VQE Implementation in Qiskit<a id='implementation'></a>\n",
    "This section illustrates an implementation of VQE using the programmatic approach. Qiskit Aqua also enables a declarative implementation, however, it reveals less information about the underlying algorithm. This code, specifically the preparation of qubit operators, is based on the code found in the Qiskit Tutorials repository (and as of July 2019, may be found at: https://github.com/Qiskit/qiskit-tutorials ).\n",
    "\n",
    "The following libraries must first be imported. \n"
   ]
  },
  {
   "cell_type": "code",
   "execution_count": 6,
   "metadata": {},
   "outputs": [],
   "source": [
    "from qiskit.aqua.algorithms import VQE, NumPyEigensolver\n",
    "import matplotlib.pyplot as plt\n",
    "import numpy as np\n",
    "from qiskit.chemistry.components.variational_forms import UCCSD\n",
    "from qiskit.chemistry.components.initial_states import HartreeFock\n",
    "from qiskit.circuit.library import EfficientSU2\n",
    "from qiskit.aqua.components.optimizers import COBYLA, SPSA, SLSQP\n",
    "from qiskit.aqua.operators import Z2Symmetries\n",
    "from qiskit import IBMQ, BasicAer, Aer\n",
    "from qiskit.chemistry.drivers import PySCFDriver, UnitsType\n",
    "from qiskit.chemistry import FermionicOperator\n",
    "from qiskit.aqua import QuantumInstance\n",
    "from qiskit.ignis.mitigation.measurement import CompleteMeasFitter\n",
    "from qiskit.providers.aer.noise import NoiseModel"
   ]
  },
  {
   "cell_type": "markdown",
   "metadata": {},
   "source": [
    "### Running VQE on a Statevector Simulator<a id='implementationstatevec'></a>\n",
    "We demonstrate the calculation of the ground state energy for LiH at various interatomic distances. A driver for the molecule must be created at each such distance. Note that in this experiment, to reduce the number of qubits used, we freeze the core and remove two unoccupied orbitals. First, we define a function that takes an interatomic distance and returns the appropriate qubit operator, $H$, as well as some other information about the operator."
   ]
  },
  {
   "cell_type": "code",
   "execution_count": 8,
   "metadata": {},
   "outputs": [],
   "source": [
    "def get_qubit_op(dist):\n",
    "    driver = PySCFDriver(atom=\"Li .0 .0 .0; H .0 .0 \" + str(dist), unit=UnitsType.ANGSTROM, \n",
    "                         charge=0, spin=0, basis='sto3g')\n",
    "    molecule = driver.run()\n",
    "    freeze_list = [0]\n",
    "    remove_list = [-3, -2]\n",
    "    repulsion_energy = molecule.nuclear_repulsion_energy\n",
    "    num_particles = molecule.num_alpha + molecule.num_beta\n",
    "    num_spin_orbitals = molecule.num_orbitals * 2\n",
    "    remove_list = [x % molecule.num_orbitals for x in remove_list]\n",
    "    freeze_list = [x % molecule.num_orbitals for x in freeze_list]\n",
    "    remove_list = [x - len(freeze_list) for x in remove_list]\n",
    "    remove_list += [x + molecule.num_orbitals - len(freeze_list)  for x in remove_list]\n",
    "    freeze_list += [x + molecule.num_orbitals for x in freeze_list]\n",
    "    ferOp = FermionicOperator(h1=molecule.one_body_integrals, h2=molecule.two_body_integrals)\n",
    "    ferOp, energy_shift = ferOp.fermion_mode_freezing(freeze_list)\n",
    "    num_spin_orbitals -= len(freeze_list)\n",
    "    num_particles -= len(freeze_list)\n",
    "    ferOp = ferOp.fermion_mode_elimination(remove_list)\n",
    "    num_spin_orbitals -= len(remove_list)\n",
    "    qubitOp = ferOp.mapping(map_type='parity', threshold=0.00000001)\n",
    "    qubitOp = Z2Symmetries.two_qubit_reduction(qubitOp, num_particles)\n",
    "    shift = energy_shift + repulsion_energy\n",
    "    return qubitOp, num_particles, num_spin_orbitals, shift"
   ]
  },
  {
   "cell_type": "markdown",
   "metadata": {},
   "source": [
    "First, the exact ground state energy is calculated using the qubit operator and a classical exact eigensolver. Subsequently, the initial state $|\\psi\\rangle$ is created, which the VQE instance uses to produce the final ansatz $\\min_{\\theta}(|\\psi(\\theta)\\rangle)$. The exact result and the VQE result at each interatomic distance is stored. Observe that the result given by `vqe.run(backend)['energy'] + shift` is equivalent the quantity $\\min_{\\theta}\\left(\\langle \\psi(\\theta)|H|\\psi(\\theta)\\rangle\\right)$, where the minimum is not necessarily the global minimum. \n",
    "\n",
    "When initializing the VQE instance with `VQE(qubitOp, var_form, optimizer, 'matrix')` the expectation value of $H$ on $|\\psi(\\theta)\\rangle$ is directly calculated through matrix multiplication. However, when using an actual quantum device, or a true simulator such as the `qasm_simulator` with `VQE(qubitOp, var_form, optimizer, 'paulis')` the calculation of the expectation value is more complicated. A Hamiltonian may be represented as a sum of a Pauli strings, with each Pauli term acting on a qubit as specified by the mapping being used. Each Pauli string has a corresponding circuit appended to the circuit corresponding to $|\\psi(\\theta)\\rangle$. Subsequently, each of these circuits is executed, and all of the results are used to determine the expectation value of $H$ on $|\\psi(\\theta)\\rangle$. In the following example, we initialize the VQE instance with `matrix` mode, and so the expectation value is directly calculated through matrix multiplication. \n",
    "\n",
    "Note that the following code snippet may take a few minutes to run to completion. "
   ]
  },
  {
   "cell_type": "code",
   "execution_count": 13,
   "metadata": {
    "tags": [
     "output_scroll"
    ]
   },
   "outputs": [
    {
     "ename": "QiskitChemistryError",
     "evalue": "'PySCF is not installed. See https://sunqm.github.io/pyscf/install.html'",
     "output_type": "error",
     "traceback": [
      "\u001b[1;31m---------------------------------------------------------------------------\u001b[0m",
      "\u001b[1;31mQiskitChemistryError\u001b[0m                      Traceback (most recent call last)",
      "\u001b[1;32m~\\AppData\\Local\\Temp\\ipykernel_16152\\2644532316.py\u001b[0m in \u001b[0;36m<module>\u001b[1;34m\u001b[0m\n\u001b[0;32m      5\u001b[0m \u001b[0moptimizer\u001b[0m \u001b[1;33m=\u001b[0m \u001b[0mSLSQP\u001b[0m\u001b[1;33m(\u001b[0m\u001b[0mmaxiter\u001b[0m\u001b[1;33m=\u001b[0m\u001b[1;36m5\u001b[0m\u001b[1;33m)\u001b[0m\u001b[1;33m\u001b[0m\u001b[1;33m\u001b[0m\u001b[0m\n\u001b[0;32m      6\u001b[0m \u001b[1;32mfor\u001b[0m \u001b[0mdist\u001b[0m \u001b[1;32min\u001b[0m \u001b[0mdistances\u001b[0m\u001b[1;33m:\u001b[0m\u001b[1;33m\u001b[0m\u001b[1;33m\u001b[0m\u001b[0m\n\u001b[1;32m----> 7\u001b[1;33m     \u001b[0mqubitOp\u001b[0m\u001b[1;33m,\u001b[0m \u001b[0mnum_particles\u001b[0m\u001b[1;33m,\u001b[0m \u001b[0mnum_spin_orbitals\u001b[0m\u001b[1;33m,\u001b[0m \u001b[0mshift\u001b[0m \u001b[1;33m=\u001b[0m \u001b[0mget_qubit_op\u001b[0m\u001b[1;33m(\u001b[0m\u001b[0mdist\u001b[0m\u001b[1;33m)\u001b[0m\u001b[1;33m\u001b[0m\u001b[1;33m\u001b[0m\u001b[0m\n\u001b[0m\u001b[0;32m      8\u001b[0m     \u001b[0mresult\u001b[0m \u001b[1;33m=\u001b[0m \u001b[0mNumPyEigensolver\u001b[0m\u001b[1;33m(\u001b[0m\u001b[0mqubitOp\u001b[0m\u001b[1;33m)\u001b[0m\u001b[1;33m.\u001b[0m\u001b[0mrun\u001b[0m\u001b[1;33m(\u001b[0m\u001b[1;33m)\u001b[0m\u001b[1;33m\u001b[0m\u001b[1;33m\u001b[0m\u001b[0m\n\u001b[0;32m      9\u001b[0m     \u001b[0mexact_energies\u001b[0m\u001b[1;33m.\u001b[0m\u001b[0mappend\u001b[0m\u001b[1;33m(\u001b[0m\u001b[0mnp\u001b[0m\u001b[1;33m.\u001b[0m\u001b[0mreal\u001b[0m\u001b[1;33m(\u001b[0m\u001b[0mresult\u001b[0m\u001b[1;33m.\u001b[0m\u001b[0meigenvalues\u001b[0m\u001b[1;33m)\u001b[0m \u001b[1;33m+\u001b[0m \u001b[0mshift\u001b[0m\u001b[1;33m)\u001b[0m\u001b[1;33m\u001b[0m\u001b[1;33m\u001b[0m\u001b[0m\n",
      "\u001b[1;32m~\\AppData\\Local\\Temp\\ipykernel_16152\\3170384339.py\u001b[0m in \u001b[0;36mget_qubit_op\u001b[1;34m(dist)\u001b[0m\n\u001b[0;32m      1\u001b[0m \u001b[1;32mdef\u001b[0m \u001b[0mget_qubit_op\u001b[0m\u001b[1;33m(\u001b[0m\u001b[0mdist\u001b[0m\u001b[1;33m)\u001b[0m\u001b[1;33m:\u001b[0m\u001b[1;33m\u001b[0m\u001b[1;33m\u001b[0m\u001b[0m\n\u001b[1;32m----> 2\u001b[1;33m     driver = PySCFDriver(atom=\"Li .0 .0 .0; H .0 .0 \" + str(dist), unit=UnitsType.ANGSTROM, \n\u001b[0m\u001b[0;32m      3\u001b[0m                          charge=0, spin=0, basis='sto3g')\n\u001b[0;32m      4\u001b[0m     \u001b[0mmolecule\u001b[0m \u001b[1;33m=\u001b[0m \u001b[0mdriver\u001b[0m\u001b[1;33m.\u001b[0m\u001b[0mrun\u001b[0m\u001b[1;33m(\u001b[0m\u001b[1;33m)\u001b[0m\u001b[1;33m\u001b[0m\u001b[1;33m\u001b[0m\u001b[0m\n\u001b[0;32m      5\u001b[0m     \u001b[0mfreeze_list\u001b[0m \u001b[1;33m=\u001b[0m \u001b[1;33m[\u001b[0m\u001b[1;36m0\u001b[0m\u001b[1;33m]\u001b[0m\u001b[1;33m\u001b[0m\u001b[1;33m\u001b[0m\u001b[0m\n",
      "\u001b[1;32m~\\AppData\\Roaming\\Python\\Python39\\site-packages\\qiskit\\chemistry\\drivers\\pyscfd\\pyscfdriver.py\u001b[0m in \u001b[0;36m__init__\u001b[1;34m(self, atom, unit, charge, spin, basis, hf_method, conv_tol, max_cycle, init_guess, max_memory, molecule)\u001b[0m\n\u001b[0;32m     81\u001b[0m             \u001b[0mQiskitChemistryError\u001b[0m\u001b[1;33m:\u001b[0m \u001b[0mInvalid\u001b[0m \u001b[0mInput\u001b[0m\u001b[1;33m\u001b[0m\u001b[1;33m\u001b[0m\u001b[0m\n\u001b[0;32m     82\u001b[0m         \"\"\"\n\u001b[1;32m---> 83\u001b[1;33m         \u001b[0mself\u001b[0m\u001b[1;33m.\u001b[0m\u001b[0m_check_valid\u001b[0m\u001b[1;33m(\u001b[0m\u001b[1;33m)\u001b[0m\u001b[1;33m\u001b[0m\u001b[1;33m\u001b[0m\u001b[0m\n\u001b[0m\u001b[0;32m     84\u001b[0m         \u001b[1;32mif\u001b[0m \u001b[1;32mnot\u001b[0m \u001b[0misinstance\u001b[0m\u001b[1;33m(\u001b[0m\u001b[0matom\u001b[0m\u001b[1;33m,\u001b[0m \u001b[0mstr\u001b[0m\u001b[1;33m)\u001b[0m \u001b[1;32mand\u001b[0m \u001b[1;32mnot\u001b[0m \u001b[0misinstance\u001b[0m\u001b[1;33m(\u001b[0m\u001b[0matom\u001b[0m\u001b[1;33m,\u001b[0m \u001b[0mlist\u001b[0m\u001b[1;33m)\u001b[0m\u001b[1;33m:\u001b[0m\u001b[1;33m\u001b[0m\u001b[1;33m\u001b[0m\u001b[0m\n\u001b[0;32m     85\u001b[0m             \u001b[1;32mraise\u001b[0m \u001b[0mQiskitChemistryError\u001b[0m\u001b[1;33m(\u001b[0m\u001b[1;34m\"Invalid atom input for PYSCF Driver '{}'\"\u001b[0m\u001b[1;33m.\u001b[0m\u001b[0mformat\u001b[0m\u001b[1;33m(\u001b[0m\u001b[0matom\u001b[0m\u001b[1;33m)\u001b[0m\u001b[1;33m)\u001b[0m\u001b[1;33m\u001b[0m\u001b[1;33m\u001b[0m\u001b[0m\n",
      "\u001b[1;32m~\\AppData\\Roaming\\Python\\Python39\\site-packages\\qiskit\\chemistry\\drivers\\pyscfd\\pyscfdriver.py\u001b[0m in \u001b[0;36m_check_valid\u001b[1;34m()\u001b[0m\n\u001b[0;32m    115\u001b[0m             \u001b[1;32mraise\u001b[0m \u001b[0mQiskitChemistryError\u001b[0m\u001b[1;33m(\u001b[0m\u001b[0merr_msg\u001b[0m\u001b[1;33m)\u001b[0m \u001b[1;32mfrom\u001b[0m \u001b[0mex\u001b[0m\u001b[1;33m\u001b[0m\u001b[1;33m\u001b[0m\u001b[0m\n\u001b[0;32m    116\u001b[0m \u001b[1;33m\u001b[0m\u001b[0m\n\u001b[1;32m--> 117\u001b[1;33m         \u001b[1;32mraise\u001b[0m \u001b[0mQiskitChemistryError\u001b[0m\u001b[1;33m(\u001b[0m\u001b[0merr_msg\u001b[0m\u001b[1;33m)\u001b[0m\u001b[1;33m\u001b[0m\u001b[1;33m\u001b[0m\u001b[0m\n\u001b[0m\u001b[0;32m    118\u001b[0m \u001b[1;33m\u001b[0m\u001b[0m\n\u001b[0;32m    119\u001b[0m     \u001b[1;32mdef\u001b[0m \u001b[0mrun\u001b[0m\u001b[1;33m(\u001b[0m\u001b[0mself\u001b[0m\u001b[1;33m)\u001b[0m \u001b[1;33m->\u001b[0m \u001b[0mQMolecule\u001b[0m\u001b[1;33m:\u001b[0m\u001b[1;33m\u001b[0m\u001b[1;33m\u001b[0m\u001b[0m\n",
      "\u001b[1;31mQiskitChemistryError\u001b[0m: 'PySCF is not installed. See https://sunqm.github.io/pyscf/install.html'"
     ]
    }
   ],
   "source": [
    "#native windows is not supported\n",
    "backend = BasicAer.get_backend(\"statevector_simulator\")\n",
    "distances = np.arange(0.5, 4.0, 0.1)\n",
    "exact_energies = []\n",
    "vqe_energies = []\n",
    "optimizer = SLSQP(maxiter=5)\n",
    "for dist in distances:\n",
    "    qubitOp, num_particles, num_spin_orbitals, shift = get_qubit_op(dist)\n",
    "    result = NumPyEigensolver(qubitOp).run()\n",
    "    exact_energies.append(np.real(result.eigenvalues) + shift)\n",
    "    initial_state = HartreeFock(\n",
    "        num_spin_orbitals,\n",
    "        num_particles,\n",
    "        qubit_mapping='parity'\n",
    "    ) \n",
    "    var_form = UCCSD(\n",
    "        num_orbitals=num_spin_orbitals,\n",
    "        num_particles=num_particles,\n",
    "        initial_state=initial_state,\n",
    "        qubit_mapping='parity'\n",
    "    )\n",
    "    vqe = VQE(qubitOp, var_form, optimizer)\n",
    "    vqe_result = np.real(vqe.run(backend)['eigenvalue'] + shift)\n",
    "    vqe_energies.append(vqe_result)\n",
    "    print(\"Interatomic Distance:\", np.round(dist, 2), \"VQE Result:\", vqe_result, \"Exact Energy:\", exact_energies[-1])\n",
    "    \n",
    "print(\"All energies have been calculated\")"
   ]
  },
  {
   "cell_type": "code",
   "execution_count": 9,
   "metadata": {},
   "outputs": [
    {
     "data": {
      "image/png": "[encoded data removed]",
      "text/plain": [
       "<Figure size 432x288 with 1 Axes>"
      ]
     },
     "metadata": {
      "needs_background": "light"
     },
     "output_type": "display_data"
    }
   ],
   "source": [
    "plt.plot(distances, exact_energies, label=\"Exact Energy\")\n",
    "plt.plot(distances, vqe_energies, label=\"VQE Energy\")\n",
    "plt.xlabel('Atomic distance (Angstrom)')\n",
    "plt.ylabel('Energy')\n",
    "plt.legend()\n",
    "plt.show()"
   ]
  },
  {
   "cell_type": "markdown",
   "metadata": {},
   "source": [
    "Note that the VQE results are very close to the exact results, and so the exact energy curve is hidden by the VQE curve."
   ]
  },
  {
   "cell_type": "markdown",
   "metadata": {},
   "source": [
    "### Running VQE on a Noisy Simulator<a id='implementationnoisy'></a>\n",
    "\n",
    "Here, we calculate the ground state energy for H$_2$ using a noisy simulator and error mitigation. \n",
    "\n",
    "First, we prepare the qubit operator representing the molecule's Hamiltonian:"
   ]
  },
  {
   "cell_type": "code",
   "execution_count": 10,
   "metadata": {},
   "outputs": [],
   "source": [
    "driver = PySCFDriver(atom='H .0 .0 -0.3625; H .0 .0 0.3625', unit=UnitsType.ANGSTROM, charge=0, spin=0, basis='sto3g')\n",
    "molecule = driver.run()\n",
    "num_particles = molecule.num_alpha + molecule.num_beta\n",
    "qubitOp = FermionicOperator(h1=molecule.one_body_integrals, h2=molecule.two_body_integrals).mapping(map_type='parity')\n",
    "qubitOp = Z2Symmetries.two_qubit_reduction(qubitOp, num_particles)"
   ]
  },
  {
   "cell_type": "markdown",
   "metadata": {},
   "source": [
    "Now, we load a device coupling map and noise model from the IBMQ provider and create a quantum instance, enabling error mitigation:"
   ]
  },
  {
   "cell_type": "code",
   "execution_count": 11,
   "metadata": {
    "scrolled": true,
    "tags": [
     "uses-hardware"
    ]
   },
   "outputs": [
    {
     "name": "stderr",
     "output_type": "stream",
     "text": [
      "/usr/local/anaconda3/lib/python3.7/site-packages/qiskit/providers/ibmq/ibmqfactory.py:192: UserWarning: Timestamps in IBMQ backend properties, jobs, and job results are all now in local time instead of UTC.\n",
      "  warnings.warn('Timestamps in IBMQ backend properties, jobs, and job results '\n"
     ]
    }
   ],
   "source": [
    "IBMQ.load_account()\n",
    "provider = IBMQ.get_provider(hub='ibm-q')\n",
    "backend = Aer.get_backend(\"qasm_simulator\")\n",
    "device = provider.get_backend(\"ibmq_lima\")\n",
    "coupling_map = device.configuration().coupling_map\n",
    "noise_model = NoiseModel.from_backend(device.properties())\n",
    "quantum_instance = QuantumInstance(backend=backend, \n",
    "                                   shots=8192, \n",
    "                                   noise_model=noise_model, \n",
    "                                   coupling_map=coupling_map,\n",
    "                                   measurement_error_mitigation_cls=CompleteMeasFitter,\n",
    "                                   cals_matrix_refresh_period=30)"
   ]
  },
  {
   "cell_type": "markdown",
   "metadata": {},
   "source": [
    "Finally, we must configure the optimizer, the variational form, and the VQE instance. As the effects of noise increase as the number of two qubit gates circuit depth increase, we use a heuristic variational form (RYRZ) rather than UCCSD as RYRZ has a much shallower circuit than UCCSD and uses substantially fewer two qubit gates.\n",
    "\n",
    "The following code may take a few minutes to run to completion."
   ]
  },
  {
   "cell_type": "code",
   "execution_count": 12,
   "metadata": {
    "tags": [
     "uses-hardware"
    ]
   },
   "outputs": [
    {
     "name": "stdout",
     "output_type": "stream",
     "text": [
      "Exact Result: [-1.13722138]\n",
      "VQE Result: -1.0949628247613228\n"
     ]
    }
   ],
   "source": [
    "exact_solution = NumPyEigensolver(qubitOp).run()\n",
    "print(\"Exact Result:\", np.real(exact_solution.eigenvalues) + molecule.nuclear_repulsion_energy)\n",
    "optimizer = SPSA(maxiter=100)\n",
    "var_form = EfficientSU2(qubitOp.num_qubits, entanglement=\"linear\")\n",
    "vqe = VQE(qubitOp, var_form, optimizer=optimizer)\n",
    "ret = vqe.run(quantum_instance)\n",
    "vqe_result = np.real(ret['eigenvalue']+ molecule.nuclear_repulsion_energy)\n",
    "print(\"VQE Result:\", vqe_result)"
   ]
  },
  {
   "cell_type": "markdown",
   "metadata": {},
   "source": [
    "When noise mitigation is enabled, even though the result does not fall within chemical accuracy (defined as being within 0.0016 Hartree of the exact result), it is fairly close to the exact solution. "
   ]
  },
  {
   "cell_type": "markdown",
   "metadata": {},
   "source": [
    "## Problems<a id='problems'></a>\n",
    "1. You are given a Hamiltonian $H$ with the promise that its ground state is close to a maximally entangled $n$ qubit state. Explain which variational form (or forms) is likely to efficiently and accurately learn the ground state energy of $H$. You may also answer by creating your own variational form, and explaining why it is appropriate for use with this Hamiltonian. \n",
    "2. Calculate the number of circuit evaluations performed per optimization iteration, when using the COBYLA optimizer, the `qasm_simulator` with 1000 shots, and a Hamiltonian with 60 Pauli strings.\n",
    "3. Use VQE to estimate the ground state energy of BeH$_2$ with an interatomic distance of $1.3$Å. You may re-use the function `get_qubit_op(dist)` by replacing `atom=\"Li .0 .0 .0; H .0 .0 \" + str(dist)` with `atom=\"Be .0 .0 .0; H .0 .0 -\" + str(dist) + \"; H .0 .0 \" + str(dist)` and invoking the function with `get_qubit_op(1.3)`. Note that removing the unoccupied orbitals does not preserve chemical precision for this molecule. However, to get the number of qubits  required down to 6 (and thereby allowing efficient simulation on most laptops), the loss of precision is acceptable. While beyond the scope of this exercise, the interested reader may use qubit tapering operations to reduce the number of required qubits to 7, without losing any chemical precision."
   ]
  },
  {
   "cell_type": "markdown",
   "metadata": {},
   "source": [
    "## References<a id='references'></a>\n",
    "1. Peruzzo, Alberto, et al. \"A variational eigenvalue solver on a photonic quantum processor.\" *Nature communications* 5 (2014): 4213.\n",
    "2. Griffiths, David J., and Darrell F. Schroeter. Introduction to quantum mechanics. *Cambridge University Press*, 2018.\n",
    "3. Shende, Vivek V., Igor L. Markov, and Stephen S. Bullock. \"Minimal universal two-qubit cnot-based circuits.\" arXiv preprint quant-ph/0308033 (2003).\n",
    "4. Kandala, Abhinav, et al. \"Hardware-efficient variational quantum eigensolver for small molecules and quantum magnets.\" Nature 549.7671 (2017): 242."
   ]
  },
  {
   "cell_type": "code",
   "execution_count": 13,
   "metadata": {},
   "outputs": [
    {
     "data": {
      "text/plain": [
       "{'qiskit-terra': '0.16.0',\n",
       " 'qiskit-aer': '0.7.0',\n",
       " 'qiskit-ignis': '0.5.0',\n",
       " 'qiskit-ibmq-provider': '0.11.0',\n",
       " 'qiskit-aqua': '0.8.0',\n",
       " 'qiskit': '0.23.0'}"
      ]
     },
     "execution_count": 13,
     "metadata": {},
     "output_type": "execute_result"
    }
   ],
   "source": [
    "import qiskit\n",
    "qiskit.__qiskit_version__"
   ]
  }
 ],
 "metadata": {
  "interpreter": {
   "hash": "ac59ebe37160ed0dfa835113d9b8498d9f09ceb179beaac4002f036b9467c963"
  },
  "kernelspec": {
   "display_name": "qiskit",
   "language": "python",
   "name": "python3"
  },
  "language_info": {
   "codemirror_mode": {
    "name": "ipython",
    "version": 3
   },
   "file_extension": ".py",
   "mimetype": "text/x-python",
   "name": "python",
   "nbconvert_exporter": "python",
   "pygments_lexer": "ipython3",
   "version": "3.9.7"
  }
 },
 "nbformat": 4,
 "nbformat_minor": 4
}
