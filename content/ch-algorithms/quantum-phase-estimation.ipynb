{
 "cells": [
  {
   "cell_type": "markdown",
   "metadata": {
    "tags": [
     "remove_cell"
    ]
   },
   "source": [
    "# Quantum Phase Estimation"
   ]
  },
  {
   "cell_type": "markdown",
   "metadata": {},
   "source": [
    "## Contents\n",
    "\n",
    "1. [Overview](#overview)    \n",
    "    1.1 [Intuition](#intuition)    \n",
    "    1.2 [Mathematical Basis](#maths)\n",
    "2. [Example: T-gate](#example_t_gate)    \n",
    "    2.1 [Creating the Circuit](#creating_the_circuit)    \n",
    "    2.2 [Results](#results)    \n",
    "3. [Getting More Precision](#getting_more_precision)    \n",
    "    3.1 [The Problem](#the_problem)    \n",
    "    3.2 [The Solution](#the_solution)    \n",
    "4. [Experimenting on Real Devices](#real_devices)    \n",
    "    4.1 [With the Circuit from 2.1](#circuit_2.1)    \n",
    "5. [Exercises](#exercises)   \n",
    "6. [Looking Forward](#looking_forward)\n",
    "7. [References](#references)\n",
    "8. [Contributors](#contributors)"
   ]
  },
  {
   "cell_type": "markdown",
   "metadata": {},
   "source": [
    "Quantum phase estimation is one of the most important subroutines in quantum computation. It serves as a central building block for many quantum algorithms. The objective of the algorithm is the following:\n",
    "\n",
    "Given a unitary operator $U$, the algorithm estimates $\\theta$ in $U\\vert\\psi \\rangle =e^{\\boldsymbol{2\\pi i} \\theta }|\\psi \\rangle$. Here $|\\psi\\rangle$ is an eigenvector and $e^{\\boldsymbol{2\\pi i}\\theta}$ is the corresponding eigenvalue. Since $U$ is unitary, all of its eigenvalues have a norm of 1."
   ]
  },
  {
   "cell_type": "markdown",
   "metadata": {},
   "source": [
    "## 1. Overview <a id='overview'></a>"
   ]
  },
  {
   "cell_type": "markdown",
   "metadata": {},
   "source": [
    "The general quantum circuit for phase estimation is shown below. The top register contains $t$ 'counting' qubits, and the bottom contains qubits in the state $|\\psi\\rangle$:\n",
    "![image1](images/qpe_tex_qz.png)\n"
   ]
  },
  {
   "cell_type": "markdown",
   "metadata": {},
   "source": [
    "### 1.1 Intuition <a id='intuition'></a>\n",
    "The quantum phase estimation algorithm uses phase kickback to write the phase of $U$ (in the Fourier basis) to the $t$ qubits in the counting register. We then use the inverse QFT to translate this from the Fourier basis into the computational basis, which we can measure.\n",
    "\n",
    "We remember (from the QFT chapter) that in the Fourier basis the topmost qubit completes one full rotation when counting between $0$ and $2^t$. To count to a number, $x$ between $0$ and $2^t$, we rotate this qubit by $\\tfrac{x}{2^t}$ around the z-axis. For the next qubit we rotate by $\\tfrac{2x}{2^t}$, then $\\tfrac{4x}{2^t}$ for the third qubit.\n",
    "\n",
    "![image2](images/qpe_intuition.jpg)\n",
    "\n",
    "When we use a qubit to control the $U$-gate, the qubit will turn (due to kickback) proportionally to the phase $e^{2i\\pi\\theta}$. We can use successive $CU$-gates to repeat this rotation an appropriate number of times until we have encoded the phase theta as a number between $0$ and $2^t$ in the Fourier basis. \n",
    "\n",
    "Then we simply use $QFT^\\dagger$ to convert this into the computational basis.\n",
    "\n"
   ]
  },
  {
   "cell_type": "markdown",
   "metadata": {},
   "source": [
    "### 1.2 Mathematical Foundation <a id='maths'></a>\n",
    "\n",
    "As mentioned above, this circuit estimates the phase of a unitary operator $U$. It estimates $\\theta$ in $U\\vert\\psi \\rangle =e^{\\boldsymbol{2\\pi i} \\theta }|\\psi \\rangle$, where $|\\psi\\rangle$ is an eigenvector and $e^{\\boldsymbol{2\\pi i}\\theta}$ is the corresponding eigenvalue. The circuit operates in the following steps:\n",
    "\n",
    "i. **Setup**: $\\vert\\psi\\rangle$ is in one set of qubit registers. An additional set of $n$ qubits form the counting register on which we will store the value $2^n\\theta$: \n",
    "\n",
    "\n",
    "\n",
    "$$ |\\psi_0\\rangle = \\lvert 0 \\rangle^{\\otimes n} \\lvert \\psi \\rangle$$\n",
    "\n",
    " \n",
    "\n",
    "ii. **Superposition**: Apply a $n$-bit Hadamard gate operation $H^{\\otimes n}$ on the counting register: \n",
    "\n",
    "\n",
    "\n",
    "$$ |\\psi_1\\rangle = {\\frac {1}{2^{\\frac {n}{2}}}}\\left(|0\\rangle +|1\\rangle \\right)^{\\otimes n} \\lvert \\psi \\rangle$$\n",
    "\n",
    "\n",
    "\n",
    "iii. **Controlled Unitary Operations**: We need to introduce the controlled unitary $CU$ that applies the unitary operator $U$ on the target register only if its corresponding control bit is $|1\\rangle$. Since $U$ is a unitary operator with eigenvector $|\\psi\\rangle$ such that $U|\\psi \\rangle =e^{\\boldsymbol{2\\pi i} \\theta }|\\psi \\rangle$, this means: \n",
    "\n",
    "\n",
    "\n",
    "$$U^{2^{j}}|\\psi \\rangle =U^{2^{j}-1}U|\\psi \\rangle =U^{2^{j}-1}e^{2\\pi i\\theta }|\\psi \\rangle =\\cdots =e^{2\\pi i2^{j}\\theta }|\\psi \\rangle$$\n",
    "\n",
    "\n",
    "\n",
    "Applying all the $n$ controlled operations $CU^{2^j}$ with $0\\leq j\\leq n-1$, and using the relation $|0\\rangle \\otimes |\\psi \\rangle +|1\\rangle \\otimes e^{2\\pi i\\theta }|\\psi \\rangle =\\left(|0\\rangle +e^{2\\pi i\\theta }|1\\rangle \\right)\\otimes |\\psi \\rangle$:\n",
    "\n",
    "\\begin{aligned}\n",
    "|\\psi_{2}\\rangle & =\\frac {1}{2^{\\frac {n}{2}}} \\left(|0\\rangle+{e^{\\boldsymbol{2\\pi i} \\theta 2^{n-1}}}|1\\rangle \\right) \\otimes \\cdots \\otimes \\left(|0\\rangle+{e^{\\boldsymbol{2\\pi i} \\theta 2^{1}}}\\vert1\\rangle \\right) \\otimes \\left(|0\\rangle+{e^{\\boldsymbol{2\\pi i} \\theta 2^{0}}}\\vert1\\rangle \\right) \\otimes |\\psi\\rangle\\\\\\\\\n",
    "& = \\frac{1}{2^{\\frac {n}{2}}}\\sum _{k=0}^{2^{n}-1}e^{\\boldsymbol{2\\pi i} \\theta k}|k\\rangle \\otimes \\vert\\psi\\rangle\n",
    "\\end{aligned}\n",
    "where $k$ denotes the integer representation of n-bit binary numbers. \n",
    "\n",
    "iv. **Inverse Fourier Transform**: Notice that the above expression is exactly the result of applying a quantum Fourier transform as we derived in the notebook on [Quantum Fourier Transform and its Qiskit Implementation](https://qiskit.org/textbook/ch-algorithms/quantum-fourier-transform.html). Recall that QFT maps an n-qubit input state $\\vert x\\rangle$ into an output as\n",
    "\n",
    "$$\n",
    "QFT\\vert x \\rangle = \\frac{1}{2^\\frac{n}{2}}\n",
    "\\left(\\vert0\\rangle + e^{\\frac{2\\pi i}{2}x} \\vert1\\rangle\\right) \n",
    "\\otimes\n",
    "\\left(\\vert0\\rangle + e^{\\frac{2\\pi i}{2^2}x} \\vert1\\rangle\\right) \n",
    "\\otimes  \n",
    "\\ldots\n",
    "\\otimes\n",
    "\\left(\\vert0\\rangle + e^{\\frac{2\\pi i}{2^{n-1}}x} \\vert1\\rangle\\right) \n",
    "\\otimes\n",
    "\\left(\\vert0\\rangle + e^{\\frac{2\\pi i}{2^n}x} \\vert1\\rangle\\right) \n",
    "$$\n",
    "\n",
    "Replacing $x$ by $2^n\\theta$ in the above expression gives exactly the expression derived in step 2 above. Therefore, to recover the state $\\vert2^n\\theta\\rangle$, apply an inverse Fourier transform on the auxiliary register. Doing so, we find\n",
    "\n",
    "$$\n",
    "\\vert\\psi_3\\rangle = \\frac {1}{2^{\\frac {n}{2}}}\\sum _{k=0}^{2^{n}-1}e^{\\boldsymbol{2\\pi i} \\theta k}|k\\rangle \\otimes | \\psi \\rangle \\xrightarrow{\\mathcal{QFT}_n^{-1}} \\frac {1}{2^n}\\sum _{x=0}^{2^{n}-1}\\sum _{k=0}^{2^{n}-1} e^{-\\frac{2\\pi i k}{2^n}(x - 2^n \\theta)} |x\\rangle \\otimes |\\psi\\rangle\n",
    "$$ \n",
    "\n",
    "v. **Measurement**: \n",
    "The above expression peaks near $x = 2^n\\theta$. For the case when $2^n\\theta$ is an integer, measuring in the computational basis gives the phase in the auxiliary register with high probability: \n",
    "\n",
    "\n",
    "\n",
    "$$ |\\psi_4\\rangle = | 2^n \\theta \\rangle \\otimes | \\psi \\rangle$$\n",
    "\n",
    "\n",
    "\n",
    "For the case when $2^n\\theta$ is not an integer, it can be shown that the above expression still peaks near $x = 2^n\\theta$ with probability better than $4/\\pi^2 \\approx 40\\%$ [1]."
   ]
  },
  {
   "cell_type": "markdown",
   "metadata": {},
   "source": [
    "## 2. Example: T-gate <a id='example_t_gate'></a>"
   ]
  },
  {
   "cell_type": "markdown",
   "metadata": {},
   "source": [
    "Let’s take a gate we know well, the $T$-gate, and use Quantum Phase Estimation to estimate its phase. You will remember that the $T$-gate adds a phase of $e^\\frac{i\\pi}{4}$ to the state $|1\\rangle$:\n",
    "\n",
    "$$ T|1\\rangle = \n",
    "\\begin{bmatrix}\n",
    "1 & 0\\\\\n",
    "0 & e^\\frac{i\\pi}{4}\\\\ \n",
    "\\end{bmatrix}\n",
    "\\begin{bmatrix}\n",
    "0\\\\\n",
    "1\\\\ \n",
    "\\end{bmatrix}\n",
    "= e^\\frac{i\\pi}{4}|1\\rangle $$\n",
    "\n",
    "Since QPE will give us $\\theta$ where:\n",
    "\n",
    "\n",
    "\n",
    "$$ T|1\\rangle = e^{2i\\pi\\theta}|1\\rangle $$\n",
    "\n",
    "\n",
    "\n",
    "We expect to find:\n",
    "\n",
    "\n",
    "\n",
    "$$\\theta = \\frac{1}{8}$$\n",
    "\n",
    "\n",
    "\n",
    "In this example we will use three qubits and obtain an _exact_ result (not an estimation!)"
   ]
  },
  {
   "cell_type": "markdown",
   "metadata": {},
   "source": [
    "### 2.1 Creating the Circuit <a id='creating_the_circuit'></a>\n",
    "Let's first prepare our environment:"
   ]
  },
  {
   "cell_type": "code",
   "execution_count": 1,
   "metadata": {},
   "outputs": [],
   "source": [
    "#initialization\n",
    "import matplotlib.pyplot as plt\n",
    "import numpy as np\n",
    "import math\n",
    "\n",
    "# importing Qiskit\n",
    "from qiskit import IBMQ, Aer, transpile, assemble\n",
    "from qiskit import QuantumCircuit, ClassicalRegister, QuantumRegister\n",
    "\n",
    "# import basic plot tools\n",
    "from qiskit.visualization import plot_histogram"
   ]
  },
  {
   "cell_type": "markdown",
   "metadata": {},
   "source": [
    "Now, set up the quantum circuit. We will use four qubits -- qubits 0 to 2 as counting qubits, and qubit 3 as the eigenstate of the unitary operator ($T$). \n",
    "\n",
    "We initialize $\\vert\\psi\\rangle = \\vert1\\rangle$ by applying an $X$ gate:"
   ]
  },
  {
   "cell_type": "code",
   "execution_count": 17,
   "metadata": {},
   "outputs": [
    {
     "data": {
      "text/html": [
       "<pre style=\"word-wrap: normal;white-space: pre;background: #fff0;line-height: 1.1;font-family: &quot;Courier New&quot;,Courier,monospace\">          \n",
       "q_0: ─────\n",
       "          \n",
       "q_1: ─────\n",
       "          \n",
       "q_2: ─────\n",
       "     ┌───┐\n",
       "q_3: ┤ X ├\n",
       "     └───┘\n",
       "c: 3/═════\n",
       "          </pre>"
      ],
      "text/plain": [
       "          \n",
       "q_0: ─────\n",
       "          \n",
       "q_1: ─────\n",
       "          \n",
       "q_2: ─────\n",
       "     ┌───┐\n",
       "q_3: ┤ X ├\n",
       "     └───┘\n",
       "c: 3/═════\n",
       "          "
      ]
     },
     "execution_count": 17,
     "metadata": {},
     "output_type": "execute_result"
    }
   ],
   "source": [
    "qpe = QuantumCircuit(4, 3)\n",
    "qpe.x(3)\n",
    "qpe.draw()"
   ]
  },
  {
   "cell_type": "markdown",
   "metadata": {},
   "source": [
    "Next, we apply Hadamard gates to the counting qubits:"
   ]
  },
  {
   "cell_type": "code",
   "execution_count": 18,
   "metadata": {},
   "outputs": [
    {
     "data": {
      "text/html": [
       "<pre style=\"word-wrap: normal;white-space: pre;background: #fff0;line-height: 1.1;font-family: &quot;Courier New&quot;,Courier,monospace\">     ┌───┐\n",
       "q_0: ┤ H ├\n",
       "     ├───┤\n",
       "q_1: ┤ H ├\n",
       "     ├───┤\n",
       "q_2: ┤ H ├\n",
       "     ├───┤\n",
       "q_3: ┤ X ├\n",
       "     └───┘\n",
       "c: 3/═════\n",
       "          </pre>"
      ],
      "text/plain": [
       "     ┌───┐\n",
       "q_0: ┤ H ├\n",
       "     ├───┤\n",
       "q_1: ┤ H ├\n",
       "     ├───┤\n",
       "q_2: ┤ H ├\n",
       "     ├───┤\n",
       "q_3: ┤ X ├\n",
       "     └───┘\n",
       "c: 3/═════\n",
       "          "
      ]
     },
     "execution_count": 18,
     "metadata": {},
     "output_type": "execute_result"
    }
   ],
   "source": [
    "for qubit in range(3):\n",
    "    qpe.h(qubit)\n",
    "qpe.draw()"
   ]
  },
  {
   "cell_type": "markdown",
   "metadata": {},
   "source": [
    "Next we perform the controlled unitary operations. **Remember:** Qiskit orders its qubits the opposite way round to the image above."
   ]
  },
  {
   "cell_type": "code",
   "execution_count": 19,
   "metadata": {},
   "outputs": [
    {
     "data": {
      "text/html": [
       "<pre style=\"word-wrap: normal;white-space: pre;background: #fff0;line-height: 1.1;font-family: &quot;Courier New&quot;,Courier,monospace\">     ┌───┐                                                               \n",
       "q_0: ┤ H ├─■─────────────────────────────────────────────────────────────\n",
       "     ├───┤ │                                                             \n",
       "q_1: ┤ H ├─┼────────■────────■───────────────────────────────────────────\n",
       "     ├───┤ │        │        │                                           \n",
       "q_2: ┤ H ├─┼────────┼────────┼────────■────────■────────■────────■───────\n",
       "     ├───┤ │P(π/4)  │P(π/4)  │P(π/4)  │P(π/4)  │P(π/4)  │P(π/4)  │P(π/4) \n",
       "q_3: ┤ X ├─■────────■────────■────────■────────■────────■────────■───────\n",
       "     └───┘                                                               \n",
       "c: 3/════════════════════════════════════════════════════════════════════\n",
       "                                                                         </pre>"
      ],
      "text/plain": [
       "     ┌───┐                                                               \n",
       "q_0: ┤ H ├─■─────────────────────────────────────────────────────────────\n",
       "     ├───┤ │                                                             \n",
       "q_1: ┤ H ├─┼────────■────────■───────────────────────────────────────────\n",
       "     ├───┤ │        │        │                                           \n",
       "q_2: ┤ H ├─┼────────┼────────┼────────■────────■────────■────────■───────\n",
       "     ├───┤ │P(π/4)  │P(π/4)  │P(π/4)  │P(π/4)  │P(π/4)  │P(π/4)  │P(π/4) \n",
       "q_3: ┤ X ├─■────────■────────■────────■────────■────────■────────■───────\n",
       "     └───┘                                                               \n",
       "c: 3/════════════════════════════════════════════════════════════════════\n",
       "                                                                         "
      ]
     },
     "execution_count": 19,
     "metadata": {},
     "output_type": "execute_result"
    }
   ],
   "source": [
    "repetitions = 1\n",
    "for counting_qubit in range(3):\n",
    "    for i in range(repetitions):\n",
    "        qpe.cp(math.pi/4, counting_qubit, 3); # This is CU\n",
    "    repetitions *= 2\n",
    "qpe.draw()"
   ]
  },
  {
   "cell_type": "markdown",
   "metadata": {},
   "source": [
    "We apply the inverse quantum Fourier transformation to convert the state of the counting register. Here we provide the code for $QFT^\\dagger$:"
   ]
  },
  {
   "cell_type": "code",
   "execution_count": 20,
   "metadata": {},
   "outputs": [],
   "source": [
    "def qft_dagger(qc, n):\n",
    "    \"\"\"n-qubit QFTdagger the first n qubits in circ\"\"\"\n",
    "    # Don't forget the Swaps!\n",
    "    for qubit in range(n//2):\n",
    "        qc.swap(qubit, n-qubit-1)\n",
    "    for j in range(n):\n",
    "        for m in range(j):\n",
    "            qc.cp(-math.pi/float(2**(j-m)), m, j)\n",
    "        qc.h(j)"
   ]
  },
  {
   "cell_type": "markdown",
   "metadata": {},
   "source": [
    "We then measure the counting register:"
   ]
  },
  {
   "cell_type": "code",
   "execution_count": 21,
   "metadata": {},
   "outputs": [],
   "source": [
    "qpe.barrier()\n",
    "# Apply inverse QFT\n",
    "qft_dagger(qpe, 3)\n",
    "# Measure\n",
    "qpe.barrier()\n",
    "for n in range(3):\n",
    "    qpe.measure(n,n)"
   ]
  },
  {
   "cell_type": "code",
   "execution_count": 22,
   "metadata": {
    "scrolled": false
   },
   "outputs": [
    {
     "data": {
      "text/html": [
       "<pre style=\"word-wrap: normal;white-space: pre;background: #fff0;line-height: 1.1;font-family: &quot;Courier New&quot;,Courier,monospace\">     ┌───┐                                                                ░    »\n",
       "q_0: ┤ H ├─■──────────────────────────────────────────────────────────────░──X─»\n",
       "     ├───┤ │                                                              ░  │ »\n",
       "q_1: ┤ H ├─┼────────■────────■────────────────────────────────────────────░──┼─»\n",
       "     ├───┤ │        │        │                                            ░  │ »\n",
       "q_2: ┤ H ├─┼────────┼────────┼────────■────────■────────■────────■────────░──X─»\n",
       "     ├───┤ │P(π/4)  │P(π/4)  │P(π/4)  │P(π/4)  │P(π/4)  │P(π/4)  │P(π/4)  ░    »\n",
       "q_3: ┤ X ├─■────────■────────■────────■────────■────────■────────■────────░────»\n",
       "     └───┘                                                                ░    »\n",
       "c: 3/══════════════════════════════════════════════════════════════════════════»\n",
       "                                                                               »\n",
       "«     ┌───┐                                         ░ ┌─┐      \n",
       "«q_0: ┤ H ├─■──────────────■────────────────────────░─┤M├──────\n",
       "«     └───┘ │P(-π/2) ┌───┐ │                        ░ └╥┘┌─┐   \n",
       "«q_1: ──────■────────┤ H ├─┼─────────■──────────────░──╫─┤M├───\n",
       "«                    └───┘ │P(-π/4)  │P(-π/2) ┌───┐ ░  ║ └╥┘┌─┐\n",
       "«q_2: ─────────────────────■─────────■────────┤ H ├─░──╫──╫─┤M├\n",
       "«                                             └───┘ ░  ║  ║ └╥┘\n",
       "«q_3: ──────────────────────────────────────────────░──╫──╫──╫─\n",
       "«                                                   ░  ║  ║  ║ \n",
       "«c: 3/═════════════════════════════════════════════════╩══╩══╩═\n",
       "«                                                      0  1  2 </pre>"
      ],
      "text/plain": [
       "     ┌───┐                                                                ░    »\n",
       "q_0: ┤ H ├─■──────────────────────────────────────────────────────────────░──X─»\n",
       "     ├───┤ │                                                              ░  │ »\n",
       "q_1: ┤ H ├─┼────────■────────■────────────────────────────────────────────░──┼─»\n",
       "     ├───┤ │        │        │                                            ░  │ »\n",
       "q_2: ┤ H ├─┼────────┼────────┼────────■────────■────────■────────■────────░──X─»\n",
       "     ├───┤ │P(π/4)  │P(π/4)  │P(π/4)  │P(π/4)  │P(π/4)  │P(π/4)  │P(π/4)  ░    »\n",
       "q_3: ┤ X ├─■────────■────────■────────■────────■────────■────────■────────░────»\n",
       "     └───┘                                                                ░    »\n",
       "c: 3/══════════════════════════════════════════════════════════════════════════»\n",
       "                                                                               »\n",
       "«     ┌───┐                                         ░ ┌─┐      \n",
       "«q_0: ┤ H ├─■──────────────■────────────────────────░─┤M├──────\n",
       "«     └───┘ │P(-π/2) ┌───┐ │                        ░ └╥┘┌─┐   \n",
       "«q_1: ──────■────────┤ H ├─┼─────────■──────────────░──╫─┤M├───\n",
       "«                    └───┘ │P(-π/4)  │P(-π/2) ┌───┐ ░  ║ └╥┘┌─┐\n",
       "«q_2: ─────────────────────■─────────■────────┤ H ├─░──╫──╫─┤M├\n",
       "«                                             └───┘ ░  ║  ║ └╥┘\n",
       "«q_3: ──────────────────────────────────────────────░──╫──╫──╫─\n",
       "«                                                   ░  ║  ║  ║ \n",
       "«c: 3/═════════════════════════════════════════════════╩══╩══╩═\n",
       "«                                                      0  1  2 "
      ]
     },
     "execution_count": 22,
     "metadata": {},
     "output_type": "execute_result"
    }
   ],
   "source": [
    "qpe.draw()"
   ]
  },
  {
   "cell_type": "markdown",
   "metadata": {},
   "source": [
    "### 2.2 Results <a id='results'></a>"
   ]
  },
  {
   "cell_type": "code",
   "execution_count": 23,
   "metadata": {},
   "outputs": [
    {
     "data": {
      "image/png": "[encoded data removed]",
      "text/plain": [
       "<Figure size 504x360 with 1 Axes>"
      ]
     },
     "execution_count": 23,
     "metadata": {},
     "output_type": "execute_result"
    }
   ],
   "source": [
    "aer_sim = Aer.get_backend('aer_simulator')\n",
    "shots = 2048\n",
    "t_qpe = transpile(qpe, aer_sim)\n",
    "qobj = assemble(t_qpe, shots=shots)\n",
    "results = aer_sim.run(qobj).result()\n",
    "answer = results.get_counts()\n",
    "\n",
    "plot_histogram(answer)"
   ]
  },
  {
   "cell_type": "markdown",
   "metadata": {},
   "source": [
    "We see we get one result (`001`) with certainty, which translates to the decimal: `1`. We now need to divide our result (`1`) by $2^n$ to get $\\theta$:\n",
    "\n",
    "\n",
    "\n",
    "$$ \\theta = \\frac{1}{2^3} = \\frac{1}{8} $$\n",
    "\n",
    "\n",
    "\n",
    "This is exactly the result we expected!"
   ]
  },
  {
   "cell_type": "markdown",
   "metadata": {},
   "source": [
    "## 3. Example: Getting More Precision <a id='getting_more_precision'></a>\n",
    "### 3.1 The Problem <a id='the_problem'></a>\n",
    "\n",
    "Instead of a $T$-gate, let’s use a gate with $\\theta = \\frac{1}{3}$. We set up our circuit as with the last example:"
   ]
  },
  {
   "cell_type": "code",
   "execution_count": 11,
   "metadata": {},
   "outputs": [
    {
     "data": {
      "text/html": [
       "<pre style=\"word-wrap: normal;white-space: pre;background: #fff0;line-height: 1.1;font-family: &quot;Courier New&quot;,Courier,monospace\">     ┌───┐                                                            »\n",
       "q_0: ┤ H ├─■──────────────────────────────────────────────────────────»\n",
       "     ├───┤ │                                                          »\n",
       "q_1: ┤ H ├─┼─────────■─────────■──────────────────────────────────────»\n",
       "     ├───┤ │         │         │                                      »\n",
       "q_2: ┤ H ├─┼─────────┼─────────┼─────────■─────────■─────────■────────»\n",
       "     ├───┤ │P(2π/3)  │P(2π/3)  │P(2π/3)  │P(2π/3)  │P(2π/3)  │P(2π/3) »\n",
       "q_3: ┤ X ├─■─────────■─────────■─────────■─────────■─────────■────────»\n",
       "     └───┘                                                            »\n",
       "c: 3/═════════════════════════════════════════════════════════════════»\n",
       "                                                                      »\n",
       "«                  ┌───┐                                   ┌─┐           \n",
       "«q_0: ───────────X─┤ H ├─■──────────────■──────────────────┤M├───────────\n",
       "«                │ └───┘ │P(-π/2) ┌───┐ │                  └╥┘     ┌─┐   \n",
       "«q_1: ───────────┼───────■────────┤ H ├─┼─────────■─────────╫──────┤M├───\n",
       "«                │                └───┘ │P(-π/4)  │P(-π/2)  ║ ┌───┐└╥┘┌─┐\n",
       "«q_2: ─■─────────X──────────────────────■─────────■─────────╫─┤ H ├─╫─┤M├\n",
       "«      │P(2π/3)                                             ║ └───┘ ║ └╥┘\n",
       "«q_3: ─■────────────────────────────────────────────────────╫───────╫──╫─\n",
       "«                                                           ║       ║  ║ \n",
       "«c: 3/══════════════════════════════════════════════════════╩═══════╩══╩═\n",
       "«                                                           0       1  2 </pre>"
      ],
      "text/plain": [
       "     ┌───┐                                                            »\n",
       "q_0: ┤ H ├─■──────────────────────────────────────────────────────────»\n",
       "     ├───┤ │                                                          »\n",
       "q_1: ┤ H ├─┼─────────■─────────■──────────────────────────────────────»\n",
       "     ├───┤ │         │         │                                      »\n",
       "q_2: ┤ H ├─┼─────────┼─────────┼─────────■─────────■─────────■────────»\n",
       "     ├───┤ │P(2π/3)  │P(2π/3)  │P(2π/3)  │P(2π/3)  │P(2π/3)  │P(2π/3) »\n",
       "q_3: ┤ X ├─■─────────■─────────■─────────■─────────■─────────■────────»\n",
       "     └───┘                                                            »\n",
       "c: 3/═════════════════════════════════════════════════════════════════»\n",
       "                                                                      »\n",
       "«                  ┌───┐                                   ┌─┐           \n",
       "«q_0: ───────────X─┤ H ├─■──────────────■──────────────────┤M├───────────\n",
       "«                │ └───┘ │P(-π/2) ┌───┐ │                  └╥┘     ┌─┐   \n",
       "«q_1: ───────────┼───────■────────┤ H ├─┼─────────■─────────╫──────┤M├───\n",
       "«                │                └───┘ │P(-π/4)  │P(-π/2)  ║ ┌───┐└╥┘┌─┐\n",
       "«q_2: ─■─────────X──────────────────────■─────────■─────────╫─┤ H ├─╫─┤M├\n",
       "«      │P(2π/3)                                             ║ └───┘ ║ └╥┘\n",
       "«q_3: ─■────────────────────────────────────────────────────╫───────╫──╫─\n",
       "«                                                           ║       ║  ║ \n",
       "«c: 3/══════════════════════════════════════════════════════╩═══════╩══╩═\n",
       "«                                                           0       1  2 "
      ]
     },
     "execution_count": 11,
     "metadata": {},
     "output_type": "execute_result"
    }
   ],
   "source": [
    "# Create and set up circuit\n",
    "qpe2 = QuantumCircuit(4, 3)\n",
    "\n",
    "# Apply H-Gates to counting qubits:\n",
    "for qubit in range(3):\n",
    "    qpe2.h(qubit)\n",
    "\n",
    "# Prepare our eigenstate |psi>:\n",
    "qpe2.x(3)\n",
    "\n",
    "# Do the controlled-U operations:\n",
    "angle = 2*math.pi/3\n",
    "repetitions = 1\n",
    "for counting_qubit in range(3):\n",
    "    for i in range(repetitions):\n",
    "        qpe2.cp(angle, counting_qubit, 3);\n",
    "    repetitions *= 2\n",
    "\n",
    "# Do the inverse QFT:\n",
    "qft_dagger(qpe2, 3)\n",
    "\n",
    "# Measure of course!\n",
    "for n in range(3):\n",
    "    qpe2.measure(n,n)\n",
    "\n",
    "qpe2.draw()"
   ]
  },
  {
   "cell_type": "code",
   "execution_count": 12,
   "metadata": {},
   "outputs": [
    {
     "data": {
      "image/png": "[encoded data removed]",
      "text/plain": [
       "<Figure size 504x360 with 1 Axes>"
      ]
     },
     "execution_count": 12,
     "metadata": {},
     "output_type": "execute_result"
    }
   ],
   "source": [
    "# Let's see the results!\n",
    "aer_sim = Aer.get_backend('aer_simulator')\n",
    "shots = 4096\n",
    "t_qpe2 = transpile(qpe2, aer_sim)\n",
    "qobj = assemble(t_qpe2, shots=shots)\n",
    "results = aer_sim.run(qobj).result()\n",
    "answer = results.get_counts()\n",
    "\n",
    "plot_histogram(answer)"
   ]
  },
  {
   "cell_type": "markdown",
   "metadata": {},
   "source": [
    "We are expecting the result $\\theta = 0.3333\\dots$, and we see our most likely results are `010(bin) = 2(dec)` and `011(bin) = 3(dec)`. These two results would tell us that $\\theta = 0.25$ (off by 25%) and $\\theta = 0.375$ (off by 13%) respectively. The true value of $\\theta$ lies between the values we can get from our counting bits, and this gives us uncertainty and imprecision.\n",
    "\n",
    "### 3.2 The Solution <a id='the_solution'></a>\n",
    "To get more precision we simply add more counting qubits. We are going to add two more counting qubits:"
   ]
  },
  {
   "cell_type": "code",
   "execution_count": 25,
   "metadata": {
    "scrolled": false
   },
   "outputs": [
    {
     "data": {
      "text/html": [
       "<pre style=\"word-wrap: normal;white-space: pre;background: #fff0;line-height: 1.1;font-family: &quot;Courier New&quot;,Courier,monospace\">     ┌───┐                                                            »\n",
       "q_0: ┤ H ├─■──────────────────────────────────────────────────────────»\n",
       "     ├───┤ │                                                          »\n",
       "q_1: ┤ H ├─┼─────────■─────────■──────────────────────────────────────»\n",
       "     ├───┤ │         │         │                                      »\n",
       "q_2: ┤ H ├─┼─────────┼─────────┼─────────■─────────■─────────■────────»\n",
       "     ├───┤ │         │         │         │         │         │        »\n",
       "q_3: ┤ H ├─┼─────────┼─────────┼─────────┼─────────┼─────────┼────────»\n",
       "     ├───┤ │         │         │         │         │         │        »\n",
       "q_4: ┤ H ├─┼─────────┼─────────┼─────────┼─────────┼─────────┼────────»\n",
       "     ├───┤ │P(2π/3)  │P(2π/3)  │P(2π/3)  │P(2π/3)  │P(2π/3)  │P(2π/3) »\n",
       "q_5: ┤ X ├─■─────────■─────────■─────────■─────────■─────────■────────»\n",
       "     └───┘                                                            »\n",
       "c: 5/═════════════════════════════════════════════════════════════════»\n",
       "                                                                      »\n",
       "«                                                                           »\n",
       "«q_0: ──────────────────────────────────────────────────────────────────────»\n",
       "«                                                                           »\n",
       "«q_1: ──────────────────────────────────────────────────────────────────────»\n",
       "«                                                                           »\n",
       "«q_2: ─■────────────────────────────────────────────────────────────────────»\n",
       "«      │                                                                    »\n",
       "«q_3: ─┼─────────■─────────■─────────■─────────■─────────■─────────■────────»\n",
       "«      │         │         │         │         │         │         │        »\n",
       "«q_4: ─┼─────────┼─────────┼─────────┼─────────┼─────────┼─────────┼────────»\n",
       "«      │P(2π/3)  │P(2π/3)  │P(2π/3)  │P(2π/3)  │P(2π/3)  │P(2π/3)  │P(2π/3) »\n",
       "«q_5: ─■─────────■─────────■─────────■─────────■─────────■─────────■────────»\n",
       "«                                                                           »\n",
       "«c: 5/══════════════════════════════════════════════════════════════════════»\n",
       "«                                                                           »\n",
       "«                                                                           »\n",
       "«q_0: ──────────────────────────────────────────────────────────────────────»\n",
       "«                                                                           »\n",
       "«q_1: ────────────────────────X─────────────────────────────────────────────»\n",
       "«                             │                                             »\n",
       "«q_2: ────────────────────────┼─────────────────────────────────────────────»\n",
       "«                             │                                             »\n",
       "«q_3: ─■─────────■────────────X─────────────────────────────────────────────»\n",
       "«      │         │                                                          »\n",
       "«q_4: ─┼─────────┼─────────■─────────■─────────■─────────■─────────■────────»\n",
       "«      │P(2π/3)  │P(2π/3)  │P(2π/3)  │P(2π/3)  │P(2π/3)  │P(2π/3)  │P(2π/3) »\n",
       "«q_5: ─■─────────■─────────■─────────■─────────■─────────■─────────■────────»\n",
       "«                                                                           »\n",
       "«c: 5/══════════════════════════════════════════════════════════════════════»\n",
       "«                                                                           »\n",
       "«                                                                           »\n",
       "«q_0: ──────────────────────────────────────────────────────────────────────»\n",
       "«                                                                           »\n",
       "«q_1: ──────────────────────────────────────────────────────────────────────»\n",
       "«                                                                           »\n",
       "«q_2: ──────────────────────────────────────────────────────────────────────»\n",
       "«                                                                           »\n",
       "«q_3: ──────────────────────────────────────────────────────────────────────»\n",
       "«                                                                           »\n",
       "«q_4: ─■─────────■─────────■─────────■─────────■─────────■─────────■────────»\n",
       "«      │P(2π/3)  │P(2π/3)  │P(2π/3)  │P(2π/3)  │P(2π/3)  │P(2π/3)  │P(2π/3) »\n",
       "«q_5: ─■─────────■─────────■─────────■─────────■─────────■─────────■────────»\n",
       "«                                                                           »\n",
       "«c: 5/══════════════════════════════════════════════════════════════════════»\n",
       "«                                                                           »\n",
       "«                                                ┌───┐                         »\n",
       "«q_0: ─────────────────────────────────────────X─┤ H ├─■──────────────■────────»\n",
       "«                                              │ └───┘ │P(-π/2) ┌───┐ │        »\n",
       "«q_1: ─────────────────────────────────────────┼───────■────────┤ H ├─┼────────»\n",
       "«                                              │                └───┘ │P(-π/4) »\n",
       "«q_2: ─────────────────────────────────────────┼──────────────────────■────────»\n",
       "«                                              │                               »\n",
       "«q_3: ─────────────────────────────────────────┼───────────────────────────────»\n",
       "«                                              │                               »\n",
       "«q_4: ─■─────────■─────────■─────────■─────────X───────────────────────────────»\n",
       "«      │P(2π/3)  │P(2π/3)  │P(2π/3)  │P(2π/3)                                  »\n",
       "«q_5: ─■─────────■─────────■─────────■─────────────────────────────────────────»\n",
       "«                                                                              »\n",
       "«c: 5/═════════════════════════════════════════════════════════════════════════»\n",
       "«                                                                              »\n",
       "«                                                                            »\n",
       "«q_0: ───────────■────────────────────────■──────────────────────────────────»\n",
       "«                │                        │                                  »\n",
       "«q_1: ─■─────────┼──────────────■─────────┼────────────────────■─────────────»\n",
       "«      │P(-π/2)  │        ┌───┐ │         │                    │             »\n",
       "«q_2: ─■─────────┼────────┤ H ├─┼─────────┼──────────■─────────┼─────────────»\n",
       "«                │P(-π/8) └───┘ │P(-π/4)  │          │P(-π/2)  │        ┌───┐»\n",
       "«q_3: ───────────■──────────────■─────────┼──────────■─────────┼────────┤ H ├»\n",
       "«                                         │P(-π/16)            │P(-π/8) └───┘»\n",
       "«q_4: ────────────────────────────────────■────────────────────■─────────────»\n",
       "«                                                                            »\n",
       "«q_5: ───────────────────────────────────────────────────────────────────────»\n",
       "«                                                                            »\n",
       "«c: 5/═══════════════════════════════════════════════════════════════════════»\n",
       "«                                                                            »\n",
       "«                               ░ ┌─┐            \n",
       "«q_0: ──────────────────────────░─┤M├────────────\n",
       "«                               ░ └╥┘┌─┐         \n",
       "«q_1: ──────────────────────────░──╫─┤M├─────────\n",
       "«                               ░  ║ └╥┘┌─┐      \n",
       "«q_2: ─■────────────────────────░──╫──╫─┤M├──────\n",
       "«      │                        ░  ║  ║ └╥┘┌─┐   \n",
       "«q_3: ─┼─────────■──────────────░──╫──╫──╫─┤M├───\n",
       "«      │P(-π/4)  │P(-π/2) ┌───┐ ░  ║  ║  ║ └╥┘┌─┐\n",
       "«q_4: ─■─────────■────────┤ H ├─░──╫──╫──╫──╫─┤M├\n",
       "«                         └───┘ ░  ║  ║  ║  ║ └╥┘\n",
       "«q_5: ──────────────────────────░──╫──╫──╫──╫──╫─\n",
       "«                               ░  ║  ║  ║  ║  ║ \n",
       "«c: 5/═════════════════════════════╩══╩══╩══╩══╩═\n",
       "«                                  0  1  2  3  4 </pre>"
      ],
      "text/plain": [
       "     ┌───┐                                                            »\n",
       "q_0: ┤ H ├─■──────────────────────────────────────────────────────────»\n",
       "     ├───┤ │                                                          »\n",
       "q_1: ┤ H ├─┼─────────■─────────■──────────────────────────────────────»\n",
       "     ├───┤ │         │         │                                      »\n",
       "q_2: ┤ H ├─┼─────────┼─────────┼─────────■─────────■─────────■────────»\n",
       "     ├───┤ │         │         │         │         │         │        »\n",
       "q_3: ┤ H ├─┼─────────┼─────────┼─────────┼─────────┼─────────┼────────»\n",
       "     ├───┤ │         │         │         │         │         │        »\n",
       "q_4: ┤ H ├─┼─────────┼─────────┼─────────┼─────────┼─────────┼────────»\n",
       "     ├───┤ │P(2π/3)  │P(2π/3)  │P(2π/3)  │P(2π/3)  │P(2π/3)  │P(2π/3) »\n",
       "q_5: ┤ X ├─■─────────■─────────■─────────■─────────■─────────■────────»\n",
       "     └───┘                                                            »\n",
       "c: 5/═════════════════════════════════════════════════════════════════»\n",
       "                                                                      »\n",
       "«                                                                           »\n",
       "«q_0: ──────────────────────────────────────────────────────────────────────»\n",
       "«                                                                           »\n",
       "«q_1: ──────────────────────────────────────────────────────────────────────»\n",
       "«                                                                           »\n",
       "«q_2: ─■────────────────────────────────────────────────────────────────────»\n",
       "«      │                                                                    »\n",
       "«q_3: ─┼─────────■─────────■─────────■─────────■─────────■─────────■────────»\n",
       "«      │         │         │         │         │         │         │        »\n",
       "«q_4: ─┼─────────┼─────────┼─────────┼─────────┼─────────┼─────────┼────────»\n",
       "«      │P(2π/3)  │P(2π/3)  │P(2π/3)  │P(2π/3)  │P(2π/3)  │P(2π/3)  │P(2π/3) »\n",
       "«q_5: ─■─────────■─────────■─────────■─────────■─────────■─────────■────────»\n",
       "«                                                                           »\n",
       "«c: 5/══════════════════════════════════════════════════════════════════════»\n",
       "«                                                                           »\n",
       "«                                                                           »\n",
       "«q_0: ──────────────────────────────────────────────────────────────────────»\n",
       "«                                                                           »\n",
       "«q_1: ────────────────────────X─────────────────────────────────────────────»\n",
       "«                             │                                             »\n",
       "«q_2: ────────────────────────┼─────────────────────────────────────────────»\n",
       "«                             │                                             »\n",
       "«q_3: ─■─────────■────────────X─────────────────────────────────────────────»\n",
       "«      │         │                                                          »\n",
       "«q_4: ─┼─────────┼─────────■─────────■─────────■─────────■─────────■────────»\n",
       "«      │P(2π/3)  │P(2π/3)  │P(2π/3)  │P(2π/3)  │P(2π/3)  │P(2π/3)  │P(2π/3) »\n",
       "«q_5: ─■─────────■─────────■─────────■─────────■─────────■─────────■────────»\n",
       "«                                                                           »\n",
       "«c: 5/══════════════════════════════════════════════════════════════════════»\n",
       "«                                                                           »\n",
       "«                                                                           »\n",
       "«q_0: ──────────────────────────────────────────────────────────────────────»\n",
       "«                                                                           »\n",
       "«q_1: ──────────────────────────────────────────────────────────────────────»\n",
       "«                                                                           »\n",
       "«q_2: ──────────────────────────────────────────────────────────────────────»\n",
       "«                                                                           »\n",
       "«q_3: ──────────────────────────────────────────────────────────────────────»\n",
       "«                                                                           »\n",
       "«q_4: ─■─────────■─────────■─────────■─────────■─────────■─────────■────────»\n",
       "«      │P(2π/3)  │P(2π/3)  │P(2π/3)  │P(2π/3)  │P(2π/3)  │P(2π/3)  │P(2π/3) »\n",
       "«q_5: ─■─────────■─────────■─────────■─────────■─────────■─────────■────────»\n",
       "«                                                                           »\n",
       "«c: 5/══════════════════════════════════════════════════════════════════════»\n",
       "«                                                                           »\n",
       "«                                                ┌───┐                         »\n",
       "«q_0: ─────────────────────────────────────────X─┤ H ├─■──────────────■────────»\n",
       "«                                              │ └───┘ │P(-π/2) ┌───┐ │        »\n",
       "«q_1: ─────────────────────────────────────────┼───────■────────┤ H ├─┼────────»\n",
       "«                                              │                └───┘ │P(-π/4) »\n",
       "«q_2: ─────────────────────────────────────────┼──────────────────────■────────»\n",
       "«                                              │                               »\n",
       "«q_3: ─────────────────────────────────────────┼───────────────────────────────»\n",
       "«                                              │                               »\n",
       "«q_4: ─■─────────■─────────■─────────■─────────X───────────────────────────────»\n",
       "«      │P(2π/3)  │P(2π/3)  │P(2π/3)  │P(2π/3)                                  »\n",
       "«q_5: ─■─────────■─────────■─────────■─────────────────────────────────────────»\n",
       "«                                                                              »\n",
       "«c: 5/═════════════════════════════════════════════════════════════════════════»\n",
       "«                                                                              »\n",
       "«                                                                            »\n",
       "«q_0: ───────────■────────────────────────■──────────────────────────────────»\n",
       "«                │                        │                                  »\n",
       "«q_1: ─■─────────┼──────────────■─────────┼────────────────────■─────────────»\n",
       "«      │P(-π/2)  │        ┌───┐ │         │                    │             »\n",
       "«q_2: ─■─────────┼────────┤ H ├─┼─────────┼──────────■─────────┼─────────────»\n",
       "«                │P(-π/8) └───┘ │P(-π/4)  │          │P(-π/2)  │        ┌───┐»\n",
       "«q_3: ───────────■──────────────■─────────┼──────────■─────────┼────────┤ H ├»\n",
       "«                                         │P(-π/16)            │P(-π/8) └───┘»\n",
       "«q_4: ────────────────────────────────────■────────────────────■─────────────»\n",
       "«                                                                            »\n",
       "«q_5: ───────────────────────────────────────────────────────────────────────»\n",
       "«                                                                            »\n",
       "«c: 5/═══════════════════════════════════════════════════════════════════════»\n",
       "«                                                                            »\n",
       "«                               ░ ┌─┐            \n",
       "«q_0: ──────────────────────────░─┤M├────────────\n",
       "«                               ░ └╥┘┌─┐         \n",
       "«q_1: ──────────────────────────░──╫─┤M├─────────\n",
       "«                               ░  ║ └╥┘┌─┐      \n",
       "«q_2: ─■────────────────────────░──╫──╫─┤M├──────\n",
       "«      │                        ░  ║  ║ └╥┘┌─┐   \n",
       "«q_3: ─┼─────────■──────────────░──╫──╫──╫─┤M├───\n",
       "«      │P(-π/4)  │P(-π/2) ┌───┐ ░  ║  ║  ║ └╥┘┌─┐\n",
       "«q_4: ─■─────────■────────┤ H ├─░──╫──╫──╫──╫─┤M├\n",
       "«                         └───┘ ░  ║  ║  ║  ║ └╥┘\n",
       "«q_5: ──────────────────────────░──╫──╫──╫──╫──╫─\n",
       "«                               ░  ║  ║  ║  ║  ║ \n",
       "«c: 5/═════════════════════════════╩══╩══╩══╩══╩═\n",
       "«                                  0  1  2  3  4 "
      ]
     },
     "execution_count": 25,
     "metadata": {},
     "output_type": "execute_result"
    }
   ],
   "source": [
    "# Create and set up circuit\n",
    "qpe3 = QuantumCircuit(6, 5)\n",
    "\n",
    "# Apply H-Gates to counting qubits:\n",
    "for qubit in range(5):\n",
    "    qpe3.h(qubit)\n",
    "\n",
    "# Prepare our eigenstate |psi>:\n",
    "qpe3.x(5)\n",
    "\n",
    "# Do the controlled-U operations:\n",
    "angle = 2*math.pi/3\n",
    "repetitions = 1\n",
    "for counting_qubit in range(5):\n",
    "    for i in range(repetitions):\n",
    "        qpe3.cp(angle, counting_qubit, 5);\n",
    "    repetitions *= 2\n",
    "\n",
    "# Do the inverse QFT:\n",
    "qft_dagger(qpe3, 5)\n",
    "\n",
    "# Measure of course!\n",
    "qpe3.barrier()\n",
    "for n in range(5):\n",
    "    qpe3.measure(n,n)\n",
    "\n",
    "qpe3.draw()"
   ]
  },
  {
   "cell_type": "code",
   "execution_count": 26,
   "metadata": {},
   "outputs": [
    {
     "data": {
      "image/png": "[encoded data removed]",
      "text/plain": [
       "<Figure size 504x360 with 1 Axes>"
      ]
     },
     "execution_count": 26,
     "metadata": {},
     "output_type": "execute_result"
    }
   ],
   "source": [
    "# Let's see the results!\n",
    "aer_sim = Aer.get_backend('aer_simulator')\n",
    "shots = 4096\n",
    "t_qpe3 = transpile(qpe3, aer_sim)\n",
    "qobj = assemble(t_qpe3, shots=shots)\n",
    "results = aer_sim.run(qobj).result()\n",
    "answer = results.get_counts()\n",
    "\n",
    "plot_histogram(answer)"
   ]
  },
  {
   "cell_type": "markdown",
   "metadata": {},
   "source": [
    "The two most likely measurements are now `01011` (decimal 11) and `01010` (decimal 10). Measuring these results would tell us $\\theta$ is:\n",
    "\n",
    "$$\n",
    "\\theta = \\frac{11}{2^5} = 0.344,\\;\\text{  or  }\\;\\; \\theta = \\frac{10}{2^5} = 0.313\n",
    "$$\n",
    "\n",
    "These two results differ from $\\frac{1}{3}$ by 3% and 6% respectively. A much better precision!"
   ]
  },
  {
   "cell_type": "markdown",
   "metadata": {},
   "source": [
    "## 4. Experiment with Real Devices <a id='real_devices'></a>\n",
    "### 4.1 Circuit from 2.1 <a id='circuit_2.1'></a>\n",
    "\n",
    "We can run the circuit in section 2.1 on a real device, let's remind ourselves of the circuit:"
   ]
  },
  {
   "cell_type": "code",
   "execution_count": 13,
   "metadata": {},
   "outputs": [
    {
     "data": {
      "image/svg+xml": "<?xml version=\"1.0\" encoding=\"utf-8\" standalone=\"no\"?>\n<!DOCTYPE svg PUBLIC \"-//W3C//DTD SVG 1.1//EN\"\n  \"http://www.w3.org/Graphics/SVG/1.1/DTD/svg11.dtd\">\n<!-- Created with matplotlib (https://matplotlib.org/) -->\n<svg height=\"532.5414pt\" version=\"1.1\" viewBox=\"0 0 1216.056036 532.5414\" width=\"1216.056036pt\" xmlns=\"http://www.w3.org/2000/svg\" xmlns:xlink=\"http://www.w3.org/1999/xlink\">\n <defs>\n  <style type=\"text/css\">\n*{stroke-linecap:butt;stroke-linejoin:round;}\n  </style>\n </defs>\n <g id=\"figure_1\">\n  <g id=\"patch_1\">\n   <path d=\"M -0 532.5414 \nL 1216.056036 532.5414 \nL 1216.056036 -0 \nL -0 -0 \nz\n\" style=\"fill:#ffffff;\"/>\n  </g>\n  <g id=\"axes_1\">\n   <g id=\"patch_2\">\n    <path clip-path=\"url(#p38cd253e9a)\" d=\"M 173.027746 487.730697 \nL 184.845006 487.730697 \nL 178.936376 496.25276 \nz\n\" style=\"fill:#778899;\"/>\n   </g>\n   <g id=\"patch_3\">\n    <path clip-path=\"url(#p38cd253e9a)\" d=\"M 218.478746 487.730697 \nL 230.296006 487.730697 \nL 224.387376 496.25276 \nz\n\" style=\"fill:#778899;\"/>\n   </g>\n   <g id=\"patch_4\">\n    <path clip-path=\"url(#p38cd253e9a)\" d=\"M 263.929746 487.730697 \nL 275.747006 487.730697 \nL 269.838376 496.25276 \nz\n\" style=\"fill:#778899;\"/>\n   </g>\n   <g id=\"line2d_1\">\n    <path clip-path=\"url(#p38cd253e9a)\" d=\"M 63.490836 43.5608 \nL 1204.310936 43.5608 \n\" style=\"fill:none;stroke:#000000;stroke-linecap:square;stroke-width:2;\"/>\n   </g>\n   <g id=\"line2d_2\">\n    <path clip-path=\"url(#p38cd253e9a)\" d=\"M 63.490836 89.0118 \nL 1204.310936 89.0118 \n\" style=\"fill:none;stroke:#000000;stroke-linecap:square;stroke-width:2;\"/>\n   </g>\n   <g id=\"line2d_3\">\n    <path clip-path=\"url(#p38cd253e9a)\" d=\"M 63.490836 134.4628 \nL 1204.310936 134.4628 \n\" style=\"fill:none;stroke:#000000;stroke-linecap:square;stroke-width:2;\"/>\n   </g>\n   <g id=\"line2d_4\">\n    <path clip-path=\"url(#p38cd253e9a)\" d=\"M 63.490836 179.9138 \nL 1204.310936 179.9138 \n\" style=\"fill:none;stroke:#000000;stroke-linecap:square;stroke-width:2;\"/>\n   </g>\n   <g id=\"line2d_5\">\n    <path clip-path=\"url(#p38cd253e9a)\" d=\"M 63.490836 223.887642 \nL 1204.310936 223.887642 \n\" style=\"fill:none;stroke:#778899;stroke-linecap:square;stroke-width:2;\"/>\n   </g>\n   <g id=\"line2d_6\">\n    <path clip-path=\"url(#p38cd253e9a)\" d=\"M 63.490836 226.841957 \nL 1204.310936 226.841957 \n\" style=\"fill:none;stroke:#778899;stroke-linecap:square;stroke-width:2;\"/>\n   </g>\n   <g id=\"line2d_7\">\n    <path clip-path=\"url(#p38cd253e9a)\" d=\"M 63.490836 316.2668 \nL 1204.310936 316.2668 \n\" style=\"fill:none;stroke:#000000;stroke-linecap:square;stroke-width:2;\"/>\n   </g>\n   <g id=\"line2d_8\">\n    <path clip-path=\"url(#p38cd253e9a)\" d=\"M 63.490836 361.7178 \nL 1204.310936 361.7178 \n\" style=\"fill:none;stroke:#000000;stroke-linecap:square;stroke-width:2;\"/>\n   </g>\n   <g id=\"line2d_9\">\n    <path clip-path=\"url(#p38cd253e9a)\" d=\"M 63.490836 407.1688 \nL 1204.310936 407.1688 \n\" style=\"fill:none;stroke:#000000;stroke-linecap:square;stroke-width:2;\"/>\n   </g>\n   <g id=\"line2d_10\">\n    <path clip-path=\"url(#p38cd253e9a)\" d=\"M 63.490836 452.6198 \nL 1204.310936 452.6198 \n\" style=\"fill:none;stroke:#000000;stroke-linecap:square;stroke-width:2;\"/>\n   </g>\n   <g id=\"line2d_11\">\n    <path clip-path=\"url(#p38cd253e9a)\" d=\"M 63.490836 496.593642 \nL 1204.310936 496.593642 \n\" style=\"fill:none;stroke:#778899;stroke-linecap:square;stroke-width:2;\"/>\n   </g>\n   <g id=\"line2d_12\">\n    <path clip-path=\"url(#p38cd253e9a)\" d=\"M 63.490836 499.547957 \nL 1204.310936 499.547957 \n\" style=\"fill:none;stroke:#778899;stroke-linecap:square;stroke-width:2;\"/>\n   </g>\n   <g id=\"patch_5\">\n    <path clip-path=\"url(#p38cd253e9a)\" d=\"M 760.936431 66.2863 \nL 778.662321 66.2863 \nL 778.662321 20.8353 \nL 760.936431 20.8353 \nz\n\" style=\"fill:#bdbdbd;opacity:0.6;\"/>\n   </g>\n   <g id=\"patch_6\">\n    <path clip-path=\"url(#p38cd253e9a)\" d=\"M 760.936431 111.7373 \nL 778.662321 111.7373 \nL 778.662321 66.2863 \nL 760.936431 66.2863 \nz\n\" style=\"fill:#bdbdbd;opacity:0.6;\"/>\n   </g>\n   <g id=\"patch_7\">\n    <path clip-path=\"url(#p38cd253e9a)\" d=\"M 760.936431 157.1883 \nL 778.662321 157.1883 \nL 778.662321 111.7373 \nL 760.936431 111.7373 \nz\n\" style=\"fill:#bdbdbd;opacity:0.6;\"/>\n   </g>\n   <g id=\"patch_8\">\n    <path clip-path=\"url(#p38cd253e9a)\" d=\"M 760.936431 202.6393 \nL 778.662321 202.6393 \nL 778.662321 157.1883 \nL 760.936431 157.1883 \nz\n\" style=\"fill:#bdbdbd;opacity:0.6;\"/>\n   </g>\n   <g id=\"patch_9\">\n    <path clip-path=\"url(#p38cd253e9a)\" d=\"M 124.622431 338.9923 \nL 142.348321 338.9923 \nL 142.348321 293.5413 \nL 124.622431 293.5413 \nz\n\" style=\"fill:#bdbdbd;opacity:0.6;\"/>\n   </g>\n   <g id=\"patch_10\">\n    <path clip-path=\"url(#p38cd253e9a)\" d=\"M 124.622431 384.4433 \nL 142.348321 384.4433 \nL 142.348321 338.9923 \nL 124.622431 338.9923 \nz\n\" style=\"fill:#bdbdbd;opacity:0.6;\"/>\n   </g>\n   <g id=\"patch_11\">\n    <path clip-path=\"url(#p38cd253e9a)\" d=\"M 124.622431 429.8943 \nL 142.348321 429.8943 \nL 142.348321 384.4433 \nL 124.622431 384.4433 \nz\n\" style=\"fill:#bdbdbd;opacity:0.6;\"/>\n   </g>\n   <g id=\"patch_12\">\n    <path clip-path=\"url(#p38cd253e9a)\" d=\"M 124.622431 475.3453 \nL 142.348321 475.3453 \nL 142.348321 429.8943 \nL 124.622431 429.8943 \nz\n\" style=\"fill:#bdbdbd;opacity:0.6;\"/>\n   </g>\n   <g id=\"line2d_13\">\n    <path clip-path=\"url(#p38cd253e9a)\" d=\"M 156.210876 179.9138 \nL 156.210876 43.5608 \n\" style=\"fill:none;stroke:#bb8bff;stroke-linecap:square;stroke-width:2;\"/>\n   </g>\n   <g id=\"line2d_14\">\n    <path clip-path=\"url(#p38cd253e9a)\" d=\"M 247.112876 179.9138 \nL 247.112876 89.0118 \n\" style=\"fill:none;stroke:#bb8bff;stroke-linecap:square;stroke-width:2;\"/>\n   </g>\n   <g id=\"line2d_15\">\n    <path clip-path=\"url(#p38cd253e9a)\" d=\"M 338.014876 179.9138 \nL 338.014876 89.0118 \n\" style=\"fill:none;stroke:#bb8bff;stroke-linecap:square;stroke-width:2;\"/>\n   </g>\n   <g id=\"line2d_16\">\n    <path clip-path=\"url(#p38cd253e9a)\" d=\"M 428.916876 179.9138 \nL 428.916876 134.4628 \n\" style=\"fill:none;stroke:#bb8bff;stroke-linecap:square;stroke-width:2;\"/>\n   </g>\n   <g id=\"line2d_17\">\n    <path clip-path=\"url(#p38cd253e9a)\" d=\"M 519.818876 179.9138 \nL 519.818876 134.4628 \n\" style=\"fill:none;stroke:#bb8bff;stroke-linecap:square;stroke-width:2;\"/>\n   </g>\n   <g id=\"line2d_18\">\n    <path clip-path=\"url(#p38cd253e9a)\" d=\"M 610.720876 179.9138 \nL 610.720876 134.4628 \n\" style=\"fill:none;stroke:#bb8bff;stroke-linecap:square;stroke-width:2;\"/>\n   </g>\n   <g id=\"line2d_19\">\n    <path clip-path=\"url(#p38cd253e9a)\" d=\"M 701.622876 179.9138 \nL 701.622876 134.4628 \n\" style=\"fill:none;stroke:#bb8bff;stroke-linecap:square;stroke-width:2;\"/>\n   </g>\n   <g id=\"line2d_20\">\n    <path clip-path=\"url(#p38cd253e9a)\" d=\"M 815.250376 134.4628 \nL 815.250376 43.5608 \n\" style=\"fill:none;stroke:#6fa4ff;stroke-linecap:square;stroke-width:2;\"/>\n   </g>\n   <g id=\"line2d_21\">\n    <path clip-path=\"url(#p38cd253e9a)\" d=\"M 928.877876 89.0118 \nL 928.877876 43.5608 \n\" style=\"fill:none;stroke:#bb8bff;stroke-linecap:square;stroke-width:2;\"/>\n   </g>\n   <g id=\"line2d_22\">\n    <path clip-path=\"url(#p38cd253e9a)\" d=\"M 1065.230876 134.4628 \nL 1065.230876 43.5608 \n\" style=\"fill:none;stroke:#bb8bff;stroke-linecap:square;stroke-width:2;\"/>\n   </g>\n   <g id=\"line2d_23\">\n    <path clip-path=\"url(#p38cd253e9a)\" d=\"M 1156.132876 134.4628 \nL 1156.132876 89.0118 \n\" style=\"fill:none;stroke:#bb8bff;stroke-linecap:square;stroke-width:2;\"/>\n   </g>\n   <g id=\"line2d_24\">\n    <path clip-path=\"url(#p38cd253e9a)\" d=\"M 180.413534 316.2668 \nL 180.413534 487.730697 \n\" style=\"fill:none;stroke:#778899;stroke-linecap:square;stroke-width:2;\"/>\n   </g>\n   <g id=\"line2d_25\">\n    <path clip-path=\"url(#p38cd253e9a)\" d=\"M 177.459219 316.2668 \nL 177.459219 487.730697 \n\" style=\"fill:none;stroke:#778899;stroke-linecap:square;stroke-width:2;\"/>\n   </g>\n   <g id=\"line2d_26\">\n    <path clip-path=\"url(#p38cd253e9a)\" d=\"M 225.864534 361.7178 \nL 225.864534 487.730697 \n\" style=\"fill:none;stroke:#778899;stroke-linecap:square;stroke-width:2;\"/>\n   </g>\n   <g id=\"line2d_27\">\n    <path clip-path=\"url(#p38cd253e9a)\" d=\"M 222.910219 361.7178 \nL 222.910219 487.730697 \n\" style=\"fill:none;stroke:#778899;stroke-linecap:square;stroke-width:2;\"/>\n   </g>\n   <g id=\"line2d_28\">\n    <path clip-path=\"url(#p38cd253e9a)\" d=\"M 271.315534 407.1688 \nL 271.315534 487.730697 \n\" style=\"fill:none;stroke:#778899;stroke-linecap:square;stroke-width:2;\"/>\n   </g>\n   <g id=\"line2d_29\">\n    <path clip-path=\"url(#p38cd253e9a)\" d=\"M 268.361219 407.1688 \nL 268.361219 487.730697 \n\" style=\"fill:none;stroke:#778899;stroke-linecap:square;stroke-width:2;\"/>\n   </g>\n   <g id=\"line2d_30\">\n    <path clip-path=\"url(#p38cd253e9a)\" d=\"M 72.581036 229.9099 \nL 77.126136 220.8197 \n\" style=\"fill:none;stroke:#778899;stroke-linecap:square;stroke-width:1.5;\"/>\n   </g>\n   <g id=\"line2d_31\">\n    <path clip-path=\"url(#p38cd253e9a)\" d=\"M 1204.310936 43.5608 \nL 1204.310936 225.3648 \n\" style=\"fill:none;stroke:#000000;stroke-linecap:square;stroke-width:1.5;\"/>\n   </g>\n   <g id=\"line2d_32\">\n    <path clip-path=\"url(#p38cd253e9a)\" d=\"M 72.581036 502.6159 \nL 77.126136 493.5257 \n\" style=\"fill:none;stroke:#778899;stroke-linecap:square;stroke-width:1.5;\"/>\n   </g>\n   <g id=\"line2d_33\">\n    <path clip-path=\"url(#p38cd253e9a)\" d=\"M 63.036326 316.2668 \nL 63.036326 498.0708 \n\" style=\"fill:none;stroke:#000000;stroke-linecap:square;stroke-width:1.5;\"/>\n   </g>\n   <g id=\"line2d_34\">\n    <path clip-path=\"url(#p38cd253e9a)\" d=\"M 809.341746 49.46943 \nL 821.159006 37.65217 \n\" style=\"fill:none;stroke:#6fa4ff;stroke-linecap:square;stroke-width:2;\"/>\n   </g>\n   <g id=\"line2d_35\">\n    <path clip-path=\"url(#p38cd253e9a)\" d=\"M 809.341746 37.65217 \nL 821.159006 49.46943 \n\" style=\"fill:none;stroke:#6fa4ff;stroke-linecap:square;stroke-width:2;\"/>\n   </g>\n   <g id=\"line2d_36\">\n    <path clip-path=\"url(#p38cd253e9a)\" d=\"M 809.341746 140.37143 \nL 821.159006 128.55417 \n\" style=\"fill:none;stroke:#6fa4ff;stroke-linecap:square;stroke-width:2;\"/>\n   </g>\n   <g id=\"line2d_37\">\n    <path clip-path=\"url(#p38cd253e9a)\" d=\"M 809.341746 128.55417 \nL 821.159006 140.37143 \n\" style=\"fill:none;stroke:#6fa4ff;stroke-linecap:square;stroke-width:2;\"/>\n   </g>\n   <g id=\"patch_13\">\n    <path clip-path=\"url(#p38cd253e9a)\" d=\"M 73.262801 194.685375 \nL 102.805951 194.685375 \nL 102.805951 165.142225 \nL 73.262801 165.142225 \nz\n\" style=\"fill:#05bab6;stroke:#05bab6;stroke-linejoin:miter;stroke-width:1.5;\"/>\n   </g>\n   <g id=\"patch_14\">\n    <path clip-path=\"url(#p38cd253e9a)\" d=\"M 73.262801 58.332375 \nL 102.805951 58.332375 \nL 102.805951 28.789225 \nL 73.262801 28.789225 \nz\n\" style=\"fill:#6fa4ff;stroke:#6fa4ff;stroke-linejoin:miter;stroke-width:1.5;\"/>\n   </g>\n   <g id=\"patch_15\">\n    <path clip-path=\"url(#p38cd253e9a)\" d=\"M 73.262801 103.783375 \nL 102.805951 103.783375 \nL 102.805951 74.240225 \nL 73.262801 74.240225 \nz\n\" style=\"fill:#6fa4ff;stroke:#6fa4ff;stroke-linejoin:miter;stroke-width:1.5;\"/>\n   </g>\n   <g id=\"patch_16\">\n    <path clip-path=\"url(#p38cd253e9a)\" d=\"M 73.262801 149.234375 \nL 102.805951 149.234375 \nL 102.805951 119.691225 \nL 73.262801 119.691225 \nz\n\" style=\"fill:#6fa4ff;stroke:#6fa4ff;stroke-linejoin:miter;stroke-width:1.5;\"/>\n   </g>\n   <g id=\"patch_17\">\n    <path clip-path=\"url(#p38cd253e9a)\" d=\"M 156.210876 47.992272 \nC 157.386116 47.992272 158.51338 47.525345 159.344401 46.694324 \nC 160.175421 45.863304 160.642349 44.73604 160.642349 43.5608 \nC 160.642349 42.38556 160.175421 41.258296 159.344401 40.427276 \nC 158.51338 39.596255 157.386116 39.129327 156.210876 39.129327 \nC 155.035636 39.129327 153.908372 39.596255 153.077352 40.427276 \nC 152.246332 41.258296 151.779404 42.38556 151.779404 43.5608 \nC 151.779404 44.73604 152.246332 45.863304 153.077352 46.694324 \nC 153.908372 47.525345 155.035636 47.992272 156.210876 47.992272 \nz\n\" style=\"fill:#bb8bff;stroke:#bb8bff;stroke-linejoin:miter;stroke-width:1.5;\"/>\n   </g>\n   <g id=\"patch_18\">\n    <path clip-path=\"url(#p38cd253e9a)\" d=\"M 156.210876 184.345272 \nC 157.386116 184.345272 158.51338 183.878345 159.344401 183.047324 \nC 160.175421 182.216304 160.642349 181.08904 160.642349 179.9138 \nC 160.642349 178.73856 160.175421 177.611296 159.344401 176.780276 \nC 158.51338 175.949255 157.386116 175.482327 156.210876 175.482327 \nC 155.035636 175.482327 153.908372 175.949255 153.077352 176.780276 \nC 152.246332 177.611296 151.779404 178.73856 151.779404 179.9138 \nC 151.779404 181.08904 152.246332 182.216304 153.077352 183.047324 \nC 153.908372 183.878345 155.035636 184.345272 156.210876 184.345272 \nz\n\" style=\"fill:#bb8bff;stroke:#bb8bff;stroke-linejoin:miter;stroke-width:1.5;\"/>\n   </g>\n   <g id=\"patch_19\">\n    <path clip-path=\"url(#p38cd253e9a)\" d=\"M 247.112876 93.443272 \nC 248.288116 93.443272 249.41538 92.976345 250.246401 92.145324 \nC 251.077421 91.314304 251.544349 90.18704 251.544349 89.0118 \nC 251.544349 87.83656 251.077421 86.709296 250.246401 85.878276 \nC 249.41538 85.047255 248.288116 84.580327 247.112876 84.580327 \nC 245.937636 84.580327 244.810372 85.047255 243.979352 85.878276 \nC 243.148332 86.709296 242.681404 87.83656 242.681404 89.0118 \nC 242.681404 90.18704 243.148332 91.314304 243.979352 92.145324 \nC 244.810372 92.976345 245.937636 93.443272 247.112876 93.443272 \nz\n\" style=\"fill:#bb8bff;stroke:#bb8bff;stroke-linejoin:miter;stroke-width:1.5;\"/>\n   </g>\n   <g id=\"patch_20\">\n    <path clip-path=\"url(#p38cd253e9a)\" d=\"M 247.112876 184.345272 \nC 248.288116 184.345272 249.41538 183.878345 250.246401 183.047324 \nC 251.077421 182.216304 251.544349 181.08904 251.544349 179.9138 \nC 251.544349 178.73856 251.077421 177.611296 250.246401 176.780276 \nC 249.41538 175.949255 248.288116 175.482327 247.112876 175.482327 \nC 245.937636 175.482327 244.810372 175.949255 243.979352 176.780276 \nC 243.148332 177.611296 242.681404 178.73856 242.681404 179.9138 \nC 242.681404 181.08904 243.148332 182.216304 243.979352 183.047324 \nC 244.810372 183.878345 245.937636 184.345272 247.112876 184.345272 \nz\n\" style=\"fill:#bb8bff;stroke:#bb8bff;stroke-linejoin:miter;stroke-width:1.5;\"/>\n   </g>\n   <g id=\"patch_21\">\n    <path clip-path=\"url(#p38cd253e9a)\" d=\"M 338.014876 93.443272 \nC 339.190116 93.443272 340.31738 92.976345 341.148401 92.145324 \nC 341.979421 91.314304 342.446349 90.18704 342.446349 89.0118 \nC 342.446349 87.83656 341.979421 86.709296 341.148401 85.878276 \nC 340.31738 85.047255 339.190116 84.580327 338.014876 84.580327 \nC 336.839636 84.580327 335.712372 85.047255 334.881352 85.878276 \nC 334.050332 86.709296 333.583404 87.83656 333.583404 89.0118 \nC 333.583404 90.18704 334.050332 91.314304 334.881352 92.145324 \nC 335.712372 92.976345 336.839636 93.443272 338.014876 93.443272 \nz\n\" style=\"fill:#bb8bff;stroke:#bb8bff;stroke-linejoin:miter;stroke-width:1.5;\"/>\n   </g>\n   <g id=\"patch_22\">\n    <path clip-path=\"url(#p38cd253e9a)\" d=\"M 338.014876 184.345272 \nC 339.190116 184.345272 340.31738 183.878345 341.148401 183.047324 \nC 341.979421 182.216304 342.446349 181.08904 342.446349 179.9138 \nC 342.446349 178.73856 341.979421 177.611296 341.148401 176.780276 \nC 340.31738 175.949255 339.190116 175.482327 338.014876 175.482327 \nC 336.839636 175.482327 335.712372 175.949255 334.881352 176.780276 \nC 334.050332 177.611296 333.583404 178.73856 333.583404 179.9138 \nC 333.583404 181.08904 334.050332 182.216304 334.881352 183.047324 \nC 335.712372 183.878345 336.839636 184.345272 338.014876 184.345272 \nz\n\" style=\"fill:#bb8bff;stroke:#bb8bff;stroke-linejoin:miter;stroke-width:1.5;\"/>\n   </g>\n   <g id=\"patch_23\">\n    <path clip-path=\"url(#p38cd253e9a)\" d=\"M 428.916876 138.894272 \nC 430.092116 138.894272 431.21938 138.427345 432.050401 137.596324 \nC 432.881421 136.765304 433.348349 135.63804 433.348349 134.4628 \nC 433.348349 133.28756 432.881421 132.160296 432.050401 131.329276 \nC 431.21938 130.498255 430.092116 130.031327 428.916876 130.031327 \nC 427.741636 130.031327 426.614372 130.498255 425.783352 131.329276 \nC 424.952332 132.160296 424.485404 133.28756 424.485404 134.4628 \nC 424.485404 135.63804 424.952332 136.765304 425.783352 137.596324 \nC 426.614372 138.427345 427.741636 138.894272 428.916876 138.894272 \nz\n\" style=\"fill:#bb8bff;stroke:#bb8bff;stroke-linejoin:miter;stroke-width:1.5;\"/>\n   </g>\n   <g id=\"patch_24\">\n    <path clip-path=\"url(#p38cd253e9a)\" d=\"M 428.916876 184.345272 \nC 430.092116 184.345272 431.21938 183.878345 432.050401 183.047324 \nC 432.881421 182.216304 433.348349 181.08904 433.348349 179.9138 \nC 433.348349 178.73856 432.881421 177.611296 432.050401 176.780276 \nC 431.21938 175.949255 430.092116 175.482327 428.916876 175.482327 \nC 427.741636 175.482327 426.614372 175.949255 425.783352 176.780276 \nC 424.952332 177.611296 424.485404 178.73856 424.485404 179.9138 \nC 424.485404 181.08904 424.952332 182.216304 425.783352 183.047324 \nC 426.614372 183.878345 427.741636 184.345272 428.916876 184.345272 \nz\n\" style=\"fill:#bb8bff;stroke:#bb8bff;stroke-linejoin:miter;stroke-width:1.5;\"/>\n   </g>\n   <g id=\"patch_25\">\n    <path clip-path=\"url(#p38cd253e9a)\" d=\"M 519.818876 138.894272 \nC 520.994116 138.894272 522.12138 138.427345 522.952401 137.596324 \nC 523.783421 136.765304 524.250349 135.63804 524.250349 134.4628 \nC 524.250349 133.28756 523.783421 132.160296 522.952401 131.329276 \nC 522.12138 130.498255 520.994116 130.031327 519.818876 130.031327 \nC 518.643636 130.031327 517.516372 130.498255 516.685352 131.329276 \nC 515.854332 132.160296 515.387404 133.28756 515.387404 134.4628 \nC 515.387404 135.63804 515.854332 136.765304 516.685352 137.596324 \nC 517.516372 138.427345 518.643636 138.894272 519.818876 138.894272 \nz\n\" style=\"fill:#bb8bff;stroke:#bb8bff;stroke-linejoin:miter;stroke-width:1.5;\"/>\n   </g>\n   <g id=\"patch_26\">\n    <path clip-path=\"url(#p38cd253e9a)\" d=\"M 519.818876 184.345272 \nC 520.994116 184.345272 522.12138 183.878345 522.952401 183.047324 \nC 523.783421 182.216304 524.250349 181.08904 524.250349 179.9138 \nC 524.250349 178.73856 523.783421 177.611296 522.952401 176.780276 \nC 522.12138 175.949255 520.994116 175.482327 519.818876 175.482327 \nC 518.643636 175.482327 517.516372 175.949255 516.685352 176.780276 \nC 515.854332 177.611296 515.387404 178.73856 515.387404 179.9138 \nC 515.387404 181.08904 515.854332 182.216304 516.685352 183.047324 \nC 517.516372 183.878345 518.643636 184.345272 519.818876 184.345272 \nz\n\" style=\"fill:#bb8bff;stroke:#bb8bff;stroke-linejoin:miter;stroke-width:1.5;\"/>\n   </g>\n   <g id=\"patch_27\">\n    <path clip-path=\"url(#p38cd253e9a)\" d=\"M 610.720876 138.894272 \nC 611.896116 138.894272 613.02338 138.427345 613.854401 137.596324 \nC 614.685421 136.765304 615.152349 135.63804 615.152349 134.4628 \nC 615.152349 133.28756 614.685421 132.160296 613.854401 131.329276 \nC 613.02338 130.498255 611.896116 130.031327 610.720876 130.031327 \nC 609.545636 130.031327 608.418372 130.498255 607.587352 131.329276 \nC 606.756332 132.160296 606.289404 133.28756 606.289404 134.4628 \nC 606.289404 135.63804 606.756332 136.765304 607.587352 137.596324 \nC 608.418372 138.427345 609.545636 138.894272 610.720876 138.894272 \nz\n\" style=\"fill:#bb8bff;stroke:#bb8bff;stroke-linejoin:miter;stroke-width:1.5;\"/>\n   </g>\n   <g id=\"patch_28\">\n    <path clip-path=\"url(#p38cd253e9a)\" d=\"M 610.720876 184.345272 \nC 611.896116 184.345272 613.02338 183.878345 613.854401 183.047324 \nC 614.685421 182.216304 615.152349 181.08904 615.152349 179.9138 \nC 615.152349 178.73856 614.685421 177.611296 613.854401 176.780276 \nC 613.02338 175.949255 611.896116 175.482327 610.720876 175.482327 \nC 609.545636 175.482327 608.418372 175.949255 607.587352 176.780276 \nC 606.756332 177.611296 606.289404 178.73856 606.289404 179.9138 \nC 606.289404 181.08904 606.756332 182.216304 607.587352 183.047324 \nC 608.418372 183.878345 609.545636 184.345272 610.720876 184.345272 \nz\n\" style=\"fill:#bb8bff;stroke:#bb8bff;stroke-linejoin:miter;stroke-width:1.5;\"/>\n   </g>\n   <g id=\"patch_29\">\n    <path clip-path=\"url(#p38cd253e9a)\" d=\"M 701.622876 138.894272 \nC 702.798116 138.894272 703.92538 138.427345 704.756401 137.596324 \nC 705.587421 136.765304 706.054349 135.63804 706.054349 134.4628 \nC 706.054349 133.28756 705.587421 132.160296 704.756401 131.329276 \nC 703.92538 130.498255 702.798116 130.031327 701.622876 130.031327 \nC 700.447636 130.031327 699.320372 130.498255 698.489352 131.329276 \nC 697.658332 132.160296 697.191404 133.28756 697.191404 134.4628 \nC 697.191404 135.63804 697.658332 136.765304 698.489352 137.596324 \nC 699.320372 138.427345 700.447636 138.894272 701.622876 138.894272 \nz\n\" style=\"fill:#bb8bff;stroke:#bb8bff;stroke-linejoin:miter;stroke-width:1.5;\"/>\n   </g>\n   <g id=\"patch_30\">\n    <path clip-path=\"url(#p38cd253e9a)\" d=\"M 701.622876 184.345272 \nC 702.798116 184.345272 703.92538 183.878345 704.756401 183.047324 \nC 705.587421 182.216304 706.054349 181.08904 706.054349 179.9138 \nC 706.054349 178.73856 705.587421 177.611296 704.756401 176.780276 \nC 703.92538 175.949255 702.798116 175.482327 701.622876 175.482327 \nC 700.447636 175.482327 699.320372 175.949255 698.489352 176.780276 \nC 697.658332 177.611296 697.191404 178.73856 697.191404 179.9138 \nC 697.191404 181.08904 697.658332 182.216304 698.489352 183.047324 \nC 699.320372 183.878345 700.447636 184.345272 701.622876 184.345272 \nz\n\" style=\"fill:#bb8bff;stroke:#bb8bff;stroke-linejoin:miter;stroke-width:1.5;\"/>\n   </g>\n   <g id=\"patch_31\">\n    <path clip-path=\"url(#p38cd253e9a)\" d=\"M 845.929801 58.332375 \nL 875.472951 58.332375 \nL 875.472951 28.789225 \nL 845.929801 28.789225 \nz\n\" style=\"fill:#6fa4ff;stroke:#6fa4ff;stroke-linejoin:miter;stroke-width:1.5;\"/>\n   </g>\n   <g id=\"patch_32\">\n    <path clip-path=\"url(#p38cd253e9a)\" d=\"M 928.877876 47.992272 \nC 930.053116 47.992272 931.18038 47.525345 932.011401 46.694324 \nC 932.842421 45.863304 933.309349 44.73604 933.309349 43.5608 \nC 933.309349 42.38556 932.842421 41.258296 932.011401 40.427276 \nC 931.18038 39.596255 930.053116 39.129327 928.877876 39.129327 \nC 927.702636 39.129327 926.575372 39.596255 925.744352 40.427276 \nC 924.913332 41.258296 924.446404 42.38556 924.446404 43.5608 \nC 924.446404 44.73604 924.913332 45.863304 925.744352 46.694324 \nC 926.575372 47.525345 927.702636 47.992272 928.877876 47.992272 \nz\n\" style=\"fill:#bb8bff;stroke:#bb8bff;stroke-linejoin:miter;stroke-width:1.5;\"/>\n   </g>\n   <g id=\"patch_33\">\n    <path clip-path=\"url(#p38cd253e9a)\" d=\"M 928.877876 93.443272 \nC 930.053116 93.443272 931.18038 92.976345 932.011401 92.145324 \nC 932.842421 91.314304 933.309349 90.18704 933.309349 89.0118 \nC 933.309349 87.83656 932.842421 86.709296 932.011401 85.878276 \nC 931.18038 85.047255 930.053116 84.580327 928.877876 84.580327 \nC 927.702636 84.580327 926.575372 85.047255 925.744352 85.878276 \nC 924.913332 86.709296 924.446404 87.83656 924.446404 89.0118 \nC 924.446404 90.18704 924.913332 91.314304 925.744352 92.145324 \nC 926.575372 92.976345 927.702636 93.443272 928.877876 93.443272 \nz\n\" style=\"fill:#bb8bff;stroke:#bb8bff;stroke-linejoin:miter;stroke-width:1.5;\"/>\n   </g>\n   <g id=\"patch_34\">\n    <path clip-path=\"url(#p38cd253e9a)\" d=\"M 982.282801 103.783375 \nL 1011.825951 103.783375 \nL 1011.825951 74.240225 \nL 982.282801 74.240225 \nz\n\" style=\"fill:#6fa4ff;stroke:#6fa4ff;stroke-linejoin:miter;stroke-width:1.5;\"/>\n   </g>\n   <g id=\"patch_35\">\n    <path clip-path=\"url(#p38cd253e9a)\" d=\"M 1065.230876 47.992272 \nC 1066.406116 47.992272 1067.53338 47.525345 1068.364401 46.694324 \nC 1069.195421 45.863304 1069.662349 44.73604 1069.662349 43.5608 \nC 1069.662349 42.38556 1069.195421 41.258296 1068.364401 40.427276 \nC 1067.53338 39.596255 1066.406116 39.129327 1065.230876 39.129327 \nC 1064.055636 39.129327 1062.928372 39.596255 1062.097352 40.427276 \nC 1061.266332 41.258296 1060.799404 42.38556 1060.799404 43.5608 \nC 1060.799404 44.73604 1061.266332 45.863304 1062.097352 46.694324 \nC 1062.928372 47.525345 1064.055636 47.992272 1065.230876 47.992272 \nz\n\" style=\"fill:#bb8bff;stroke:#bb8bff;stroke-linejoin:miter;stroke-width:1.5;\"/>\n   </g>\n   <g id=\"patch_36\">\n    <path clip-path=\"url(#p38cd253e9a)\" d=\"M 1065.230876 138.894272 \nC 1066.406116 138.894272 1067.53338 138.427345 1068.364401 137.596324 \nC 1069.195421 136.765304 1069.662349 135.63804 1069.662349 134.4628 \nC 1069.662349 133.28756 1069.195421 132.160296 1068.364401 131.329276 \nC 1067.53338 130.498255 1066.406116 130.031327 1065.230876 130.031327 \nC 1064.055636 130.031327 1062.928372 130.498255 1062.097352 131.329276 \nC 1061.266332 132.160296 1060.799404 133.28756 1060.799404 134.4628 \nC 1060.799404 135.63804 1061.266332 136.765304 1062.097352 137.596324 \nC 1062.928372 138.427345 1064.055636 138.894272 1065.230876 138.894272 \nz\n\" style=\"fill:#bb8bff;stroke:#bb8bff;stroke-linejoin:miter;stroke-width:1.5;\"/>\n   </g>\n   <g id=\"patch_37\">\n    <path clip-path=\"url(#p38cd253e9a)\" d=\"M 1156.132876 93.443272 \nC 1157.308116 93.443272 1158.43538 92.976345 1159.266401 92.145324 \nC 1160.097421 91.314304 1160.564349 90.18704 1160.564349 89.0118 \nC 1160.564349 87.83656 1160.097421 86.709296 1159.266401 85.878276 \nC 1158.43538 85.047255 1157.308116 84.580327 1156.132876 84.580327 \nC 1154.957636 84.580327 1153.830372 85.047255 1152.999352 85.878276 \nC 1152.168332 86.709296 1151.701404 87.83656 1151.701404 89.0118 \nC 1151.701404 90.18704 1152.168332 91.314304 1152.999352 92.145324 \nC 1153.830372 92.976345 1154.957636 93.443272 1156.132876 93.443272 \nz\n\" style=\"fill:#bb8bff;stroke:#bb8bff;stroke-linejoin:miter;stroke-width:1.5;\"/>\n   </g>\n   <g id=\"patch_38\">\n    <path clip-path=\"url(#p38cd253e9a)\" d=\"M 1156.132876 138.894272 \nC 1157.308116 138.894272 1158.43538 138.427345 1159.266401 137.596324 \nC 1160.097421 136.765304 1160.564349 135.63804 1160.564349 134.4628 \nC 1160.564349 133.28756 1160.097421 132.160296 1159.266401 131.329276 \nC 1158.43538 130.498255 1157.308116 130.031327 1156.132876 130.031327 \nC 1154.957636 130.031327 1153.830372 130.498255 1152.999352 131.329276 \nC 1152.168332 132.160296 1151.701404 133.28756 1151.701404 134.4628 \nC 1151.701404 135.63804 1152.168332 136.765304 1152.999352 137.596324 \nC 1153.830372 138.427345 1154.957636 138.894272 1156.132876 138.894272 \nz\n\" style=\"fill:#bb8bff;stroke:#bb8bff;stroke-linejoin:miter;stroke-width:1.5;\"/>\n   </g>\n   <g id=\"patch_39\">\n    <path clip-path=\"url(#p38cd253e9a)\" d=\"M 73.262801 421.940375 \nL 102.805951 421.940375 \nL 102.805951 392.397225 \nL 73.262801 392.397225 \nz\n\" style=\"fill:#6fa4ff;stroke:#6fa4ff;stroke-linejoin:miter;stroke-width:1.5;\"/>\n   </g>\n   <g id=\"patch_40\">\n    <path clip-path=\"url(#p38cd253e9a)\" d=\"M 164.164801 331.038375 \nL 193.707951 331.038375 \nL 193.707951 301.495225 \nL 164.164801 301.495225 \nz\n\" style=\"stroke:#000000;stroke-linejoin:miter;stroke-width:1.5;\"/>\n   </g>\n   <g id=\"patch_41\">\n    <path clip-path=\"url(#p38cd253e9a)\" d=\"M 189.276479 320.698272 \nC 189.276479 317.956959 188.186335 315.325118 186.247933 313.386716 \nC 184.309531 311.448314 181.67769 310.35817 178.936376 310.35817 \nC 176.195062 310.35817 173.563221 311.448314 171.62482 313.386716 \nC 169.686418 315.325118 168.596274 317.956959 168.596274 320.698272 \n\" style=\"fill:none;stroke:#ffffff;stroke-linejoin:miter;stroke-width:2;\"/>\n   </g>\n   <g id=\"patch_42\">\n    <path clip-path=\"url(#p38cd253e9a)\" d=\"M 209.615801 376.489375 \nL 239.158951 376.489375 \nL 239.158951 346.946225 \nL 209.615801 346.946225 \nz\n\" style=\"stroke:#000000;stroke-linejoin:miter;stroke-width:1.5;\"/>\n   </g>\n   <g id=\"patch_43\">\n    <path clip-path=\"url(#p38cd253e9a)\" d=\"M 234.727479 366.149272 \nC 234.727479 363.407959 233.637335 360.776118 231.698933 358.837716 \nC 229.760531 356.899314 227.12869 355.80917 224.387376 355.80917 \nC 221.646062 355.80917 219.014221 356.899314 217.07582 358.837716 \nC 215.137418 360.776118 214.047274 363.407959 214.047274 366.149272 \n\" style=\"fill:none;stroke:#ffffff;stroke-linejoin:miter;stroke-width:2;\"/>\n   </g>\n   <g id=\"patch_44\">\n    <path clip-path=\"url(#p38cd253e9a)\" d=\"M 255.066801 421.940375 \nL 284.609951 421.940375 \nL 284.609951 392.397225 \nL 255.066801 392.397225 \nz\n\" style=\"stroke:#000000;stroke-linejoin:miter;stroke-width:1.5;\"/>\n   </g>\n   <g id=\"patch_45\">\n    <path clip-path=\"url(#p38cd253e9a)\" d=\"M 280.178479 411.600272 \nC 280.178479 408.858959 279.088335 406.227118 277.149933 404.288716 \nC 275.211531 402.350314 272.57969 401.26017 269.838376 401.26017 \nC 267.097062 401.26017 264.465221 402.350314 262.52682 404.288716 \nC 260.588418 406.227118 259.498274 408.858959 259.498274 411.600272 \n\" style=\"fill:none;stroke:#ffffff;stroke-linejoin:miter;stroke-width:2;\"/>\n   </g>\n   <g id=\"line2d_38\">\n    <path clip-path=\"url(#p38cd253e9a)\" d=\"M 178.936376 320.698272 \nL 189.276479 310.35817 \n\" style=\"fill:none;stroke:#ffffff;stroke-linecap:square;stroke-width:2;\"/>\n   </g>\n   <g id=\"line2d_39\">\n    <path clip-path=\"url(#p38cd253e9a)\" d=\"M 224.387376 366.149272 \nL 234.727479 355.80917 \n\" style=\"fill:none;stroke:#ffffff;stroke-linecap:square;stroke-width:2;\"/>\n   </g>\n   <g id=\"line2d_40\">\n    <path clip-path=\"url(#p38cd253e9a)\" d=\"M 269.838376 411.600272 \nL 280.178479 401.26017 \n\" style=\"fill:none;stroke:#ffffff;stroke-linecap:square;stroke-width:2;\"/>\n   </g>\n   <g id=\"line2d_41\">\n    <path clip-path=\"url(#p38cd253e9a)\" d=\"M 769.799376 20.8353 \nL 769.799376 66.2863 \n\" style=\"fill:none;stroke:#000000;stroke-dasharray:3.7,1.6;stroke-dashoffset:0;\"/>\n   </g>\n   <g id=\"line2d_42\">\n    <path clip-path=\"url(#p38cd253e9a)\" d=\"M 769.799376 66.2863 \nL 769.799376 111.7373 \n\" style=\"fill:none;stroke:#000000;stroke-dasharray:3.7,1.6;stroke-dashoffset:0;\"/>\n   </g>\n   <g id=\"line2d_43\">\n    <path clip-path=\"url(#p38cd253e9a)\" d=\"M 769.799376 111.7373 \nL 769.799376 157.1883 \n\" style=\"fill:none;stroke:#000000;stroke-dasharray:3.7,1.6;stroke-dashoffset:0;\"/>\n   </g>\n   <g id=\"line2d_44\">\n    <path clip-path=\"url(#p38cd253e9a)\" d=\"M 769.799376 157.1883 \nL 769.799376 202.6393 \n\" style=\"fill:none;stroke:#000000;stroke-dasharray:3.7,1.6;stroke-dashoffset:0;\"/>\n   </g>\n   <g id=\"line2d_45\">\n    <path clip-path=\"url(#p38cd253e9a)\" d=\"M 133.485376 293.5413 \nL 133.485376 338.9923 \n\" style=\"fill:none;stroke:#000000;stroke-dasharray:3.7,1.6;stroke-dashoffset:0;\"/>\n   </g>\n   <g id=\"line2d_46\">\n    <path clip-path=\"url(#p38cd253e9a)\" d=\"M 133.485376 338.9923 \nL 133.485376 384.4433 \n\" style=\"fill:none;stroke:#000000;stroke-dasharray:3.7,1.6;stroke-dashoffset:0;\"/>\n   </g>\n   <g id=\"line2d_47\">\n    <path clip-path=\"url(#p38cd253e9a)\" d=\"M 133.485376 384.4433 \nL 133.485376 429.8943 \n\" style=\"fill:none;stroke:#000000;stroke-dasharray:3.7,1.6;stroke-dashoffset:0;\"/>\n   </g>\n   <g id=\"line2d_48\">\n    <path clip-path=\"url(#p38cd253e9a)\" d=\"M 133.485376 429.8943 \nL 133.485376 475.3453 \n\" style=\"fill:none;stroke:#000000;stroke-dasharray:3.7,1.6;stroke-dashoffset:0;\"/>\n   </g>\n   <g id=\"text_1\">\n    <g clip-path=\"url(#p38cd253e9a)\">\n     <!-- X -->\n     <defs>\n      <path d=\"M 6.296875 72.90625 \nL 16.890625 72.90625 \nL 35.015625 45.796875 \nL 53.21875 72.90625 \nL 63.8125 72.90625 \nL 40.375 37.890625 \nL 65.375 0 \nL 54.78125 0 \nL 34.28125 31 \nL 13.625 0 \nL 2.984375 0 \nL 29 38.921875 \nz\n\" id=\"DejaVuSans-88\"/>\n     </defs>\n     <g transform=\"translate(83.581876 183.500987)scale(0.13 -0.13)\">\n      <use xlink:href=\"#DejaVuSans-88\"/>\n     </g>\n    </g>\n   </g>\n   <g id=\"text_2\">\n    <g clip-path=\"url(#p38cd253e9a)\">\n     <!-- H -->\n     <defs>\n      <path d=\"M 9.8125 72.90625 \nL 19.671875 72.90625 \nL 19.671875 43.015625 \nL 55.515625 43.015625 \nL 55.515625 72.90625 \nL 65.375 72.90625 \nL 65.375 0 \nL 55.515625 0 \nL 55.515625 34.71875 \nL 19.671875 34.71875 \nL 19.671875 0 \nL 9.8125 0 \nz\n\" id=\"DejaVuSans-72\"/>\n     </defs>\n     <g transform=\"translate(83.146173 47.147987)scale(0.13 -0.13)\">\n      <use xlink:href=\"#DejaVuSans-72\"/>\n     </g>\n    </g>\n   </g>\n   <g id=\"text_3\">\n    <g clip-path=\"url(#p38cd253e9a)\">\n     <!-- H -->\n     <g transform=\"translate(83.146173 92.598987)scale(0.13 -0.13)\">\n      <use xlink:href=\"#DejaVuSans-72\"/>\n     </g>\n    </g>\n   </g>\n   <g id=\"text_4\">\n    <g clip-path=\"url(#p38cd253e9a)\">\n     <!-- H -->\n     <g transform=\"translate(83.146173 138.049987)scale(0.13 -0.13)\">\n      <use xlink:href=\"#DejaVuSans-72\"/>\n     </g>\n    </g>\n   </g>\n   <g id=\"text_5\">\n    <g clip-path=\"url(#p38cd253e9a)\">\n     <!-- P ($\\pi$/4) -->\n     <defs>\n      <path d=\"M 19.671875 64.796875 \nL 19.671875 37.40625 \nL 32.078125 37.40625 \nQ 38.96875 37.40625 42.71875 40.96875 \nQ 46.484375 44.53125 46.484375 51.125 \nQ 46.484375 57.671875 42.71875 61.234375 \nQ 38.96875 64.796875 32.078125 64.796875 \nz\nM 9.8125 72.90625 \nL 32.078125 72.90625 \nQ 44.34375 72.90625 50.609375 67.359375 \nQ 56.890625 61.8125 56.890625 51.125 \nQ 56.890625 40.328125 50.609375 34.8125 \nQ 44.34375 29.296875 32.078125 29.296875 \nL 19.671875 29.296875 \nL 19.671875 0 \nL 9.8125 0 \nz\n\" id=\"DejaVuSans-80\"/>\n      <path id=\"DejaVuSans-32\"/>\n      <path d=\"M 31 75.875 \nQ 24.46875 64.65625 21.28125 53.65625 \nQ 18.109375 42.671875 18.109375 31.390625 \nQ 18.109375 20.125 21.3125 9.0625 \nQ 24.515625 -2 31 -13.1875 \nL 23.1875 -13.1875 \nQ 15.875 -1.703125 12.234375 9.375 \nQ 8.59375 20.453125 8.59375 31.390625 \nQ 8.59375 42.28125 12.203125 53.3125 \nQ 15.828125 64.359375 23.1875 75.875 \nz\n\" id=\"DejaVuSans-40\"/>\n      <path d=\"M 9.125 54.6875 \nL 61.53125 54.6875 \nL 59.765625 45.703125 \nL 52.875 45.703125 \nL 46.34375 12.109375 \nQ 45.65625 8.59375 46.578125 7.03125 \nQ 47.46875 5.515625 50.140625 5.515625 \nQ 50.875 5.515625 51.953125 5.671875 \nQ 53.078125 5.765625 53.421875 5.8125 \nL 52.15625 -0.6875 \nQ 50.34375 -1.3125 48.484375 -1.609375 \nQ 46.578125 -1.90625 44.78125 -1.90625 \nQ 38.921875 -1.90625 37.3125 1.265625 \nQ 35.6875 4.5 37.359375 13.09375 \nL 43.703125 45.703125 \nL 23.53125 45.703125 \nL 14.65625 0 \nL 5.46875 0 \nL 14.359375 45.703125 \nL 7.375 45.703125 \nz\n\" id=\"DejaVuSans-Oblique-960\"/>\n      <path d=\"M 25.390625 72.90625 \nL 33.6875 72.90625 \nL 8.296875 -9.28125 \nL 0 -9.28125 \nz\n\" id=\"DejaVuSans-47\"/>\n      <path d=\"M 37.796875 64.3125 \nL 12.890625 25.390625 \nL 37.796875 25.390625 \nz\nM 35.203125 72.90625 \nL 47.609375 72.90625 \nL 47.609375 25.390625 \nL 58.015625 25.390625 \nL 58.015625 17.1875 \nL 47.609375 17.1875 \nL 47.609375 0 \nL 37.796875 0 \nL 37.796875 17.1875 \nL 4.890625 17.1875 \nL 4.890625 26.703125 \nz\n\" id=\"DejaVuSans-52\"/>\n      <path d=\"M 8.015625 75.875 \nL 15.828125 75.875 \nQ 23.140625 64.359375 26.78125 53.3125 \nQ 30.421875 42.28125 30.421875 31.390625 \nQ 30.421875 20.453125 26.78125 9.375 \nQ 23.140625 -1.703125 15.828125 -13.1875 \nL 8.015625 -13.1875 \nQ 14.5 -2 17.703125 9.0625 \nQ 20.90625 20.125 20.90625 31.390625 \nQ 20.90625 42.671875 17.703125 53.65625 \nQ 14.5 64.65625 8.015625 75.875 \nz\n\" id=\"DejaVuSans-41\"/>\n     </defs>\n     <g transform=\"translate(161.725786 156.4494)scale(0.08 -0.08)\">\n      <use transform=\"translate(0 0.125)\" xlink:href=\"#DejaVuSans-80\"/>\n      <use transform=\"translate(60.302734 0.125)\" xlink:href=\"#DejaVuSans-32\"/>\n      <use transform=\"translate(92.089844 0.125)\" xlink:href=\"#DejaVuSans-40\"/>\n      <use transform=\"translate(131.103516 0.125)\" xlink:href=\"#DejaVuSans-Oblique-960\"/>\n      <use transform=\"translate(191.308594 0.125)\" xlink:href=\"#DejaVuSans-47\"/>\n      <use transform=\"translate(225 0.125)\" xlink:href=\"#DejaVuSans-52\"/>\n      <use transform=\"translate(288.623047 0.125)\" xlink:href=\"#DejaVuSans-41\"/>\n     </g>\n    </g>\n   </g>\n   <g id=\"text_6\">\n    <g clip-path=\"url(#p38cd253e9a)\">\n     <!-- P ($\\pi$/4) -->\n     <g transform=\"translate(252.627786 156.4494)scale(0.08 -0.08)\">\n      <use transform=\"translate(0 0.125)\" xlink:href=\"#DejaVuSans-80\"/>\n      <use transform=\"translate(60.302734 0.125)\" xlink:href=\"#DejaVuSans-32\"/>\n      <use transform=\"translate(92.089844 0.125)\" xlink:href=\"#DejaVuSans-40\"/>\n      <use transform=\"translate(131.103516 0.125)\" xlink:href=\"#DejaVuSans-Oblique-960\"/>\n      <use transform=\"translate(191.308594 0.125)\" xlink:href=\"#DejaVuSans-47\"/>\n      <use transform=\"translate(225 0.125)\" xlink:href=\"#DejaVuSans-52\"/>\n      <use transform=\"translate(288.623047 0.125)\" xlink:href=\"#DejaVuSans-41\"/>\n     </g>\n    </g>\n   </g>\n   <g id=\"text_7\">\n    <g clip-path=\"url(#p38cd253e9a)\">\n     <!-- P ($\\pi$/4) -->\n     <g transform=\"translate(343.529786 156.4494)scale(0.08 -0.08)\">\n      <use transform=\"translate(0 0.125)\" xlink:href=\"#DejaVuSans-80\"/>\n      <use transform=\"translate(60.302734 0.125)\" xlink:href=\"#DejaVuSans-32\"/>\n      <use transform=\"translate(92.089844 0.125)\" xlink:href=\"#DejaVuSans-40\"/>\n      <use transform=\"translate(131.103516 0.125)\" xlink:href=\"#DejaVuSans-Oblique-960\"/>\n      <use transform=\"translate(191.308594 0.125)\" xlink:href=\"#DejaVuSans-47\"/>\n      <use transform=\"translate(225 0.125)\" xlink:href=\"#DejaVuSans-52\"/>\n      <use transform=\"translate(288.623047 0.125)\" xlink:href=\"#DejaVuSans-41\"/>\n     </g>\n    </g>\n   </g>\n   <g id=\"text_8\">\n    <g clip-path=\"url(#p38cd253e9a)\">\n     <!-- P ($\\pi$/4) -->\n     <g transform=\"translate(434.431786 156.4494)scale(0.08 -0.08)\">\n      <use transform=\"translate(0 0.125)\" xlink:href=\"#DejaVuSans-80\"/>\n      <use transform=\"translate(60.302734 0.125)\" xlink:href=\"#DejaVuSans-32\"/>\n      <use transform=\"translate(92.089844 0.125)\" xlink:href=\"#DejaVuSans-40\"/>\n      <use transform=\"translate(131.103516 0.125)\" xlink:href=\"#DejaVuSans-Oblique-960\"/>\n      <use transform=\"translate(191.308594 0.125)\" xlink:href=\"#DejaVuSans-47\"/>\n      <use transform=\"translate(225 0.125)\" xlink:href=\"#DejaVuSans-52\"/>\n      <use transform=\"translate(288.623047 0.125)\" xlink:href=\"#DejaVuSans-41\"/>\n     </g>\n    </g>\n   </g>\n   <g id=\"text_9\">\n    <g clip-path=\"url(#p38cd253e9a)\">\n     <!-- P ($\\pi$/4) -->\n     <g transform=\"translate(525.333786 156.4494)scale(0.08 -0.08)\">\n      <use transform=\"translate(0 0.125)\" xlink:href=\"#DejaVuSans-80\"/>\n      <use transform=\"translate(60.302734 0.125)\" xlink:href=\"#DejaVuSans-32\"/>\n      <use transform=\"translate(92.089844 0.125)\" xlink:href=\"#DejaVuSans-40\"/>\n      <use transform=\"translate(131.103516 0.125)\" xlink:href=\"#DejaVuSans-Oblique-960\"/>\n      <use transform=\"translate(191.308594 0.125)\" xlink:href=\"#DejaVuSans-47\"/>\n      <use transform=\"translate(225 0.125)\" xlink:href=\"#DejaVuSans-52\"/>\n      <use transform=\"translate(288.623047 0.125)\" xlink:href=\"#DejaVuSans-41\"/>\n     </g>\n    </g>\n   </g>\n   <g id=\"text_10\">\n    <g clip-path=\"url(#p38cd253e9a)\">\n     <!-- P ($\\pi$/4) -->\n     <g transform=\"translate(616.235786 156.4494)scale(0.08 -0.08)\">\n      <use transform=\"translate(0 0.125)\" xlink:href=\"#DejaVuSans-80\"/>\n      <use transform=\"translate(60.302734 0.125)\" xlink:href=\"#DejaVuSans-32\"/>\n      <use transform=\"translate(92.089844 0.125)\" xlink:href=\"#DejaVuSans-40\"/>\n      <use transform=\"translate(131.103516 0.125)\" xlink:href=\"#DejaVuSans-Oblique-960\"/>\n      <use transform=\"translate(191.308594 0.125)\" xlink:href=\"#DejaVuSans-47\"/>\n      <use transform=\"translate(225 0.125)\" xlink:href=\"#DejaVuSans-52\"/>\n      <use transform=\"translate(288.623047 0.125)\" xlink:href=\"#DejaVuSans-41\"/>\n     </g>\n    </g>\n   </g>\n   <g id=\"text_11\">\n    <g clip-path=\"url(#p38cd253e9a)\">\n     <!-- P ($\\pi$/4) -->\n     <g transform=\"translate(707.137786 156.4494)scale(0.08 -0.08)\">\n      <use transform=\"translate(0 0.125)\" xlink:href=\"#DejaVuSans-80\"/>\n      <use transform=\"translate(60.302734 0.125)\" xlink:href=\"#DejaVuSans-32\"/>\n      <use transform=\"translate(92.089844 0.125)\" xlink:href=\"#DejaVuSans-40\"/>\n      <use transform=\"translate(131.103516 0.125)\" xlink:href=\"#DejaVuSans-Oblique-960\"/>\n      <use transform=\"translate(191.308594 0.125)\" xlink:href=\"#DejaVuSans-47\"/>\n      <use transform=\"translate(225 0.125)\" xlink:href=\"#DejaVuSans-52\"/>\n      <use transform=\"translate(288.623047 0.125)\" xlink:href=\"#DejaVuSans-41\"/>\n     </g>\n    </g>\n   </g>\n   <g id=\"text_12\">\n    <g clip-path=\"url(#p38cd253e9a)\">\n     <!-- H -->\n     <g transform=\"translate(855.813173 47.147987)scale(0.13 -0.13)\">\n      <use xlink:href=\"#DejaVuSans-72\"/>\n     </g>\n    </g>\n   </g>\n   <g id=\"text_13\">\n    <g clip-path=\"url(#p38cd253e9a)\">\n     <!-- P ($-$$\\pi$/2) -->\n     <defs>\n      <path d=\"M 10.59375 35.5 \nL 73.1875 35.5 \nL 73.1875 27.203125 \nL 10.59375 27.203125 \nz\n\" id=\"DejaVuSans-8722\"/>\n      <path d=\"M 19.1875 8.296875 \nL 53.609375 8.296875 \nL 53.609375 0 \nL 7.328125 0 \nL 7.328125 8.296875 \nQ 12.9375 14.109375 22.625 23.890625 \nQ 32.328125 33.6875 34.8125 36.53125 \nQ 39.546875 41.84375 41.421875 45.53125 \nQ 43.3125 49.21875 43.3125 52.78125 \nQ 43.3125 58.59375 39.234375 62.25 \nQ 35.15625 65.921875 28.609375 65.921875 \nQ 23.96875 65.921875 18.8125 64.3125 \nQ 13.671875 62.703125 7.8125 59.421875 \nL 7.8125 69.390625 \nQ 13.765625 71.78125 18.9375 73 \nQ 24.125 74.21875 28.421875 74.21875 \nQ 39.75 74.21875 46.484375 68.546875 \nQ 53.21875 62.890625 53.21875 53.421875 \nQ 53.21875 48.921875 51.53125 44.890625 \nQ 49.859375 40.875 45.40625 35.40625 \nQ 44.1875 33.984375 37.640625 27.21875 \nQ 31.109375 20.453125 19.1875 8.296875 \nz\n\" id=\"DejaVuSans-50\"/>\n     </defs>\n     <g transform=\"translate(932.708577 65.5474)scale(0.08 -0.08)\">\n      <use transform=\"translate(0 0.125)\" xlink:href=\"#DejaVuSans-80\"/>\n      <use transform=\"translate(60.302734 0.125)\" xlink:href=\"#DejaVuSans-32\"/>\n      <use transform=\"translate(92.089844 0.125)\" xlink:href=\"#DejaVuSans-40\"/>\n      <use transform=\"translate(131.103516 0.125)\" xlink:href=\"#DejaVuSans-8722\"/>\n      <use transform=\"translate(214.892578 0.125)\" xlink:href=\"#DejaVuSans-Oblique-960\"/>\n      <use transform=\"translate(275.097656 0.125)\" xlink:href=\"#DejaVuSans-47\"/>\n      <use transform=\"translate(305.164062 0.125)\" xlink:href=\"#DejaVuSans-50\"/>\n      <use transform=\"translate(368.787109 0.125)\" xlink:href=\"#DejaVuSans-41\"/>\n     </g>\n    </g>\n   </g>\n   <g id=\"text_14\">\n    <g clip-path=\"url(#p38cd253e9a)\">\n     <!-- H -->\n     <g transform=\"translate(992.166173 92.598987)scale(0.13 -0.13)\">\n      <use xlink:href=\"#DejaVuSans-72\"/>\n     </g>\n    </g>\n   </g>\n   <g id=\"text_15\">\n    <g clip-path=\"url(#p38cd253e9a)\">\n     <!-- P ($-$$\\pi$/4) -->\n     <g transform=\"translate(1068.901577 110.9984)scale(0.08 -0.08)\">\n      <use transform=\"translate(0 0.125)\" xlink:href=\"#DejaVuSans-80\"/>\n      <use transform=\"translate(60.302734 0.125)\" xlink:href=\"#DejaVuSans-32\"/>\n      <use transform=\"translate(92.089844 0.125)\" xlink:href=\"#DejaVuSans-40\"/>\n      <use transform=\"translate(131.103516 0.125)\" xlink:href=\"#DejaVuSans-8722\"/>\n      <use transform=\"translate(214.892578 0.125)\" xlink:href=\"#DejaVuSans-Oblique-960\"/>\n      <use transform=\"translate(275.097656 0.125)\" xlink:href=\"#DejaVuSans-47\"/>\n      <use transform=\"translate(308.789062 0.125)\" xlink:href=\"#DejaVuSans-52\"/>\n      <use transform=\"translate(372.412109 0.125)\" xlink:href=\"#DejaVuSans-41\"/>\n     </g>\n    </g>\n   </g>\n   <g id=\"text_16\">\n    <g clip-path=\"url(#p38cd253e9a)\">\n     <!-- P ($-$$\\pi$/2) -->\n     <g transform=\"translate(1159.963577 110.9984)scale(0.08 -0.08)\">\n      <use transform=\"translate(0 0.125)\" xlink:href=\"#DejaVuSans-80\"/>\n      <use transform=\"translate(60.302734 0.125)\" xlink:href=\"#DejaVuSans-32\"/>\n      <use transform=\"translate(92.089844 0.125)\" xlink:href=\"#DejaVuSans-40\"/>\n      <use transform=\"translate(131.103516 0.125)\" xlink:href=\"#DejaVuSans-8722\"/>\n      <use transform=\"translate(214.892578 0.125)\" xlink:href=\"#DejaVuSans-Oblique-960\"/>\n      <use transform=\"translate(275.097656 0.125)\" xlink:href=\"#DejaVuSans-47\"/>\n      <use transform=\"translate(305.164062 0.125)\" xlink:href=\"#DejaVuSans-50\"/>\n      <use transform=\"translate(368.787109 0.125)\" xlink:href=\"#DejaVuSans-41\"/>\n     </g>\n    </g>\n   </g>\n   <g id=\"text_17\">\n    <g clip-path=\"url(#p38cd253e9a)\">\n     <!-- H -->\n     <g transform=\"translate(83.146173 410.755987)scale(0.13 -0.13)\">\n      <use xlink:href=\"#DejaVuSans-72\"/>\n     </g>\n    </g>\n   </g>\n   <g id=\"text_18\">\n    <g clip-path=\"url(#p38cd253e9a)\">\n     <!-- 0 -->\n     <defs>\n      <path d=\"M 31.78125 66.40625 \nQ 24.171875 66.40625 20.328125 58.90625 \nQ 16.5 51.421875 16.5 36.375 \nQ 16.5 21.390625 20.328125 13.890625 \nQ 24.171875 6.390625 31.78125 6.390625 \nQ 39.453125 6.390625 43.28125 13.890625 \nQ 47.125 21.390625 47.125 36.375 \nQ 47.125 51.421875 43.28125 58.90625 \nQ 39.453125 66.40625 31.78125 66.40625 \nz\nM 31.78125 74.21875 \nQ 44.046875 74.21875 50.515625 64.515625 \nQ 56.984375 54.828125 56.984375 36.375 \nQ 56.984375 17.96875 50.515625 8.265625 \nQ 44.046875 -1.421875 31.78125 -1.421875 \nQ 19.53125 -1.421875 13.0625 8.265625 \nQ 6.59375 17.96875 6.59375 36.375 \nQ 6.59375 54.828125 13.0625 64.515625 \nQ 19.53125 74.21875 31.78125 74.21875 \nz\n\" id=\"DejaVuSans-48\"/>\n     </defs>\n     <g transform=\"translate(190.299126 491.362825)scale(0.104 -0.104)\">\n      <use xlink:href=\"#DejaVuSans-48\"/>\n     </g>\n    </g>\n   </g>\n   <g id=\"text_19\">\n    <g clip-path=\"url(#p38cd253e9a)\">\n     <!-- 1 -->\n     <defs>\n      <path d=\"M 12.40625 8.296875 \nL 28.515625 8.296875 \nL 28.515625 63.921875 \nL 10.984375 60.40625 \nL 10.984375 69.390625 \nL 28.421875 72.90625 \nL 38.28125 72.90625 \nL 38.28125 8.296875 \nL 54.390625 8.296875 \nL 54.390625 0 \nL 12.40625 0 \nz\n\" id=\"DejaVuSans-49\"/>\n     </defs>\n     <g transform=\"translate(235.750126 491.362825)scale(0.104 -0.104)\">\n      <use xlink:href=\"#DejaVuSans-49\"/>\n     </g>\n    </g>\n   </g>\n   <g id=\"text_20\">\n    <g clip-path=\"url(#p38cd253e9a)\">\n     <!-- 2 -->\n     <g transform=\"translate(281.201126 491.362825)scale(0.104 -0.104)\">\n      <use xlink:href=\"#DejaVuSans-50\"/>\n     </g>\n    </g>\n   </g>\n   <g id=\"text_21\">\n    <g clip-path=\"url(#p38cd253e9a)\">\n     <!-- ${q}_{0}$ -->\n     <defs>\n      <path d=\"M 41.703125 8.203125 \nQ 38.09375 3.46875 33.171875 1.015625 \nQ 28.265625 -1.421875 22.3125 -1.421875 \nQ 14.015625 -1.421875 9.296875 4.171875 \nQ 4.59375 9.765625 4.59375 19.578125 \nQ 4.59375 27.484375 7.5 34.859375 \nQ 10.40625 42.234375 15.828125 48.09375 \nQ 19.34375 51.90625 23.90625 53.953125 \nQ 28.46875 56 33.5 56 \nQ 39.546875 56 43.453125 53.609375 \nQ 47.359375 51.21875 49.125 46.390625 \nL 50.6875 54.59375 \nL 59.71875 54.59375 \nL 45.125 -20.609375 \nL 36.078125 -20.609375 \nz\nM 13.921875 20.90625 \nQ 13.921875 13.671875 16.9375 9.890625 \nQ 19.96875 6.109375 25.6875 6.109375 \nQ 34.1875 6.109375 40.1875 14.234375 \nQ 46.1875 22.359375 46.1875 33.984375 \nQ 46.1875 41.015625 43.078125 44.75 \nQ 39.984375 48.484375 34.1875 48.484375 \nQ 29.9375 48.484375 26.3125 46.5 \nQ 22.703125 44.53125 20.015625 40.71875 \nQ 17.1875 36.71875 15.546875 31.34375 \nQ 13.921875 25.984375 13.921875 20.90625 \nz\n\" id=\"DejaVuSans-Oblique-113\"/>\n     </defs>\n     <g transform=\"translate(36.363136 48.011777)scale(0.1625 -0.1625)\">\n      <use xlink:href=\"#DejaVuSans-Oblique-113\"/>\n      <use transform=\"translate(63.476562 -16.40625)scale(0.7)\" xlink:href=\"#DejaVuSans-48\"/>\n     </g>\n    </g>\n   </g>\n   <g id=\"text_22\">\n    <g clip-path=\"url(#p38cd253e9a)\">\n     <!-- ${q}_{1}$ -->\n     <g transform=\"translate(36.363136 93.462777)scale(0.1625 -0.1625)\">\n      <use xlink:href=\"#DejaVuSans-Oblique-113\"/>\n      <use transform=\"translate(63.476562 -16.40625)scale(0.7)\" xlink:href=\"#DejaVuSans-49\"/>\n     </g>\n    </g>\n   </g>\n   <g id=\"text_23\">\n    <g clip-path=\"url(#p38cd253e9a)\">\n     <!-- ${q}_{2}$ -->\n     <g transform=\"translate(36.363136 138.913777)scale(0.1625 -0.1625)\">\n      <use xlink:href=\"#DejaVuSans-Oblique-113\"/>\n      <use transform=\"translate(63.476562 -16.40625)scale(0.7)\" xlink:href=\"#DejaVuSans-50\"/>\n     </g>\n    </g>\n   </g>\n   <g id=\"text_24\">\n    <g clip-path=\"url(#p38cd253e9a)\">\n     <!-- ${q}_{3}$ -->\n     <defs>\n      <path d=\"M 40.578125 39.3125 \nQ 47.65625 37.796875 51.625 33 \nQ 55.609375 28.21875 55.609375 21.1875 \nQ 55.609375 10.40625 48.1875 4.484375 \nQ 40.765625 -1.421875 27.09375 -1.421875 \nQ 22.515625 -1.421875 17.65625 -0.515625 \nQ 12.796875 0.390625 7.625 2.203125 \nL 7.625 11.71875 \nQ 11.71875 9.328125 16.59375 8.109375 \nQ 21.484375 6.890625 26.8125 6.890625 \nQ 36.078125 6.890625 40.9375 10.546875 \nQ 45.796875 14.203125 45.796875 21.1875 \nQ 45.796875 27.640625 41.28125 31.265625 \nQ 36.765625 34.90625 28.71875 34.90625 \nL 20.21875 34.90625 \nL 20.21875 43.015625 \nL 29.109375 43.015625 \nQ 36.375 43.015625 40.234375 45.921875 \nQ 44.09375 48.828125 44.09375 54.296875 \nQ 44.09375 59.90625 40.109375 62.90625 \nQ 36.140625 65.921875 28.71875 65.921875 \nQ 24.65625 65.921875 20.015625 65.03125 \nQ 15.375 64.15625 9.8125 62.3125 \nL 9.8125 71.09375 \nQ 15.4375 72.65625 20.34375 73.4375 \nQ 25.25 74.21875 29.59375 74.21875 \nQ 40.828125 74.21875 47.359375 69.109375 \nQ 53.90625 64.015625 53.90625 55.328125 \nQ 53.90625 49.265625 50.4375 45.09375 \nQ 46.96875 40.921875 40.578125 39.3125 \nz\n\" id=\"DejaVuSans-51\"/>\n     </defs>\n     <g transform=\"translate(36.363136 184.364777)scale(0.1625 -0.1625)\">\n      <use xlink:href=\"#DejaVuSans-Oblique-113\"/>\n      <use transform=\"translate(63.476562 -16.40625)scale(0.7)\" xlink:href=\"#DejaVuSans-51\"/>\n     </g>\n    </g>\n   </g>\n   <g id=\"text_25\">\n    <g clip-path=\"url(#p38cd253e9a)\">\n     <!-- 3 -->\n     <g transform=\"translate(68.035936 218.656825)scale(0.104 -0.104)\">\n      <use xlink:href=\"#DejaVuSans-51\"/>\n     </g>\n    </g>\n   </g>\n   <g id=\"text_26\">\n    <g clip-path=\"url(#p38cd253e9a)\">\n     <!-- c -->\n     <defs>\n      <path d=\"M 48.78125 52.59375 \nL 48.78125 44.1875 \nQ 44.96875 46.296875 41.140625 47.34375 \nQ 37.3125 48.390625 33.40625 48.390625 \nQ 24.65625 48.390625 19.8125 42.84375 \nQ 14.984375 37.3125 14.984375 27.296875 \nQ 14.984375 17.28125 19.8125 11.734375 \nQ 24.65625 6.203125 33.40625 6.203125 \nQ 37.3125 6.203125 41.140625 7.25 \nQ 44.96875 8.296875 48.78125 10.40625 \nL 48.78125 2.09375 \nQ 45.015625 0.34375 40.984375 -0.53125 \nQ 36.96875 -1.421875 32.421875 -1.421875 \nQ 20.0625 -1.421875 12.78125 6.34375 \nQ 5.515625 14.109375 5.515625 27.296875 \nQ 5.515625 40.671875 12.859375 48.328125 \nQ 20.21875 56 33.015625 56 \nQ 37.15625 56 41.109375 55.140625 \nQ 45.0625 54.296875 48.78125 52.59375 \nz\n\" id=\"DejaVuSans-99\"/>\n     </defs>\n     <g transform=\"translate(45.465675 229.848784)scale(0.1625 -0.1625)\">\n      <use xlink:href=\"#DejaVuSans-99\"/>\n     </g>\n    </g>\n   </g>\n   <g id=\"text_27\">\n    <g clip-path=\"url(#p38cd253e9a)\">\n     <!-- ${q}_{0}$ -->\n     <g transform=\"translate(36.363136 320.717777)scale(0.1625 -0.1625)\">\n      <use xlink:href=\"#DejaVuSans-Oblique-113\"/>\n      <use transform=\"translate(63.476562 -16.40625)scale(0.7)\" xlink:href=\"#DejaVuSans-48\"/>\n     </g>\n    </g>\n   </g>\n   <g id=\"text_28\">\n    <g clip-path=\"url(#p38cd253e9a)\">\n     <!-- ${q}_{1}$ -->\n     <g transform=\"translate(36.363136 366.168777)scale(0.1625 -0.1625)\">\n      <use xlink:href=\"#DejaVuSans-Oblique-113\"/>\n      <use transform=\"translate(63.476562 -16.40625)scale(0.7)\" xlink:href=\"#DejaVuSans-49\"/>\n     </g>\n    </g>\n   </g>\n   <g id=\"text_29\">\n    <g clip-path=\"url(#p38cd253e9a)\">\n     <!-- ${q}_{2}$ -->\n     <g transform=\"translate(36.363136 411.619777)scale(0.1625 -0.1625)\">\n      <use xlink:href=\"#DejaVuSans-Oblique-113\"/>\n      <use transform=\"translate(63.476562 -16.40625)scale(0.7)\" xlink:href=\"#DejaVuSans-50\"/>\n     </g>\n    </g>\n   </g>\n   <g id=\"text_30\">\n    <g clip-path=\"url(#p38cd253e9a)\">\n     <!-- ${q}_{3}$ -->\n     <g transform=\"translate(36.363136 457.070777)scale(0.1625 -0.1625)\">\n      <use xlink:href=\"#DejaVuSans-Oblique-113\"/>\n      <use transform=\"translate(63.476562 -16.40625)scale(0.7)\" xlink:href=\"#DejaVuSans-51\"/>\n     </g>\n    </g>\n   </g>\n   <g id=\"text_31\">\n    <g clip-path=\"url(#p38cd253e9a)\">\n     <!-- 3 -->\n     <g transform=\"translate(68.035936 491.362825)scale(0.104 -0.104)\">\n      <use xlink:href=\"#DejaVuSans-51\"/>\n     </g>\n    </g>\n   </g>\n   <g id=\"text_32\">\n    <g clip-path=\"url(#p38cd253e9a)\">\n     <!-- c -->\n     <g transform=\"translate(45.465675 502.554784)scale(0.1625 -0.1625)\">\n      <use xlink:href=\"#DejaVuSans-99\"/>\n     </g>\n    </g>\n   </g>\n  </g>\n </g>\n <defs>\n  <clipPath id=\"p38cd253e9a\">\n   <rect height=\"518.1414\" width=\"1201.656036\" x=\"7.2\" y=\"7.2\"/>\n  </clipPath>\n </defs>\n</svg>\n",
      "text/plain": [
       "<Figure size 1591.6x686.28 with 1 Axes>"
      ]
     },
     "execution_count": 13,
     "metadata": {},
     "output_type": "execute_result"
    }
   ],
   "source": [
    "qpe.draw()"
   ]
  },
  {
   "cell_type": "code",
   "execution_count": 14,
   "metadata": {
    "tags": [
     "uses-hardware"
    ]
   },
   "outputs": [
    {
     "name": "stdout",
     "output_type": "stream",
     "text": [
      "\r\n",
      "Job Status: job is being validated"
     ]
    },
    {
     "name": "stdout",
     "output_type": "stream",
     "text": [
      "\r\n",
      "Job Status: job is queued (71)    "
     ]
    },
    {
     "name": "stdout",
     "output_type": "stream",
     "text": [
      "\r\n",
      "Job Status: job has successfully run\n"
     ]
    }
   ],
   "source": [
    "IBMQ.load_account()\n",
    "from qiskit.tools.monitor import job_monitor\n",
    "provider = IBMQ.get_provider(hub='ibm-q')\n",
    "santiago = provider.get_backend('ibmq_santiago')\n",
    "\n",
    "# Run with 2048 shots\n",
    "shots = 2048\n",
    "t_qpe = transpile(qpe, santiago, optimization_level=3)\n",
    "job = santiago.run(t_qpe, shots=shots)\n",
    "job_monitor(job)"
   ]
  },
  {
   "cell_type": "code",
   "execution_count": 15,
   "metadata": {
    "tags": [
     "uses-hardware"
    ]
   },
   "outputs": [
    {
     "data": {
      "image/svg+xml": "<?xml version=\"1.0\" encoding=\"utf-8\" standalone=\"no\"?>\n<!DOCTYPE svg PUBLIC \"-//W3C//DTD SVG 1.1//EN\"\n  \"http://www.w3.org/Graphics/SVG/1.1/DTD/svg11.dtd\">\n<!-- Created with matplotlib (https://matplotlib.org/) -->\n<svg height=\"322.945095pt\" version=\"1.1\" viewBox=\"0 0 451.81375 322.945095\" width=\"451.81375pt\" xmlns=\"http://www.w3.org/2000/svg\" xmlns:xlink=\"http://www.w3.org/1999/xlink\">\n <defs>\n  <style type=\"text/css\">\n*{stroke-linecap:butt;stroke-linejoin:round;}\n  </style>\n </defs>\n <g id=\"figure_1\">\n  <g id=\"patch_1\">\n   <path d=\"M 0 322.945095 \nL 451.81375 322.945095 \nL 451.81375 0 \nL 0 0 \nz\n\" style=\"fill:none;\"/>\n  </g>\n  <g id=\"axes_1\">\n   <g id=\"patch_2\">\n    <path d=\"M 54.01375 279 \nL 444.61375 279 \nL 444.61375 7.2 \nL 54.01375 7.2 \nz\n\" style=\"fill:#ffffff;\"/>\n   </g>\n   <g id=\"matplotlib.axis_1\">\n    <g id=\"xtick_1\">\n     <g id=\"line2d_1\">\n      <defs>\n       <path d=\"M 0 0 \nL 0 3.5 \n\" id=\"m353c17cc75\" style=\"stroke:#000000;stroke-width:0.8;\"/>\n      </defs>\n      <g>\n       <use style=\"stroke:#000000;stroke-width:0.8;\" x=\"83.604659\" xlink:href=\"#m353c17cc75\" y=\"279\"/>\n      </g>\n     </g>\n     <g id=\"text_1\">\n      <!-- 000 -->\n      <defs>\n       <path d=\"M 31.78125 66.40625 \nQ 24.171875 66.40625 20.328125 58.90625 \nQ 16.5 51.421875 16.5 36.375 \nQ 16.5 21.390625 20.328125 13.890625 \nQ 24.171875 6.390625 31.78125 6.390625 \nQ 39.453125 6.390625 43.28125 13.890625 \nQ 47.125 21.390625 47.125 36.375 \nQ 47.125 51.421875 43.28125 58.90625 \nQ 39.453125 66.40625 31.78125 66.40625 \nz\nM 31.78125 74.21875 \nQ 44.046875 74.21875 50.515625 64.515625 \nQ 56.984375 54.828125 56.984375 36.375 \nQ 56.984375 17.96875 50.515625 8.265625 \nQ 44.046875 -1.421875 31.78125 -1.421875 \nQ 19.53125 -1.421875 13.0625 8.265625 \nQ 6.59375 17.96875 6.59375 36.375 \nQ 6.59375 54.828125 13.0625 64.515625 \nQ 19.53125 74.21875 31.78125 74.21875 \nz\n\" id=\"DejaVuSans-48\"/>\n      </defs>\n      <g transform=\"translate(82.664993 314.749282)rotate(-70)scale(0.14 -0.14)\">\n       <use xlink:href=\"#DejaVuSans-48\"/>\n       <use x=\"63.623047\" xlink:href=\"#DejaVuSans-48\"/>\n       <use x=\"127.246094\" xlink:href=\"#DejaVuSans-48\"/>\n      </g>\n     </g>\n    </g>\n    <g id=\"xtick_2\">\n     <g id=\"line2d_2\">\n      <g>\n       <use style=\"stroke:#000000;stroke-width:0.8;\" x=\"130.950114\" xlink:href=\"#m353c17cc75\" y=\"279\"/>\n      </g>\n     </g>\n     <g id=\"text_2\">\n      <!-- 001 -->\n      <defs>\n       <path d=\"M 12.40625 8.296875 \nL 28.515625 8.296875 \nL 28.515625 63.921875 \nL 10.984375 60.40625 \nL 10.984375 69.390625 \nL 28.421875 72.90625 \nL 38.28125 72.90625 \nL 38.28125 8.296875 \nL 54.390625 8.296875 \nL 54.390625 0 \nL 12.40625 0 \nz\n\" id=\"DejaVuSans-49\"/>\n      </defs>\n      <g transform=\"translate(130.010447 314.749282)rotate(-70)scale(0.14 -0.14)\">\n       <use xlink:href=\"#DejaVuSans-48\"/>\n       <use x=\"63.623047\" xlink:href=\"#DejaVuSans-48\"/>\n       <use x=\"127.246094\" xlink:href=\"#DejaVuSans-49\"/>\n      </g>\n     </g>\n    </g>\n    <g id=\"xtick_3\">\n     <g id=\"line2d_3\">\n      <g>\n       <use style=\"stroke:#000000;stroke-width:0.8;\" x=\"178.295568\" xlink:href=\"#m353c17cc75\" y=\"279\"/>\n      </g>\n     </g>\n     <g id=\"text_3\">\n      <!-- 010 -->\n      <g transform=\"translate(177.355902 314.749282)rotate(-70)scale(0.14 -0.14)\">\n       <use xlink:href=\"#DejaVuSans-48\"/>\n       <use x=\"63.623047\" xlink:href=\"#DejaVuSans-49\"/>\n       <use x=\"127.246094\" xlink:href=\"#DejaVuSans-48\"/>\n      </g>\n     </g>\n    </g>\n    <g id=\"xtick_4\">\n     <g id=\"line2d_4\">\n      <g>\n       <use style=\"stroke:#000000;stroke-width:0.8;\" x=\"225.641023\" xlink:href=\"#m353c17cc75\" y=\"279\"/>\n      </g>\n     </g>\n     <g id=\"text_4\">\n      <!-- 011 -->\n      <g transform=\"translate(224.701356 314.749282)rotate(-70)scale(0.14 -0.14)\">\n       <use xlink:href=\"#DejaVuSans-48\"/>\n       <use x=\"63.623047\" xlink:href=\"#DejaVuSans-49\"/>\n       <use x=\"127.246094\" xlink:href=\"#DejaVuSans-49\"/>\n      </g>\n     </g>\n    </g>\n    <g id=\"xtick_5\">\n     <g id=\"line2d_5\">\n      <g>\n       <use style=\"stroke:#000000;stroke-width:0.8;\" x=\"272.986477\" xlink:href=\"#m353c17cc75\" y=\"279\"/>\n      </g>\n     </g>\n     <g id=\"text_5\">\n      <!-- 100 -->\n      <g transform=\"translate(272.046811 314.749282)rotate(-70)scale(0.14 -0.14)\">\n       <use xlink:href=\"#DejaVuSans-49\"/>\n       <use x=\"63.623047\" xlink:href=\"#DejaVuSans-48\"/>\n       <use x=\"127.246094\" xlink:href=\"#DejaVuSans-48\"/>\n      </g>\n     </g>\n    </g>\n    <g id=\"xtick_6\">\n     <g id=\"line2d_6\">\n      <g>\n       <use style=\"stroke:#000000;stroke-width:0.8;\" x=\"320.331932\" xlink:href=\"#m353c17cc75\" y=\"279\"/>\n      </g>\n     </g>\n     <g id=\"text_6\">\n      <!-- 101 -->\n      <g transform=\"translate(319.392265 314.749282)rotate(-70)scale(0.14 -0.14)\">\n       <use xlink:href=\"#DejaVuSans-49\"/>\n       <use x=\"63.623047\" xlink:href=\"#DejaVuSans-48\"/>\n       <use x=\"127.246094\" xlink:href=\"#DejaVuSans-49\"/>\n      </g>\n     </g>\n    </g>\n    <g id=\"xtick_7\">\n     <g id=\"line2d_7\">\n      <g>\n       <use style=\"stroke:#000000;stroke-width:0.8;\" x=\"367.677386\" xlink:href=\"#m353c17cc75\" y=\"279\"/>\n      </g>\n     </g>\n     <g id=\"text_7\">\n      <!-- 110 -->\n      <g transform=\"translate(366.73772 314.749282)rotate(-70)scale(0.14 -0.14)\">\n       <use xlink:href=\"#DejaVuSans-49\"/>\n       <use x=\"63.623047\" xlink:href=\"#DejaVuSans-49\"/>\n       <use x=\"127.246094\" xlink:href=\"#DejaVuSans-48\"/>\n      </g>\n     </g>\n    </g>\n    <g id=\"xtick_8\">\n     <g id=\"line2d_8\">\n      <g>\n       <use style=\"stroke:#000000;stroke-width:0.8;\" x=\"415.022841\" xlink:href=\"#m353c17cc75\" y=\"279\"/>\n      </g>\n     </g>\n     <g id=\"text_8\">\n      <!-- 111 -->\n      <g transform=\"translate(414.083174 314.749282)rotate(-70)scale(0.14 -0.14)\">\n       <use xlink:href=\"#DejaVuSans-49\"/>\n       <use x=\"63.623047\" xlink:href=\"#DejaVuSans-49\"/>\n       <use x=\"127.246094\" xlink:href=\"#DejaVuSans-49\"/>\n      </g>\n     </g>\n    </g>\n   </g>\n   <g id=\"matplotlib.axis_2\">\n    <g id=\"ytick_1\">\n     <g id=\"line2d_9\">\n      <path clip-path=\"url(#p0030449308)\" d=\"M 54.01375 279 \nL 444.61375 279 \n\" style=\"fill:none;stroke:#b0b0b0;stroke-dasharray:2.96,1.28;stroke-dashoffset:0;stroke-width:0.8;\"/>\n     </g>\n     <g id=\"line2d_10\">\n      <defs>\n       <path d=\"M 0 0 \nL -3.5 0 \n\" id=\"m292d21f9ab\" style=\"stroke:#000000;stroke-width:0.8;\"/>\n      </defs>\n      <g>\n       <use style=\"stroke:#000000;stroke-width:0.8;\" x=\"54.01375\" xlink:href=\"#m292d21f9ab\" y=\"279\"/>\n      </g>\n     </g>\n     <g id=\"text_9\">\n      <!-- 0.0 -->\n      <defs>\n       <path d=\"M 10.6875 12.40625 \nL 21 12.40625 \nL 21 0 \nL 10.6875 0 \nz\n\" id=\"DejaVuSans-46\"/>\n      </defs>\n      <g transform=\"translate(24.749375 284.318906)scale(0.14 -0.14)\">\n       <use xlink:href=\"#DejaVuSans-48\"/>\n       <use x=\"63.623047\" xlink:href=\"#DejaVuSans-46\"/>\n       <use x=\"95.410156\" xlink:href=\"#DejaVuSans-48\"/>\n      </g>\n     </g>\n    </g>\n    <g id=\"ytick_2\">\n     <g id=\"line2d_11\">\n      <path clip-path=\"url(#p0030449308)\" d=\"M 54.01375 208.125745 \nL 444.61375 208.125745 \n\" style=\"fill:none;stroke:#b0b0b0;stroke-dasharray:2.96,1.28;stroke-dashoffset:0;stroke-width:0.8;\"/>\n     </g>\n     <g id=\"line2d_12\">\n      <g>\n       <use style=\"stroke:#000000;stroke-width:0.8;\" x=\"54.01375\" xlink:href=\"#m292d21f9ab\" y=\"208.125745\"/>\n      </g>\n     </g>\n     <g id=\"text_10\">\n      <!-- 0.2 -->\n      <defs>\n       <path d=\"M 19.1875 8.296875 \nL 53.609375 8.296875 \nL 53.609375 0 \nL 7.328125 0 \nL 7.328125 8.296875 \nQ 12.9375 14.109375 22.625 23.890625 \nQ 32.328125 33.6875 34.8125 36.53125 \nQ 39.546875 41.84375 41.421875 45.53125 \nQ 43.3125 49.21875 43.3125 52.78125 \nQ 43.3125 58.59375 39.234375 62.25 \nQ 35.15625 65.921875 28.609375 65.921875 \nQ 23.96875 65.921875 18.8125 64.3125 \nQ 13.671875 62.703125 7.8125 59.421875 \nL 7.8125 69.390625 \nQ 13.765625 71.78125 18.9375 73 \nQ 24.125 74.21875 28.421875 74.21875 \nQ 39.75 74.21875 46.484375 68.546875 \nQ 53.21875 62.890625 53.21875 53.421875 \nQ 53.21875 48.921875 51.53125 44.890625 \nQ 49.859375 40.875 45.40625 35.40625 \nQ 44.1875 33.984375 37.640625 27.21875 \nQ 31.109375 20.453125 19.1875 8.296875 \nz\n\" id=\"DejaVuSans-50\"/>\n      </defs>\n      <g transform=\"translate(24.749375 213.444651)scale(0.14 -0.14)\">\n       <use xlink:href=\"#DejaVuSans-48\"/>\n       <use x=\"63.623047\" xlink:href=\"#DejaVuSans-46\"/>\n       <use x=\"95.410156\" xlink:href=\"#DejaVuSans-50\"/>\n      </g>\n     </g>\n    </g>\n    <g id=\"ytick_3\">\n     <g id=\"line2d_13\">\n      <path clip-path=\"url(#p0030449308)\" d=\"M 54.01375 137.25149 \nL 444.61375 137.25149 \n\" style=\"fill:none;stroke:#b0b0b0;stroke-dasharray:2.96,1.28;stroke-dashoffset:0;stroke-width:0.8;\"/>\n     </g>\n     <g id=\"line2d_14\">\n      <g>\n       <use style=\"stroke:#000000;stroke-width:0.8;\" x=\"54.01375\" xlink:href=\"#m292d21f9ab\" y=\"137.25149\"/>\n      </g>\n     </g>\n     <g id=\"text_11\">\n      <!-- 0.4 -->\n      <defs>\n       <path d=\"M 37.796875 64.3125 \nL 12.890625 25.390625 \nL 37.796875 25.390625 \nz\nM 35.203125 72.90625 \nL 47.609375 72.90625 \nL 47.609375 25.390625 \nL 58.015625 25.390625 \nL 58.015625 17.1875 \nL 47.609375 17.1875 \nL 47.609375 0 \nL 37.796875 0 \nL 37.796875 17.1875 \nL 4.890625 17.1875 \nL 4.890625 26.703125 \nz\n\" id=\"DejaVuSans-52\"/>\n      </defs>\n      <g transform=\"translate(24.749375 142.570396)scale(0.14 -0.14)\">\n       <use xlink:href=\"#DejaVuSans-48\"/>\n       <use x=\"63.623047\" xlink:href=\"#DejaVuSans-46\"/>\n       <use x=\"95.410156\" xlink:href=\"#DejaVuSans-52\"/>\n      </g>\n     </g>\n    </g>\n    <g id=\"ytick_4\">\n     <g id=\"line2d_15\">\n      <path clip-path=\"url(#p0030449308)\" d=\"M 54.01375 66.377235 \nL 444.61375 66.377235 \n\" style=\"fill:none;stroke:#b0b0b0;stroke-dasharray:2.96,1.28;stroke-dashoffset:0;stroke-width:0.8;\"/>\n     </g>\n     <g id=\"line2d_16\">\n      <g>\n       <use style=\"stroke:#000000;stroke-width:0.8;\" x=\"54.01375\" xlink:href=\"#m292d21f9ab\" y=\"66.377235\"/>\n      </g>\n     </g>\n     <g id=\"text_12\">\n      <!-- 0.6 -->\n      <defs>\n       <path d=\"M 33.015625 40.375 \nQ 26.375 40.375 22.484375 35.828125 \nQ 18.609375 31.296875 18.609375 23.390625 \nQ 18.609375 15.53125 22.484375 10.953125 \nQ 26.375 6.390625 33.015625 6.390625 \nQ 39.65625 6.390625 43.53125 10.953125 \nQ 47.40625 15.53125 47.40625 23.390625 \nQ 47.40625 31.296875 43.53125 35.828125 \nQ 39.65625 40.375 33.015625 40.375 \nz\nM 52.59375 71.296875 \nL 52.59375 62.3125 \nQ 48.875 64.0625 45.09375 64.984375 \nQ 41.3125 65.921875 37.59375 65.921875 \nQ 27.828125 65.921875 22.671875 59.328125 \nQ 17.53125 52.734375 16.796875 39.40625 \nQ 19.671875 43.65625 24.015625 45.921875 \nQ 28.375 48.1875 33.59375 48.1875 \nQ 44.578125 48.1875 50.953125 41.515625 \nQ 57.328125 34.859375 57.328125 23.390625 \nQ 57.328125 12.15625 50.6875 5.359375 \nQ 44.046875 -1.421875 33.015625 -1.421875 \nQ 20.359375 -1.421875 13.671875 8.265625 \nQ 6.984375 17.96875 6.984375 36.375 \nQ 6.984375 53.65625 15.1875 63.9375 \nQ 23.390625 74.21875 37.203125 74.21875 \nQ 40.921875 74.21875 44.703125 73.484375 \nQ 48.484375 72.75 52.59375 71.296875 \nz\n\" id=\"DejaVuSans-54\"/>\n      </defs>\n      <g transform=\"translate(24.749375 71.696141)scale(0.14 -0.14)\">\n       <use xlink:href=\"#DejaVuSans-48\"/>\n       <use x=\"63.623047\" xlink:href=\"#DejaVuSans-46\"/>\n       <use x=\"95.410156\" xlink:href=\"#DejaVuSans-54\"/>\n      </g>\n     </g>\n    </g>\n    <g id=\"text_13\">\n     <!-- Probabilities -->\n     <defs>\n      <path d=\"M 19.671875 64.796875 \nL 19.671875 37.40625 \nL 32.078125 37.40625 \nQ 38.96875 37.40625 42.71875 40.96875 \nQ 46.484375 44.53125 46.484375 51.125 \nQ 46.484375 57.671875 42.71875 61.234375 \nQ 38.96875 64.796875 32.078125 64.796875 \nz\nM 9.8125 72.90625 \nL 32.078125 72.90625 \nQ 44.34375 72.90625 50.609375 67.359375 \nQ 56.890625 61.8125 56.890625 51.125 \nQ 56.890625 40.328125 50.609375 34.8125 \nQ 44.34375 29.296875 32.078125 29.296875 \nL 19.671875 29.296875 \nL 19.671875 0 \nL 9.8125 0 \nz\n\" id=\"DejaVuSans-80\"/>\n      <path d=\"M 41.109375 46.296875 \nQ 39.59375 47.171875 37.8125 47.578125 \nQ 36.03125 48 33.890625 48 \nQ 26.265625 48 22.1875 43.046875 \nQ 18.109375 38.09375 18.109375 28.8125 \nL 18.109375 0 \nL 9.078125 0 \nL 9.078125 54.6875 \nL 18.109375 54.6875 \nL 18.109375 46.1875 \nQ 20.953125 51.171875 25.484375 53.578125 \nQ 30.03125 56 36.53125 56 \nQ 37.453125 56 38.578125 55.875 \nQ 39.703125 55.765625 41.0625 55.515625 \nz\n\" id=\"DejaVuSans-114\"/>\n      <path d=\"M 30.609375 48.390625 \nQ 23.390625 48.390625 19.1875 42.75 \nQ 14.984375 37.109375 14.984375 27.296875 \nQ 14.984375 17.484375 19.15625 11.84375 \nQ 23.34375 6.203125 30.609375 6.203125 \nQ 37.796875 6.203125 41.984375 11.859375 \nQ 46.1875 17.53125 46.1875 27.296875 \nQ 46.1875 37.015625 41.984375 42.703125 \nQ 37.796875 48.390625 30.609375 48.390625 \nz\nM 30.609375 56 \nQ 42.328125 56 49.015625 48.375 \nQ 55.71875 40.765625 55.71875 27.296875 \nQ 55.71875 13.875 49.015625 6.21875 \nQ 42.328125 -1.421875 30.609375 -1.421875 \nQ 18.84375 -1.421875 12.171875 6.21875 \nQ 5.515625 13.875 5.515625 27.296875 \nQ 5.515625 40.765625 12.171875 48.375 \nQ 18.84375 56 30.609375 56 \nz\n\" id=\"DejaVuSans-111\"/>\n      <path d=\"M 48.6875 27.296875 \nQ 48.6875 37.203125 44.609375 42.84375 \nQ 40.53125 48.484375 33.40625 48.484375 \nQ 26.265625 48.484375 22.1875 42.84375 \nQ 18.109375 37.203125 18.109375 27.296875 \nQ 18.109375 17.390625 22.1875 11.75 \nQ 26.265625 6.109375 33.40625 6.109375 \nQ 40.53125 6.109375 44.609375 11.75 \nQ 48.6875 17.390625 48.6875 27.296875 \nz\nM 18.109375 46.390625 \nQ 20.953125 51.265625 25.265625 53.625 \nQ 29.59375 56 35.59375 56 \nQ 45.5625 56 51.78125 48.09375 \nQ 58.015625 40.1875 58.015625 27.296875 \nQ 58.015625 14.40625 51.78125 6.484375 \nQ 45.5625 -1.421875 35.59375 -1.421875 \nQ 29.59375 -1.421875 25.265625 0.953125 \nQ 20.953125 3.328125 18.109375 8.203125 \nL 18.109375 0 \nL 9.078125 0 \nL 9.078125 75.984375 \nL 18.109375 75.984375 \nz\n\" id=\"DejaVuSans-98\"/>\n      <path d=\"M 34.28125 27.484375 \nQ 23.390625 27.484375 19.1875 25 \nQ 14.984375 22.515625 14.984375 16.5 \nQ 14.984375 11.71875 18.140625 8.90625 \nQ 21.296875 6.109375 26.703125 6.109375 \nQ 34.1875 6.109375 38.703125 11.40625 \nQ 43.21875 16.703125 43.21875 25.484375 \nL 43.21875 27.484375 \nz\nM 52.203125 31.203125 \nL 52.203125 0 \nL 43.21875 0 \nL 43.21875 8.296875 \nQ 40.140625 3.328125 35.546875 0.953125 \nQ 30.953125 -1.421875 24.3125 -1.421875 \nQ 15.921875 -1.421875 10.953125 3.296875 \nQ 6 8.015625 6 15.921875 \nQ 6 25.140625 12.171875 29.828125 \nQ 18.359375 34.515625 30.609375 34.515625 \nL 43.21875 34.515625 \nL 43.21875 35.40625 \nQ 43.21875 41.609375 39.140625 45 \nQ 35.0625 48.390625 27.6875 48.390625 \nQ 23 48.390625 18.546875 47.265625 \nQ 14.109375 46.140625 10.015625 43.890625 \nL 10.015625 52.203125 \nQ 14.9375 54.109375 19.578125 55.046875 \nQ 24.21875 56 28.609375 56 \nQ 40.484375 56 46.34375 49.84375 \nQ 52.203125 43.703125 52.203125 31.203125 \nz\n\" id=\"DejaVuSans-97\"/>\n      <path d=\"M 9.421875 54.6875 \nL 18.40625 54.6875 \nL 18.40625 0 \nL 9.421875 0 \nz\nM 9.421875 75.984375 \nL 18.40625 75.984375 \nL 18.40625 64.59375 \nL 9.421875 64.59375 \nz\n\" id=\"DejaVuSans-105\"/>\n      <path d=\"M 9.421875 75.984375 \nL 18.40625 75.984375 \nL 18.40625 0 \nL 9.421875 0 \nz\n\" id=\"DejaVuSans-108\"/>\n      <path d=\"M 18.3125 70.21875 \nL 18.3125 54.6875 \nL 36.8125 54.6875 \nL 36.8125 47.703125 \nL 18.3125 47.703125 \nL 18.3125 18.015625 \nQ 18.3125 11.328125 20.140625 9.421875 \nQ 21.96875 7.515625 27.59375 7.515625 \nL 36.8125 7.515625 \nL 36.8125 0 \nL 27.59375 0 \nQ 17.1875 0 13.234375 3.875 \nQ 9.28125 7.765625 9.28125 18.015625 \nL 9.28125 47.703125 \nL 2.6875 47.703125 \nL 2.6875 54.6875 \nL 9.28125 54.6875 \nL 9.28125 70.21875 \nz\n\" id=\"DejaVuSans-116\"/>\n      <path d=\"M 56.203125 29.59375 \nL 56.203125 25.203125 \nL 14.890625 25.203125 \nQ 15.484375 15.921875 20.484375 11.0625 \nQ 25.484375 6.203125 34.421875 6.203125 \nQ 39.59375 6.203125 44.453125 7.46875 \nQ 49.3125 8.734375 54.109375 11.28125 \nL 54.109375 2.78125 \nQ 49.265625 0.734375 44.1875 -0.34375 \nQ 39.109375 -1.421875 33.890625 -1.421875 \nQ 20.796875 -1.421875 13.15625 6.1875 \nQ 5.515625 13.8125 5.515625 26.8125 \nQ 5.515625 40.234375 12.765625 48.109375 \nQ 20.015625 56 32.328125 56 \nQ 43.359375 56 49.78125 48.890625 \nQ 56.203125 41.796875 56.203125 29.59375 \nz\nM 47.21875 32.234375 \nQ 47.125 39.59375 43.09375 43.984375 \nQ 39.0625 48.390625 32.421875 48.390625 \nQ 24.90625 48.390625 20.390625 44.140625 \nQ 15.875 39.890625 15.1875 32.171875 \nz\n\" id=\"DejaVuSans-101\"/>\n      <path d=\"M 44.28125 53.078125 \nL 44.28125 44.578125 \nQ 40.484375 46.53125 36.375 47.5 \nQ 32.28125 48.484375 27.875 48.484375 \nQ 21.1875 48.484375 17.84375 46.4375 \nQ 14.5 44.390625 14.5 40.28125 \nQ 14.5 37.15625 16.890625 35.375 \nQ 19.28125 33.59375 26.515625 31.984375 \nL 29.59375 31.296875 \nQ 39.15625 29.25 43.1875 25.515625 \nQ 47.21875 21.78125 47.21875 15.09375 \nQ 47.21875 7.46875 41.1875 3.015625 \nQ 35.15625 -1.421875 24.609375 -1.421875 \nQ 20.21875 -1.421875 15.453125 -0.5625 \nQ 10.6875 0.296875 5.421875 2 \nL 5.421875 11.28125 \nQ 10.40625 8.6875 15.234375 7.390625 \nQ 20.0625 6.109375 24.8125 6.109375 \nQ 31.15625 6.109375 34.5625 8.28125 \nQ 37.984375 10.453125 37.984375 14.40625 \nQ 37.984375 18.0625 35.515625 20.015625 \nQ 33.0625 21.96875 24.703125 23.78125 \nL 21.578125 24.515625 \nQ 13.234375 26.265625 9.515625 29.90625 \nQ 5.8125 33.546875 5.8125 39.890625 \nQ 5.8125 47.609375 11.28125 51.796875 \nQ 16.75 56 26.8125 56 \nQ 31.78125 56 36.171875 55.265625 \nQ 40.578125 54.546875 44.28125 53.078125 \nz\n\" id=\"DejaVuSans-115\"/>\n     </defs>\n     <g transform=\"translate(17.837813 185.855781)rotate(-90)scale(0.14 -0.14)\">\n      <use xlink:href=\"#DejaVuSans-80\"/>\n      <use x=\"58.552734\" xlink:href=\"#DejaVuSans-114\"/>\n      <use x=\"97.416016\" xlink:href=\"#DejaVuSans-111\"/>\n      <use x=\"158.597656\" xlink:href=\"#DejaVuSans-98\"/>\n      <use x=\"222.074219\" xlink:href=\"#DejaVuSans-97\"/>\n      <use x=\"283.353516\" xlink:href=\"#DejaVuSans-98\"/>\n      <use x=\"346.830078\" xlink:href=\"#DejaVuSans-105\"/>\n      <use x=\"374.613281\" xlink:href=\"#DejaVuSans-108\"/>\n      <use x=\"402.396484\" xlink:href=\"#DejaVuSans-105\"/>\n      <use x=\"430.179688\" xlink:href=\"#DejaVuSans-116\"/>\n      <use x=\"469.388672\" xlink:href=\"#DejaVuSans-105\"/>\n      <use x=\"497.171875\" xlink:href=\"#DejaVuSans-101\"/>\n      <use x=\"558.695312\" xlink:href=\"#DejaVuSans-115\"/>\n     </g>\n    </g>\n   </g>\n   <g id=\"patch_3\">\n    <path clip-path=\"url(#p0030449308)\" d=\"M 71.768295 279 \nL 95.441023 279 \nL 95.441023 245.777693 \nL 71.768295 245.777693 \nz\n\" style=\"fill:#648fff;\"/>\n   </g>\n   <g id=\"patch_4\">\n    <path clip-path=\"url(#p0030449308)\" d=\"M 119.11375 279 \nL 142.786477 279 \nL 142.786477 52.5 \nL 119.11375 52.5 \nz\n\" style=\"fill:#648fff;\"/>\n   </g>\n   <g id=\"patch_5\">\n    <path clip-path=\"url(#p0030449308)\" d=\"M 166.459205 279 \nL 190.131932 279 \nL 190.131932 265.330405 \nL 166.459205 265.330405 \nz\n\" style=\"fill:#648fff;\"/>\n   </g>\n   <g id=\"patch_6\">\n    <path clip-path=\"url(#p0030449308)\" d=\"M 213.804659 279 \nL 237.477386 279 \nL 237.477386 265.503438 \nL 213.804659 265.503438 \nz\n\" style=\"fill:#648fff;\"/>\n   </g>\n   <g id=\"patch_7\">\n    <path clip-path=\"url(#p0030449308)\" d=\"M 261.150114 279 \nL 284.822841 279 \nL 284.822841 270.002292 \nL 261.150114 270.002292 \nz\n\" style=\"fill:#648fff;\"/>\n   </g>\n   <g id=\"patch_8\">\n    <path clip-path=\"url(#p0030449308)\" d=\"M 308.495568 279 \nL 332.168295 279 \nL 332.168295 240.75974 \nL 308.495568 240.75974 \nz\n\" style=\"fill:#648fff;\"/>\n   </g>\n   <g id=\"patch_9\">\n    <path clip-path=\"url(#p0030449308)\" d=\"M 355.841023 279 \nL 379.51375 279 \nL 379.51375 272.597785 \nL 355.841023 272.597785 \nz\n\" style=\"fill:#648fff;\"/>\n   </g>\n   <g id=\"patch_10\">\n    <path clip-path=\"url(#p0030449308)\" d=\"M 403.186477 279 \nL 426.859205 279 \nL 426.859205 265.157372 \nL 403.186477 265.157372 \nz\n\" style=\"fill:#648fff;\"/>\n   </g>\n   <g id=\"patch_11\">\n    <path d=\"M 54.01375 279 \nL 54.01375 7.2 \n\" style=\"fill:none;stroke:#000000;stroke-linecap:square;stroke-linejoin:miter;stroke-width:0.8;\"/>\n   </g>\n   <g id=\"patch_12\">\n    <path d=\"M 444.61375 279 \nL 444.61375 7.2 \n\" style=\"fill:none;stroke:#000000;stroke-linecap:square;stroke-linejoin:miter;stroke-width:0.8;\"/>\n   </g>\n   <g id=\"patch_13\">\n    <path d=\"M 54.01375 279 \nL 444.61375 279 \n\" style=\"fill:none;stroke:#000000;stroke-linecap:square;stroke-linejoin:miter;stroke-width:0.8;\"/>\n   </g>\n   <g id=\"patch_14\">\n    <path d=\"M 54.01375 7.2 \nL 444.61375 7.2 \n\" style=\"fill:none;stroke:#000000;stroke-linecap:square;stroke-linejoin:miter;stroke-width:0.8;\"/>\n   </g>\n   <g id=\"text_14\">\n    <!-- 0.094 -->\n    <defs>\n     <path d=\"M 10.984375 1.515625 \nL 10.984375 10.5 \nQ 14.703125 8.734375 18.5 7.8125 \nQ 22.3125 6.890625 25.984375 6.890625 \nQ 35.75 6.890625 40.890625 13.453125 \nQ 46.046875 20.015625 46.78125 33.40625 \nQ 43.953125 29.203125 39.59375 26.953125 \nQ 35.25 24.703125 29.984375 24.703125 \nQ 19.046875 24.703125 12.671875 31.3125 \nQ 6.296875 37.9375 6.296875 49.421875 \nQ 6.296875 60.640625 12.9375 67.421875 \nQ 19.578125 74.21875 30.609375 74.21875 \nQ 43.265625 74.21875 49.921875 64.515625 \nQ 56.59375 54.828125 56.59375 36.375 \nQ 56.59375 19.140625 48.40625 8.859375 \nQ 40.234375 -1.421875 26.421875 -1.421875 \nQ 22.703125 -1.421875 18.890625 -0.6875 \nQ 15.09375 0.046875 10.984375 1.515625 \nz\nM 30.609375 32.421875 \nQ 37.25 32.421875 41.125 36.953125 \nQ 45.015625 41.5 45.015625 49.421875 \nQ 45.015625 57.28125 41.125 61.84375 \nQ 37.25 66.40625 30.609375 66.40625 \nQ 23.96875 66.40625 20.09375 61.84375 \nQ 16.21875 57.28125 16.21875 49.421875 \nQ 16.21875 41.5 20.09375 36.953125 \nQ 23.96875 32.421875 30.609375 32.421875 \nz\n\" id=\"DejaVuSans-57\"/>\n    </defs>\n    <g transform=\"translate(69.290597 242.03689)scale(0.1 -0.1)\">\n     <use xlink:href=\"#DejaVuSans-48\"/>\n     <use x=\"63.623047\" xlink:href=\"#DejaVuSans-46\"/>\n     <use x=\"95.410156\" xlink:href=\"#DejaVuSans-48\"/>\n     <use x=\"159.033203\" xlink:href=\"#DejaVuSans-57\"/>\n     <use x=\"222.65625\" xlink:href=\"#DejaVuSans-52\"/>\n    </g>\n   </g>\n   <g id=\"text_15\">\n    <!-- 0.639 -->\n    <defs>\n     <path d=\"M 40.578125 39.3125 \nQ 47.65625 37.796875 51.625 33 \nQ 55.609375 28.21875 55.609375 21.1875 \nQ 55.609375 10.40625 48.1875 4.484375 \nQ 40.765625 -1.421875 27.09375 -1.421875 \nQ 22.515625 -1.421875 17.65625 -0.515625 \nQ 12.796875 0.390625 7.625 2.203125 \nL 7.625 11.71875 \nQ 11.71875 9.328125 16.59375 8.109375 \nQ 21.484375 6.890625 26.8125 6.890625 \nQ 36.078125 6.890625 40.9375 10.546875 \nQ 45.796875 14.203125 45.796875 21.1875 \nQ 45.796875 27.640625 41.28125 31.265625 \nQ 36.765625 34.90625 28.71875 34.90625 \nL 20.21875 34.90625 \nL 20.21875 43.015625 \nL 29.109375 43.015625 \nQ 36.375 43.015625 40.234375 45.921875 \nQ 44.09375 48.828125 44.09375 54.296875 \nQ 44.09375 59.90625 40.109375 62.90625 \nQ 36.140625 65.921875 28.71875 65.921875 \nQ 24.65625 65.921875 20.015625 65.03125 \nQ 15.375 64.15625 9.8125 62.3125 \nL 9.8125 71.09375 \nQ 15.4375 72.65625 20.34375 73.4375 \nQ 25.25 74.21875 29.59375 74.21875 \nQ 40.828125 74.21875 47.359375 69.109375 \nQ 53.90625 64.015625 53.90625 55.328125 \nQ 53.90625 49.265625 50.4375 45.09375 \nQ 46.96875 40.921875 40.578125 39.3125 \nz\n\" id=\"DejaVuSans-51\"/>\n    </defs>\n    <g transform=\"translate(116.636051 39.095313)scale(0.1 -0.1)\">\n     <use xlink:href=\"#DejaVuSans-48\"/>\n     <use x=\"63.623047\" xlink:href=\"#DejaVuSans-46\"/>\n     <use x=\"95.410156\" xlink:href=\"#DejaVuSans-54\"/>\n     <use x=\"159.033203\" xlink:href=\"#DejaVuSans-51\"/>\n     <use x=\"222.65625\" xlink:href=\"#DejaVuSans-57\"/>\n    </g>\n   </g>\n   <g id=\"text_16\">\n    <!-- 0.039 -->\n    <g transform=\"translate(163.981506 262.567238)scale(0.1 -0.1)\">\n     <use xlink:href=\"#DejaVuSans-48\"/>\n     <use x=\"63.623047\" xlink:href=\"#DejaVuSans-46\"/>\n     <use x=\"95.410156\" xlink:href=\"#DejaVuSans-48\"/>\n     <use x=\"159.033203\" xlink:href=\"#DejaVuSans-51\"/>\n     <use x=\"222.65625\" xlink:href=\"#DejaVuSans-57\"/>\n    </g>\n   </g>\n   <g id=\"text_17\">\n    <!-- 0.038 -->\n    <defs>\n     <path d=\"M 31.78125 34.625 \nQ 24.75 34.625 20.71875 30.859375 \nQ 16.703125 27.09375 16.703125 20.515625 \nQ 16.703125 13.921875 20.71875 10.15625 \nQ 24.75 6.390625 31.78125 6.390625 \nQ 38.8125 6.390625 42.859375 10.171875 \nQ 46.921875 13.96875 46.921875 20.515625 \nQ 46.921875 27.09375 42.890625 30.859375 \nQ 38.875 34.625 31.78125 34.625 \nz\nM 21.921875 38.8125 \nQ 15.578125 40.375 12.03125 44.71875 \nQ 8.5 49.078125 8.5 55.328125 \nQ 8.5 64.0625 14.71875 69.140625 \nQ 20.953125 74.21875 31.78125 74.21875 \nQ 42.671875 74.21875 48.875 69.140625 \nQ 55.078125 64.0625 55.078125 55.328125 \nQ 55.078125 49.078125 51.53125 44.71875 \nQ 48 40.375 41.703125 38.8125 \nQ 48.828125 37.15625 52.796875 32.3125 \nQ 56.78125 27.484375 56.78125 20.515625 \nQ 56.78125 9.90625 50.3125 4.234375 \nQ 43.84375 -1.421875 31.78125 -1.421875 \nQ 19.734375 -1.421875 13.25 4.234375 \nQ 6.78125 9.90625 6.78125 20.515625 \nQ 6.78125 27.484375 10.78125 32.3125 \nQ 14.796875 37.15625 21.921875 38.8125 \nz\nM 18.3125 54.390625 \nQ 18.3125 48.734375 21.84375 45.5625 \nQ 25.390625 42.390625 31.78125 42.390625 \nQ 38.140625 42.390625 41.71875 45.5625 \nQ 45.3125 48.734375 45.3125 54.390625 \nQ 45.3125 60.0625 41.71875 63.234375 \nQ 38.140625 66.40625 31.78125 66.40625 \nQ 25.390625 66.40625 21.84375 63.234375 \nQ 18.3125 60.0625 18.3125 54.390625 \nz\n\" id=\"DejaVuSans-56\"/>\n    </defs>\n    <g transform=\"translate(211.32696 262.748922)scale(0.1 -0.1)\">\n     <use xlink:href=\"#DejaVuSans-48\"/>\n     <use x=\"63.623047\" xlink:href=\"#DejaVuSans-46\"/>\n     <use x=\"95.410156\" xlink:href=\"#DejaVuSans-48\"/>\n     <use x=\"159.033203\" xlink:href=\"#DejaVuSans-51\"/>\n     <use x=\"222.65625\" xlink:href=\"#DejaVuSans-56\"/>\n    </g>\n   </g>\n   <g id=\"text_18\">\n    <!-- 0.025 -->\n    <defs>\n     <path d=\"M 10.796875 72.90625 \nL 49.515625 72.90625 \nL 49.515625 64.59375 \nL 19.828125 64.59375 \nL 19.828125 46.734375 \nQ 21.96875 47.46875 24.109375 47.828125 \nQ 26.265625 48.1875 28.421875 48.1875 \nQ 40.625 48.1875 47.75 41.5 \nQ 54.890625 34.8125 54.890625 23.390625 \nQ 54.890625 11.625 47.5625 5.09375 \nQ 40.234375 -1.421875 26.90625 -1.421875 \nQ 22.3125 -1.421875 17.546875 -0.640625 \nQ 12.796875 0.140625 7.71875 1.703125 \nL 7.71875 11.625 \nQ 12.109375 9.234375 16.796875 8.0625 \nQ 21.484375 6.890625 26.703125 6.890625 \nQ 35.15625 6.890625 40.078125 11.328125 \nQ 45.015625 15.765625 45.015625 23.390625 \nQ 45.015625 31 40.078125 35.4375 \nQ 35.15625 39.890625 26.703125 39.890625 \nQ 22.75 39.890625 18.8125 39.015625 \nQ 14.890625 38.140625 10.796875 36.28125 \nz\n\" id=\"DejaVuSans-53\"/>\n    </defs>\n    <g transform=\"translate(258.672415 267.472719)scale(0.1 -0.1)\">\n     <use xlink:href=\"#DejaVuSans-48\"/>\n     <use x=\"63.623047\" xlink:href=\"#DejaVuSans-46\"/>\n     <use x=\"95.410156\" xlink:href=\"#DejaVuSans-48\"/>\n     <use x=\"159.033203\" xlink:href=\"#DejaVuSans-50\"/>\n     <use x=\"222.65625\" xlink:href=\"#DejaVuSans-53\"/>\n    </g>\n   </g>\n   <g id=\"text_19\">\n    <!-- 0.108 -->\n    <g transform=\"translate(306.017869 236.76804)scale(0.1 -0.1)\">\n     <use xlink:href=\"#DejaVuSans-48\"/>\n     <use x=\"63.623047\" xlink:href=\"#DejaVuSans-46\"/>\n     <use x=\"95.410156\" xlink:href=\"#DejaVuSans-49\"/>\n     <use x=\"159.033203\" xlink:href=\"#DejaVuSans-48\"/>\n     <use x=\"222.65625\" xlink:href=\"#DejaVuSans-56\"/>\n    </g>\n   </g>\n   <g id=\"text_20\">\n    <!-- 0.018 -->\n    <g transform=\"translate(353.363324 270.197986)scale(0.1 -0.1)\">\n     <use xlink:href=\"#DejaVuSans-48\"/>\n     <use x=\"63.623047\" xlink:href=\"#DejaVuSans-46\"/>\n     <use x=\"95.410156\" xlink:href=\"#DejaVuSans-48\"/>\n     <use x=\"159.033203\" xlink:href=\"#DejaVuSans-49\"/>\n     <use x=\"222.65625\" xlink:href=\"#DejaVuSans-56\"/>\n    </g>\n   </g>\n   <g id=\"text_21\">\n    <!-- 0.039 -->\n    <g transform=\"translate(400.708778 262.385553)scale(0.1 -0.1)\">\n     <use xlink:href=\"#DejaVuSans-48\"/>\n     <use x=\"63.623047\" xlink:href=\"#DejaVuSans-46\"/>\n     <use x=\"95.410156\" xlink:href=\"#DejaVuSans-48\"/>\n     <use x=\"159.033203\" xlink:href=\"#DejaVuSans-51\"/>\n     <use x=\"222.65625\" xlink:href=\"#DejaVuSans-57\"/>\n    </g>\n   </g>\n  </g>\n </g>\n <defs>\n  <clipPath id=\"p0030449308\">\n   <rect height=\"271.8\" width=\"390.6\" x=\"54.01375\" y=\"7.2\"/>\n  </clipPath>\n </defs>\n</svg>\n",
      "text/plain": [
       "<Figure size 504x360 with 1 Axes>"
      ]
     },
     "execution_count": 15,
     "metadata": {},
     "output_type": "execute_result"
    }
   ],
   "source": [
    "# get the results from the computation\n",
    "results = job.result()\n",
    "answer = results.get_counts(qpe)\n",
    "\n",
    "plot_histogram(answer)"
   ]
  },
  {
   "cell_type": "markdown",
   "metadata": {},
   "source": [
    "We can hopefully see that the most likely result is `001` which is the result we would expect from the simulator. Unlike the simulator, there is a probability of measuring something other than `001`, this is due to noise and gate errors in the quantum computer."
   ]
  },
  {
   "cell_type": "markdown",
   "metadata": {},
   "source": [
    "## 5. Exercises <a id='exercises'></a>\n",
    "1. Try the experiments above with different gates ($\\text{CNOT}$, Controlled-$S$, Controlled-$T^\\dagger$), what results do you expect? What results do you get?\n",
    "\n",
    "2. Try the experiment with a Controlled-$Y$-gate, do you get the result you expected? (Hint: Remember to make sure $|\\psi\\rangle$ is an eigenstate of $Y$!)\n"
   ]
  },
  {
   "cell_type": "markdown",
   "metadata": {},
   "source": [
    "## 6. Looking Forward <a id='looking_forward'></a>\n",
    "\n",
    "The quantum phase estimation algorithm may seem pointless, since we have to know $\\theta$ to perform the controlled-$U$ operations on our quantum computer. We will see in later chapters that it is possible to create circuits for which we don’t know $\\theta$, and for which learning theta can tell us something very useful (most famously how to factor a number!)"
   ]
  },
  {
   "cell_type": "markdown",
   "metadata": {},
   "source": [
    "## 7. References <a id='references'></a>\n",
    "\n",
    "[1] Michael A. Nielsen and Isaac L. Chuang. 2011. Quantum Computation and Quantum Information: 10th Anniversary Edition (10th ed.). Cambridge University Press, New York, NY, USA. "
   ]
  },
  {
   "cell_type": "markdown",
   "metadata": {},
   "source": [
    "## 8. Contributors <a id='contributors'></a>\n",
    "03/20/2020 — Hwajung Kang (@HwajungKang) — Fixed inconsistencies with qubit ordering"
   ]
  },
  {
   "cell_type": "code",
   "execution_count": 16,
   "metadata": {},
   "outputs": [
    {
     "data": {
      "text/html": [
       "<h3>Version Information</h3><table><tr><th>Qiskit Software</th><th>Version</th></tr><tr><td>Qiskit</td><td>0.27.0</td></tr><tr><td>Terra</td><td>0.17.4</td></tr><tr><td>Aer</td><td>0.8.2</td></tr><tr><td>Ignis</td><td>0.6.0</td></tr><tr><td>Aqua</td><td>0.9.2</td></tr><tr><td>IBM Q Provider</td><td>0.14.0</td></tr><tr><th>System information</th></tr><tr><td>Python</td><td>3.7.7 (default, May  6 2020, 04:59:01) \n",
       "[Clang 4.0.1 (tags/RELEASE_401/final)]</td></tr><tr><td>OS</td><td>Darwin</td></tr><tr><td>CPUs</td><td>8</td></tr><tr><td>Memory (Gb)</td><td>32.0</td></tr><tr><td colspan='2'>Wed Jun 16 09:47:53 2021 BST</td></tr></table>"
      ],
      "text/plain": [
       "<IPython.core.display.HTML object>"
      ]
     },
     "metadata": {},
     "output_type": "display_data"
    }
   ],
   "source": [
    "import qiskit.tools.jupyter\n",
    "%qiskit_version_table"
   ]
  }
 ],
 "metadata": {
  "kernelspec": {
   "display_name": "Python 3",
   "language": "python",
   "name": "python3"
  },
  "language_info": {
   "codemirror_mode": {
    "name": "ipython",
    "version": 3
   },
   "file_extension": ".py",
   "mimetype": "text/x-python",
   "name": "python",
   "nbconvert_exporter": "python",
   "pygments_lexer": "ipython3",
   "version": "3.9.7"
  },
  "widgets": {
   "application/vnd.jupyter.widget-state+json": {
    "state": {
     "07f0e836222e49189a78da4ad1ab61eb": {
      "model_module": "@jupyter-widgets/controls",
      "model_module_version": "1.5.0",
      "model_name": "DescriptionStyleModel",
      "state": {
       "_model_module": "@jupyter-widgets/controls",
       "_model_module_version": "1.5.0",
       "_model_name": "DescriptionStyleModel",
       "_view_count": null,
       "_view_module": "@jupyter-widgets/base",
       "_view_module_version": "1.2.0",
       "_view_name": "StyleView",
       "description_width": ""
      }
     },
     "0f48781a41674f44a4f5bde26b188510": {
      "model_module": "@jupyter-widgets/controls",
      "model_module_version": "1.5.0",
      "model_name": "HTMLModel",
      "state": {
       "_dom_classes": [],
       "_model_module": "@jupyter-widgets/controls",
       "_model_module_version": "1.5.0",
       "_model_name": "HTMLModel",
       "_view_count": null,
       "_view_module": "@jupyter-widgets/controls",
       "_view_module_version": "1.5.0",
       "_view_name": "HTMLView",
       "description": "",
       "description_tooltip": null,
       "layout": "IPY_MODEL_63b91dd0550a4e8db275d8ad7659e662",
       "placeholder": "​",
       "style": "IPY_MODEL_e4ec412806c246f3bf544d989b36134d",
       "value": "<h5>Message</h5>"
      }
     },
     "103cabc5b6394597bb2c186f98da18b5": {
      "model_module": "@jupyter-widgets/controls",
      "model_module_version": "1.5.0",
      "model_name": "DescriptionStyleModel",
      "state": {
       "_model_module": "@jupyter-widgets/controls",
       "_model_module_version": "1.5.0",
       "_model_name": "DescriptionStyleModel",
       "_view_count": null,
       "_view_module": "@jupyter-widgets/base",
       "_view_module_version": "1.2.0",
       "_view_name": "StyleView",
       "description_width": ""
      }
     },
     "14756e0d1d2a428b933633d1a1b3a140": {
      "model_module": "@jupyter-widgets/base",
      "model_module_version": "1.2.0",
      "model_name": "LayoutModel",
      "state": {
       "_model_module": "@jupyter-widgets/base",
       "_model_module_version": "1.2.0",
       "_model_name": "LayoutModel",
       "_view_count": null,
       "_view_module": "@jupyter-widgets/base",
       "_view_module_version": "1.2.0",
       "_view_name": "LayoutView",
       "align_content": null,
       "align_items": null,
       "align_self": null,
       "border": null,
       "bottom": null,
       "display": null,
       "flex": null,
       "flex_flow": null,
       "grid_area": null,
       "grid_auto_columns": null,
       "grid_auto_flow": null,
       "grid_auto_rows": null,
       "grid_column": null,
       "grid_gap": null,
       "grid_row": null,
       "grid_template_areas": null,
       "grid_template_columns": null,
       "grid_template_rows": null,
       "height": null,
       "justify_content": null,
       "justify_items": null,
       "left": null,
       "margin": null,
       "max_height": null,
       "max_width": null,
       "min_height": null,
       "min_width": null,
       "object_fit": null,
       "object_position": null,
       "order": null,
       "overflow": null,
       "overflow_x": null,
       "overflow_y": null,
       "padding": null,
       "right": null,
       "top": null,
       "visibility": null,
       "width": "70px"
      }
     },
     "1991e250972a41c4955d1222dc335b4e": {
      "model_module": "@jupyter-widgets/controls",
      "model_module_version": "1.5.0",
      "model_name": "DescriptionStyleModel",
      "state": {
       "_model_module": "@jupyter-widgets/controls",
       "_model_module_version": "1.5.0",
       "_model_name": "DescriptionStyleModel",
       "_view_count": null,
       "_view_module": "@jupyter-widgets/base",
       "_view_module_version": "1.2.0",
       "_view_name": "StyleView",
       "description_width": ""
      }
     },
     "1e0e4503010c482cb2a84c9fd0bfba0e": {
      "model_module": "@jupyter-widgets/base",
      "model_module_version": "1.2.0",
      "model_name": "LayoutModel",
      "state": {
       "_model_module": "@jupyter-widgets/base",
       "_model_module_version": "1.2.0",
       "_model_name": "LayoutModel",
       "_view_count": null,
       "_view_module": "@jupyter-widgets/base",
       "_view_module_version": "1.2.0",
       "_view_name": "LayoutView",
       "align_content": null,
       "align_items": null,
       "align_self": null,
       "border": null,
       "bottom": null,
       "display": null,
       "flex": null,
       "flex_flow": null,
       "grid_area": null,
       "grid_auto_columns": null,
       "grid_auto_flow": null,
       "grid_auto_rows": null,
       "grid_column": null,
       "grid_gap": null,
       "grid_row": null,
       "grid_template_areas": null,
       "grid_template_columns": null,
       "grid_template_rows": null,
       "height": null,
       "justify_content": null,
       "justify_items": null,
       "left": null,
       "margin": null,
       "max_height": null,
       "max_width": null,
       "min_height": null,
       "min_width": null,
       "object_fit": null,
       "object_position": null,
       "order": null,
       "overflow": null,
       "overflow_x": null,
       "overflow_y": null,
       "padding": null,
       "right": null,
       "top": null,
       "visibility": null,
       "width": "95px"
      }
     },
     "2b52a7a26e5c48fda6003715c49bcce6": {
      "model_module": "@jupyter-widgets/base",
      "model_module_version": "1.2.0",
      "model_name": "LayoutModel",
      "state": {
       "_model_module": "@jupyter-widgets/base",
       "_model_module_version": "1.2.0",
       "_model_name": "LayoutModel",
       "_view_count": null,
       "_view_module": "@jupyter-widgets/base",
       "_view_module_version": "1.2.0",
       "_view_name": "LayoutView",
       "align_content": null,
       "align_items": null,
       "align_self": null,
       "border": null,
       "bottom": null,
       "display": null,
       "flex": null,
       "flex_flow": null,
       "grid_area": null,
       "grid_auto_columns": null,
       "grid_auto_flow": null,
       "grid_auto_rows": null,
       "grid_column": null,
       "grid_gap": null,
       "grid_row": null,
       "grid_template_areas": null,
       "grid_template_columns": null,
       "grid_template_rows": null,
       "height": null,
       "justify_content": null,
       "justify_items": null,
       "left": null,
       "margin": null,
       "max_height": null,
       "max_width": null,
       "min_height": null,
       "min_width": null,
       "object_fit": null,
       "object_position": null,
       "order": null,
       "overflow": null,
       "overflow_x": null,
       "overflow_y": null,
       "padding": null,
       "right": null,
       "top": null,
       "visibility": null,
       "width": "145px"
      }
     },
     "2e19ccaf078d4497a503388c6c308cd9": {
      "model_module": "@jupyter-widgets/controls",
      "model_module_version": "1.5.0",
      "model_name": "HTMLModel",
      "state": {
       "_dom_classes": [],
       "_model_module": "@jupyter-widgets/controls",
       "_model_module_version": "1.5.0",
       "_model_name": "HTMLModel",
       "_view_count": null,
       "_view_module": "@jupyter-widgets/controls",
       "_view_module_version": "1.5.0",
       "_view_name": "HTMLView",
       "description": "",
       "description_tooltip": null,
       "layout": "IPY_MODEL_2b52a7a26e5c48fda6003715c49bcce6",
       "placeholder": "​",
       "style": "IPY_MODEL_103cabc5b6394597bb2c186f98da18b5",
       "value": "<h5>Backend</h5>"
      }
     },
     "4582b9816b7c42548186dff868a7696e": {
      "model_module": "@jupyter-widgets/controls",
      "model_module_version": "1.5.0",
      "model_name": "HBoxModel",
      "state": {
       "_dom_classes": [],
       "_model_module": "@jupyter-widgets/controls",
       "_model_module_version": "1.5.0",
       "_model_name": "HBoxModel",
       "_view_count": null,
       "_view_module": "@jupyter-widgets/controls",
       "_view_module_version": "1.5.0",
       "_view_name": "HBoxView",
       "box_style": "",
       "children": [
        "IPY_MODEL_5c25562365e04e80bc284f15f805476d",
        "IPY_MODEL_2e19ccaf078d4497a503388c6c308cd9",
        "IPY_MODEL_7fae6301bcb0440588f449c90b4d069f",
        "IPY_MODEL_98a594ee115a4b4a8eb448db8d509287",
        "IPY_MODEL_0f48781a41674f44a4f5bde26b188510"
       ],
       "layout": "IPY_MODEL_d666b2739d53425d9a4c7c84cd4ded08"
      }
     },
     "49dcf6d010844c2caef76ca86bfd07c9": {
      "model_module": "@jupyter-widgets/controls",
      "model_module_version": "1.5.0",
      "model_name": "ButtonModel",
      "state": {
       "_dom_classes": [],
       "_model_module": "@jupyter-widgets/controls",
       "_model_module_version": "1.5.0",
       "_model_name": "ButtonModel",
       "_view_count": null,
       "_view_module": "@jupyter-widgets/controls",
       "_view_module_version": "1.5.0",
       "_view_name": "ButtonView",
       "button_style": "primary",
       "description": "Clear",
       "disabled": false,
       "icon": "",
       "layout": "IPY_MODEL_aaaa53c544b743a080bb74ad3bd9a33b",
       "style": "IPY_MODEL_d8e2c5ccd95549b2801c90eadf292e93",
       "tooltip": ""
      }
     },
     "4c9bf8524ba8439b938ee806c74f376f": {
      "model_module": "@jupyter-widgets/base",
      "model_module_version": "1.2.0",
      "model_name": "LayoutModel",
      "state": {
       "_model_module": "@jupyter-widgets/base",
       "_model_module_version": "1.2.0",
       "_model_name": "LayoutModel",
       "_view_count": null,
       "_view_module": "@jupyter-widgets/base",
       "_view_module_version": "1.2.0",
       "_view_name": "LayoutView",
       "align_content": null,
       "align_items": null,
       "align_self": null,
       "border": null,
       "bottom": null,
       "display": null,
       "flex": null,
       "flex_flow": null,
       "grid_area": null,
       "grid_auto_columns": null,
       "grid_auto_flow": null,
       "grid_auto_rows": null,
       "grid_column": null,
       "grid_gap": null,
       "grid_row": null,
       "grid_template_areas": null,
       "grid_template_columns": null,
       "grid_template_rows": null,
       "height": null,
       "justify_content": null,
       "justify_items": null,
       "left": null,
       "margin": null,
       "max_height": null,
       "max_width": null,
       "min_height": null,
       "min_width": null,
       "object_fit": null,
       "object_position": null,
       "order": null,
       "overflow": null,
       "overflow_x": null,
       "overflow_y": null,
       "padding": null,
       "right": null,
       "top": null,
       "visibility": null,
       "width": "190px"
      }
     },
     "4dd30bcccd1a49f5b18b9272e1778cfd": {
      "model_module": "@jupyter-widgets/controls",
      "model_module_version": "1.5.0",
      "model_name": "HTMLModel",
      "state": {
       "_dom_classes": [],
       "_model_module": "@jupyter-widgets/controls",
       "_model_module_version": "1.5.0",
       "_model_name": "HTMLModel",
       "_view_count": null,
       "_view_module": "@jupyter-widgets/controls",
       "_view_module_version": "1.5.0",
       "_view_name": "HTMLView",
       "description": "",
       "description_tooltip": null,
       "layout": "IPY_MODEL_53b5f87f07e7467aabce79da8e2d3fa4",
       "placeholder": "​",
       "style": "IPY_MODEL_7f9d35e7d46d4ab08dacdf8fec2995a4",
       "value": "<p style='font-family: IBM Plex Sans, Arial, Helvetica, sans-serif; font-size: 20px; font-weight: medium;'>Circuit Properties</p>"
      }
     },
     "53b5f87f07e7467aabce79da8e2d3fa4": {
      "model_module": "@jupyter-widgets/base",
      "model_module_version": "1.2.0",
      "model_name": "LayoutModel",
      "state": {
       "_model_module": "@jupyter-widgets/base",
       "_model_module_version": "1.2.0",
       "_model_name": "LayoutModel",
       "_view_count": null,
       "_view_module": "@jupyter-widgets/base",
       "_view_module_version": "1.2.0",
       "_view_name": "LayoutView",
       "align_content": null,
       "align_items": null,
       "align_self": null,
       "border": null,
       "bottom": null,
       "display": null,
       "flex": null,
       "flex_flow": null,
       "grid_area": null,
       "grid_auto_columns": null,
       "grid_auto_flow": null,
       "grid_auto_rows": null,
       "grid_column": null,
       "grid_gap": null,
       "grid_row": null,
       "grid_template_areas": null,
       "grid_template_columns": null,
       "grid_template_rows": null,
       "height": null,
       "justify_content": null,
       "justify_items": null,
       "left": null,
       "margin": "0px 0px 10px 0px",
       "max_height": null,
       "max_width": null,
       "min_height": null,
       "min_width": null,
       "object_fit": null,
       "object_position": null,
       "order": null,
       "overflow": null,
       "overflow_x": null,
       "overflow_y": null,
       "padding": null,
       "right": null,
       "top": null,
       "visibility": null,
       "width": null
      }
     },
     "5c25562365e04e80bc284f15f805476d": {
      "model_module": "@jupyter-widgets/controls",
      "model_module_version": "1.5.0",
      "model_name": "HTMLModel",
      "state": {
       "_dom_classes": [],
       "_model_module": "@jupyter-widgets/controls",
       "_model_module_version": "1.5.0",
       "_model_name": "HTMLModel",
       "_view_count": null,
       "_view_module": "@jupyter-widgets/controls",
       "_view_module_version": "1.5.0",
       "_view_name": "HTMLView",
       "description": "",
       "description_tooltip": null,
       "layout": "IPY_MODEL_4c9bf8524ba8439b938ee806c74f376f",
       "placeholder": "​",
       "style": "IPY_MODEL_1991e250972a41c4955d1222dc335b4e",
       "value": "<h5>Job ID</h5>"
      }
     },
     "63b91dd0550a4e8db275d8ad7659e662": {
      "model_module": "@jupyter-widgets/base",
      "model_module_version": "1.2.0",
      "model_name": "LayoutModel",
      "state": {
       "_model_module": "@jupyter-widgets/base",
       "_model_module_version": "1.2.0",
       "_model_name": "LayoutModel",
       "_view_count": null,
       "_view_module": "@jupyter-widgets/base",
       "_view_module_version": "1.2.0",
       "_view_name": "LayoutView",
       "align_content": null,
       "align_items": null,
       "align_self": null,
       "border": null,
       "bottom": null,
       "display": null,
       "flex": null,
       "flex_flow": null,
       "grid_area": null,
       "grid_auto_columns": null,
       "grid_auto_flow": null,
       "grid_auto_rows": null,
       "grid_column": null,
       "grid_gap": null,
       "grid_row": null,
       "grid_template_areas": null,
       "grid_template_columns": null,
       "grid_template_rows": null,
       "height": null,
       "justify_content": null,
       "justify_items": null,
       "left": null,
       "margin": null,
       "max_height": null,
       "max_width": null,
       "min_height": null,
       "min_width": null,
       "object_fit": null,
       "object_position": null,
       "order": null,
       "overflow": null,
       "overflow_x": null,
       "overflow_y": null,
       "padding": null,
       "right": null,
       "top": null,
       "visibility": null,
       "width": null
      }
     },
     "7f9d35e7d46d4ab08dacdf8fec2995a4": {
      "model_module": "@jupyter-widgets/controls",
      "model_module_version": "1.5.0",
      "model_name": "DescriptionStyleModel",
      "state": {
       "_model_module": "@jupyter-widgets/controls",
       "_model_module_version": "1.5.0",
       "_model_name": "DescriptionStyleModel",
       "_view_count": null,
       "_view_module": "@jupyter-widgets/base",
       "_view_module_version": "1.2.0",
       "_view_name": "StyleView",
       "description_width": ""
      }
     },
     "7fae6301bcb0440588f449c90b4d069f": {
      "model_module": "@jupyter-widgets/controls",
      "model_module_version": "1.5.0",
      "model_name": "HTMLModel",
      "state": {
       "_dom_classes": [],
       "_model_module": "@jupyter-widgets/controls",
       "_model_module_version": "1.5.0",
       "_model_name": "HTMLModel",
       "_view_count": null,
       "_view_module": "@jupyter-widgets/controls",
       "_view_module_version": "1.5.0",
       "_view_name": "HTMLView",
       "description": "",
       "description_tooltip": null,
       "layout": "IPY_MODEL_1e0e4503010c482cb2a84c9fd0bfba0e",
       "placeholder": "​",
       "style": "IPY_MODEL_f105131cff8a404099d0ac36e3d2d728",
       "value": "<h5>Status</h5>"
      }
     },
     "98a594ee115a4b4a8eb448db8d509287": {
      "model_module": "@jupyter-widgets/controls",
      "model_module_version": "1.5.0",
      "model_name": "HTMLModel",
      "state": {
       "_dom_classes": [],
       "_model_module": "@jupyter-widgets/controls",
       "_model_module_version": "1.5.0",
       "_model_name": "HTMLModel",
       "_view_count": null,
       "_view_module": "@jupyter-widgets/controls",
       "_view_module_version": "1.5.0",
       "_view_name": "HTMLView",
       "description": "",
       "description_tooltip": null,
       "layout": "IPY_MODEL_14756e0d1d2a428b933633d1a1b3a140",
       "placeholder": "​",
       "style": "IPY_MODEL_07f0e836222e49189a78da4ad1ab61eb",
       "value": "<h5>Queue</h5>"
      }
     },
     "aaaa53c544b743a080bb74ad3bd9a33b": {
      "model_module": "@jupyter-widgets/base",
      "model_module_version": "1.2.0",
      "model_name": "LayoutModel",
      "state": {
       "_model_module": "@jupyter-widgets/base",
       "_model_module_version": "1.2.0",
       "_model_name": "LayoutModel",
       "_view_count": null,
       "_view_module": "@jupyter-widgets/base",
       "_view_module_version": "1.2.0",
       "_view_name": "LayoutView",
       "align_content": null,
       "align_items": null,
       "align_self": null,
       "border": null,
       "bottom": null,
       "display": null,
       "flex": null,
       "flex_flow": null,
       "grid_area": "right",
       "grid_auto_columns": null,
       "grid_auto_flow": null,
       "grid_auto_rows": null,
       "grid_column": null,
       "grid_gap": null,
       "grid_row": null,
       "grid_template_areas": null,
       "grid_template_columns": null,
       "grid_template_rows": null,
       "height": null,
       "justify_content": null,
       "justify_items": null,
       "left": null,
       "margin": null,
       "max_height": null,
       "max_width": null,
       "min_height": null,
       "min_width": null,
       "object_fit": null,
       "object_position": null,
       "order": null,
       "overflow": null,
       "overflow_x": null,
       "overflow_y": null,
       "padding": "0px 0px 0px 0px",
       "right": null,
       "top": null,
       "visibility": null,
       "width": "70px"
      }
     },
     "ab77ef29af284d5788ab21b3457d5816": {
      "model_module": "@jupyter-widgets/base",
      "model_module_version": "1.2.0",
      "model_name": "LayoutModel",
      "state": {
       "_model_module": "@jupyter-widgets/base",
       "_model_module_version": "1.2.0",
       "_model_name": "LayoutModel",
       "_view_count": null,
       "_view_module": "@jupyter-widgets/base",
       "_view_module_version": "1.2.0",
       "_view_name": "LayoutView",
       "align_content": null,
       "align_items": null,
       "align_self": null,
       "border": null,
       "bottom": null,
       "display": null,
       "flex": null,
       "flex_flow": null,
       "grid_area": null,
       "grid_auto_columns": null,
       "grid_auto_flow": null,
       "grid_auto_rows": null,
       "grid_column": null,
       "grid_gap": null,
       "grid_row": null,
       "grid_template_areas": "\n                                       \". . . . right \"\n                                        ",
       "grid_template_columns": "20% 20% 20% 20% 20%",
       "grid_template_rows": null,
       "height": null,
       "justify_content": null,
       "justify_items": null,
       "left": null,
       "margin": null,
       "max_height": null,
       "max_width": null,
       "min_height": null,
       "min_width": null,
       "object_fit": null,
       "object_position": null,
       "order": null,
       "overflow": null,
       "overflow_x": null,
       "overflow_y": null,
       "padding": null,
       "right": null,
       "top": null,
       "visibility": null,
       "width": "100%"
      }
     },
     "c1aa5b4059074fc0b64f998c909f4f6a": {
      "model_module": "@jupyter-widgets/controls",
      "model_module_version": "1.5.0",
      "model_name": "GridBoxModel",
      "state": {
       "_dom_classes": [],
       "_model_module": "@jupyter-widgets/controls",
       "_model_module_version": "1.5.0",
       "_model_name": "GridBoxModel",
       "_view_count": null,
       "_view_module": "@jupyter-widgets/controls",
       "_view_module_version": "1.5.0",
       "_view_name": "GridBoxView",
       "box_style": "",
       "children": [
        "IPY_MODEL_49dcf6d010844c2caef76ca86bfd07c9"
       ],
       "layout": "IPY_MODEL_ab77ef29af284d5788ab21b3457d5816"
      }
     },
     "d666b2739d53425d9a4c7c84cd4ded08": {
      "model_module": "@jupyter-widgets/base",
      "model_module_version": "1.2.0",
      "model_name": "LayoutModel",
      "state": {
       "_model_module": "@jupyter-widgets/base",
       "_model_module_version": "1.2.0",
       "_model_name": "LayoutModel",
       "_view_count": null,
       "_view_module": "@jupyter-widgets/base",
       "_view_module_version": "1.2.0",
       "_view_name": "LayoutView",
       "align_content": null,
       "align_items": null,
       "align_self": null,
       "border": null,
       "bottom": null,
       "display": null,
       "flex": null,
       "flex_flow": null,
       "grid_area": null,
       "grid_auto_columns": null,
       "grid_auto_flow": null,
       "grid_auto_rows": null,
       "grid_column": null,
       "grid_gap": null,
       "grid_row": null,
       "grid_template_areas": null,
       "grid_template_columns": null,
       "grid_template_rows": null,
       "height": null,
       "justify_content": null,
       "justify_items": null,
       "left": null,
       "margin": "0px 0px 0px 37px",
       "max_height": null,
       "max_width": null,
       "min_height": null,
       "min_width": null,
       "object_fit": null,
       "object_position": null,
       "order": null,
       "overflow": null,
       "overflow_x": null,
       "overflow_y": null,
       "padding": null,
       "right": null,
       "top": null,
       "visibility": null,
       "width": "600px"
      }
     },
     "d8e2c5ccd95549b2801c90eadf292e93": {
      "model_module": "@jupyter-widgets/controls",
      "model_module_version": "1.5.0",
      "model_name": "ButtonStyleModel",
      "state": {
       "_model_module": "@jupyter-widgets/controls",
       "_model_module_version": "1.5.0",
       "_model_name": "ButtonStyleModel",
       "_view_count": null,
       "_view_module": "@jupyter-widgets/base",
       "_view_module_version": "1.2.0",
       "_view_name": "StyleView",
       "button_color": null,
       "font_weight": ""
      }
     },
     "e4ec412806c246f3bf544d989b36134d": {
      "model_module": "@jupyter-widgets/controls",
      "model_module_version": "1.5.0",
      "model_name": "DescriptionStyleModel",
      "state": {
       "_model_module": "@jupyter-widgets/controls",
       "_model_module_version": "1.5.0",
       "_model_name": "DescriptionStyleModel",
       "_view_count": null,
       "_view_module": "@jupyter-widgets/base",
       "_view_module_version": "1.2.0",
       "_view_name": "StyleView",
       "description_width": ""
      }
     },
     "f105131cff8a404099d0ac36e3d2d728": {
      "model_module": "@jupyter-widgets/controls",
      "model_module_version": "1.5.0",
      "model_name": "DescriptionStyleModel",
      "state": {
       "_model_module": "@jupyter-widgets/controls",
       "_model_module_version": "1.5.0",
       "_model_name": "DescriptionStyleModel",
       "_view_count": null,
       "_view_module": "@jupyter-widgets/base",
       "_view_module_version": "1.2.0",
       "_view_name": "StyleView",
       "description_width": ""
      }
     }
    },
    "version_major": 2,
    "version_minor": 0
   }
  }
 },
 "nbformat": 4,
 "nbformat_minor": 4
}
